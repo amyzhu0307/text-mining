{
 "cells": [
  {
   "cell_type": "markdown",
   "metadata": {},
   "source": [
    "# Text Mining for DSC Segment"
   ]
  },
  {
   "cell_type": "markdown",
   "metadata": {},
   "source": [
    "### Data Preparation"
   ]
  },
  {
   "cell_type": "code",
   "execution_count": 2,
   "metadata": {},
   "outputs": [],
   "source": [
    "import pandas as pd\n",
    "import numpy as np\n",
    "from sklearn.feature_extraction.text import TfidfVectorizer\n",
    "from sklearn.feature_extraction.text import TfidfTransformer\n",
    "from sklearn.linear_model import LogisticRegression\n",
    "from sklearn import preprocessing\n",
    "from sklearn.feature_extraction.text import CountVectorizer\n",
    "import matplotlib.pyplot as plt\n",
    "from sklearn.model_selection import train_test_split"
   ]
  },
  {
   "cell_type": "code",
   "execution_count": 22,
   "metadata": {},
   "outputs": [
    {
     "name": "stderr",
     "output_type": "stream",
     "text": [
      "[nltk_data] Downloading package stopwords to\n",
      "[nltk_data]     C:\\Users\\jzhu\\AppData\\Roaming\\nltk_data...\n",
      "[nltk_data]   Package stopwords is already up-to-date!\n"
     ]
    }
   ],
   "source": [
    "import re\n",
    "import string\n",
    "import nltk\n",
    "nltk.download('stopwords')\n",
    "from nltk.corpus import stopwords\n",
    "from nltk.stem import PorterStemmer"
   ]
  },
  {
   "cell_type": "code",
   "execution_count": 4,
   "metadata": {},
   "outputs": [],
   "source": [
    "# Import data file\n",
    "raw=pd.read_csv(\"0712 DSC SEG - Copy.csv\")"
   ]
  },
  {
   "cell_type": "code",
   "execution_count": 5,
   "metadata": {},
   "outputs": [
    {
     "data": {
      "text/plain": [
       "Unnamed: 0                  0\n",
       "loan_id                     0\n",
       "charge_off_type             0\n",
       "charge_off_d                0\n",
       "product                     0\n",
       "charge_off_gross_bal        0\n",
       "charge_off_month            0\n",
       "grade                       0\n",
       "term                        0\n",
       "three_month_repayment    1837\n",
       "six_month_repayment      3932\n",
       "nine_month_repayment     6192\n",
       "comments                   69\n",
       "numb_of_comments           65\n",
       "dtype: int64"
      ]
     },
     "execution_count": 5,
     "metadata": {},
     "output_type": "execute_result"
    }
   ],
   "source": [
    "# Examine NAs\n",
    "raw.isnull().sum()"
   ]
  },
  {
   "cell_type": "code",
   "execution_count": 6,
   "metadata": {},
   "outputs": [
    {
     "name": "stdout",
     "output_type": "stream",
     "text": [
      "3993 rows were dropped.\n"
     ]
    }
   ],
   "source": [
    "# Remove rows with NA in comments and prin_paid\n",
    "modifiedRaw = raw.dropna(subset = ['comments', 'six_month_repayment']) \n",
    "print raw.shape[0]-modifiedRaw.shape[0], 'rows were dropped.'"
   ]
  },
  {
   "cell_type": "code",
   "execution_count": 7,
   "metadata": {},
   "outputs": [
    {
     "data": {
      "text/plain": [
       "Unnamed: 0                  0\n",
       "loan_id                     0\n",
       "charge_off_type             0\n",
       "charge_off_d                0\n",
       "product                     0\n",
       "charge_off_gross_bal        0\n",
       "charge_off_month            0\n",
       "grade                       0\n",
       "term                        0\n",
       "three_month_repayment       0\n",
       "six_month_repayment         0\n",
       "nine_month_repayment     2251\n",
       "comments                    0\n",
       "numb_of_comments            0\n",
       "dtype: int64"
      ]
     },
     "execution_count": 7,
     "metadata": {},
     "output_type": "execute_result"
    }
   ],
   "source": [
    "modifiedRaw.isnull().sum()"
   ]
  },
  {
   "cell_type": "code",
   "execution_count": 8,
   "metadata": {},
   "outputs": [
    {
     "name": "stderr",
     "output_type": "stream",
     "text": [
      "C:\\Users\\jzhu\\AppData\\Local\\Continuum\\anaconda2\\envs\\py2\\lib\\site-packages\\ipykernel_launcher.py:2: SettingWithCopyWarning: \n",
      "A value is trying to be set on a copy of a slice from a DataFrame.\n",
      "Try using .loc[row_indexer,col_indexer] = value instead\n",
      "\n",
      "See the caveats in the documentation: http://pandas.pydata.org/pandas-docs/stable/indexing.html#indexing-view-versus-copy\n",
      "  \n",
      "C:\\Users\\jzhu\\AppData\\Local\\Continuum\\anaconda2\\envs\\py2\\lib\\site-packages\\ipykernel_launcher.py:3: SettingWithCopyWarning: \n",
      "A value is trying to be set on a copy of a slice from a DataFrame.\n",
      "Try using .loc[row_indexer,col_indexer] = value instead\n",
      "\n",
      "See the caveats in the documentation: http://pandas.pydata.org/pandas-docs/stable/indexing.html#indexing-view-versus-copy\n",
      "  This is separate from the ipykernel package so we can avoid doing imports until\n",
      "C:\\Users\\jzhu\\AppData\\Local\\Continuum\\anaconda2\\envs\\py2\\lib\\site-packages\\ipykernel_launcher.py:4: SettingWithCopyWarning: \n",
      "A value is trying to be set on a copy of a slice from a DataFrame.\n",
      "Try using .loc[row_indexer,col_indexer] = value instead\n",
      "\n",
      "See the caveats in the documentation: http://pandas.pydata.org/pandas-docs/stable/indexing.html#indexing-view-versus-copy\n",
      "  after removing the cwd from sys.path.\n"
     ]
    }
   ],
   "source": [
    "# Add dollar percent recovered in three month, six month, nine month as attributes\n",
    "modifiedRaw['percent_recovered_three_month'] = modifiedRaw['three_month_repayment']/modifiedRaw['charge_off_gross_bal']\n",
    "modifiedRaw['percent_recovered_six_month'] = modifiedRaw['six_month_repayment']/modifiedRaw['charge_off_gross_bal']\n",
    "modifiedRaw['percent_recovered_nine_month'] = modifiedRaw['nine_month_repayment']/modifiedRaw['charge_off_gross_bal']"
   ]
  },
  {
   "cell_type": "code",
   "execution_count": 9,
   "metadata": {},
   "outputs": [],
   "source": [
    "# Selecting on prime and near prime\n",
    "##prime = modifiedRaw['product'] =='Prime'\n",
    "##nearprime = modifiedRaw['product'] == 'Near Prime'\n",
    "##modifiedRaw = modifiedRaw[prime | nearprime]"
   ]
  },
  {
   "cell_type": "code",
   "execution_count": 10,
   "metadata": {},
   "outputs": [
    {
     "data": {
      "text/plain": [
       "(16117, 17)"
      ]
     },
     "execution_count": 10,
     "metadata": {},
     "output_type": "execute_result"
    }
   ],
   "source": [
    "# Select only observations with six_month_repayment non-negative\n",
    "modifiedRaw = modifiedRaw[modifiedRaw['six_month_repayment']>-0.0001]\n",
    "modifiedRaw.shape"
   ]
  },
  {
   "cell_type": "markdown",
   "metadata": {},
   "source": [
    "# Descriptive Analysis"
   ]
  },
  {
   "cell_type": "code",
   "execution_count": 11,
   "metadata": {},
   "outputs": [],
   "source": [
    "count_zero_repay = modifiedRaw.groupby('six_month_repayment').loan_id.count()[0]#number of loan_id having 0 paid back amount"
   ]
  },
  {
   "cell_type": "code",
   "execution_count": 14,
   "metadata": {},
   "outputs": [
    {
     "name": "stdout",
     "output_type": "stream",
     "text": [
      "The six-month unit bad rate is 0.480672581746\n",
      "The six-month unit recovery rate is 0.519327418254\n"
     ]
    }
   ],
   "source": [
    "float((count_zero_repay+0.00)/modifiedRaw.shape[0]) # 48% bad rate\n",
    "print 'The six-month unit bad rate is', float((count_zero_repay+0.00)/modifiedRaw.shape[0])\n",
    "print 'The six-month unit recovery rate is', 1 - float((count_zero_repay +0.00)/modifiedRaw.shape[0])"
   ]
  },
  {
   "cell_type": "code",
   "execution_count": 15,
   "metadata": {},
   "outputs": [
    {
     "name": "stdout",
     "output_type": "stream",
     "text": [
      "Overall six-month recovered dollar percentage is 0.059683958532\n"
     ]
    }
   ],
   "source": [
    "a = sum(modifiedRaw['six_month_repayment'])/sum(modifiedRaw['charge_off_gross_bal']) # overall recovered dollar percentage\n",
    "print'Overall six-month recovered dollar percentage is', a"
   ]
  },
  {
   "cell_type": "code",
   "execution_count": 16,
   "metadata": {},
   "outputs": [],
   "source": [
    "#import matplotlib.pyplot as plt\n",
    "#plt.hist(modifiedRaw['six_month_repayment'], color = 'blue', edgecolor = 'black', bins = int(11000/1), density = True)\n",
    "#plt.xlim([0, 15000])\n",
    "#plt.ylim([0, 0.001])"
   ]
  },
  {
   "cell_type": "code",
   "execution_count": 17,
   "metadata": {},
   "outputs": [
    {
     "data": {
      "text/plain": [
       "<matplotlib.axes._subplots.AxesSubplot at 0x131be588>"
      ]
     },
     "execution_count": 17,
     "metadata": {},
     "output_type": "execute_result"
    },
    {
     "data": {
      "image/png": "[encoded data removed]",
      "text/plain": [
       "<Figure size 432x288 with 1 Axes>"
      ]
     },
     "metadata": {
      "needs_background": "light"
     },
     "output_type": "display_data"
    }
   ],
   "source": [
    "import seaborn as sns\n",
    "# Density Plot of dollars repaid\n",
    "sns.distplot(modifiedRaw['six_month_repayment'], hist=False, kde=True, \n",
    "             bins=int(180/5), color = 'darkblue', \n",
    "             hist_kws={'edgecolor':'black'},\n",
    "             kde_kws={'linewidth': 1})"
   ]
  },
  {
   "cell_type": "markdown",
   "metadata": {},
   "source": [
    "# Text Processing"
   ]
  },
  {
   "cell_type": "code",
   "execution_count": 565,
   "metadata": {},
   "outputs": [
    {
     "name": "stderr",
     "output_type": "stream",
     "text": [
      "[nltk_data] Downloading package words to\n",
      "[nltk_data]     C:\\Users\\jzhu\\AppData\\Roaming\\nltk_data...\n",
      "[nltk_data]   Package words is already up-to-date!\n"
     ]
    }
   ],
   "source": [
    "# Process text\n",
    "nltk.download('words')\n",
    "from nltk.corpus import words\n",
    "words = set(nltk.corpus.words.words())\n",
    "def get_stemmed_text(text):\n",
    "    text = text.lower() # lowercase\n",
    "    text = re.sub(\"<!--?.*?-->\",\"\",text) # removetags\n",
    "    text = re.sub(\"(\\\\d|\\\\W)+\",\" \",text) # remove special characters and digits\n",
    "    text = text.replace('[^\\w\\s]','') # remove punctuation\n",
    "    text = re.sub(\" \\d+\", \" \", text)\n",
    "    stemmer = PorterStemmer() # stemming\n",
    "    return stemmer.stem(text)"
   ]
  },
  {
   "cell_type": "code",
   "execution_count": 566,
   "metadata": {},
   "outputs": [],
   "source": [
    "modifiedRaw['comments'] = modifiedRaw['comments'].apply(lambda x:get_stemmed_text(x))"
   ]
  },
  {
   "cell_type": "code",
   "execution_count": 18,
   "metadata": {},
   "outputs": [
    {
     "data": {
      "text/plain": [
       "'\"4802523662\",\"8014626394\",\"Called 4802523662- AP2- FV: BR was adv taht $356.28 is still due and I asked if she has a pmt in the mail to date. The BR adv that she is working with Freedom Debt Relief (916) 649-3802; 4940 S Wendler Dr #101 Tempe, AZ 85282; Agent: Ronald Combs- I advs of neg reporting thru 120 days past due and adv that we have not gotten any info/pmt from them to date. \",\"sip:(801)462-6394 (DNC) // SW BR (unverified), no time to speak // Asked that we not contact her at work // Updated contact info // Adv of PS phone number and office hours\",\"4802523662\",\"8014626394\",\"4802523662\",\"8014626394\",\"Collection email sent to borrower: Account is past due\",\"4802523662\",\"Collection email sent to borrower: Initial payment reminder\",null,\"4802523662\",\"4802523662\",\"4802523662\",\"(480)252-3662 BR req to opt out of ACH pmts and make check pmts - adv no billing statements she is going to set up bill pay adv $7 service fee - VCI \"'"
      ]
     },
     "execution_count": 18,
     "metadata": {},
     "output_type": "execute_result"
    }
   ],
   "source": [
    "# See one example\n",
    "modifiedRaw['comments'].iloc[100]"
   ]
  },
  {
   "cell_type": "code",
   "execution_count": 23,
   "metadata": {},
   "outputs": [
    {
     "name": "stderr",
     "output_type": "stream",
     "text": [
      "[nltk_data] Downloading package words to\n",
      "[nltk_data]     C:\\Users\\jzhu\\AppData\\Roaming\\nltk_data...\n",
      "[nltk_data]   Package words is already up-to-date!\n"
     ]
    }
   ],
   "source": [
    "# remove words with no meaning\n",
    "nltk.download('words')\n",
    "from nltk.corpus import words\n",
    "from nltk.tokenize import sent_tokenize, word_tokenize \n",
    "words = set(nltk.corpus.words.words())\n",
    "def remove_nonsense_word(text):\n",
    "    return \" \".join(w for w in word_tokenize(text) if w in words)"
   ]
  },
  {
   "cell_type": "code",
   "execution_count": 24,
   "metadata": {},
   "outputs": [],
   "source": [
    "modifiedRaw['comments'] = modifiedRaw['comments'].apply(lambda x:remove_nonsense_word(x))"
   ]
  },
  {
   "cell_type": "code",
   "execution_count": 25,
   "metadata": {},
   "outputs": [
    {
     "data": {
      "text/plain": [
       "'was is still due and I if she a in the mail to date The that she is working with S Tempe Ronald I of days past due and that we have not gotten any from them to date sip unverified no time to speak that we not contact her at work contact of phone number and office sent to borrower is past due sent to borrower payment reminder null to opt out of and make check no billing she is going to set up bill pay service fee'"
      ]
     },
     "execution_count": 25,
     "metadata": {},
     "output_type": "execute_result"
    }
   ],
   "source": [
    "# See the example\n",
    "modifiedRaw['comments'].iloc[100]"
   ]
  },
  {
   "cell_type": "code",
   "execution_count": 423,
   "metadata": {},
   "outputs": [],
   "source": [
    "#modifiedRaw.groupby('pco_prin_paid').loan_id.count()"
   ]
  },
  {
   "cell_type": "code",
   "execution_count": 286,
   "metadata": {},
   "outputs": [],
   "source": [
    "#modifiedRaw.count()"
   ]
  },
  {
   "cell_type": "markdown",
   "metadata": {},
   "source": [
    "# Train and Test Split"
   ]
  },
  {
   "cell_type": "code",
   "execution_count": 26,
   "metadata": {},
   "outputs": [],
   "source": [
    "# Add target\n",
    "Y = 1.0 * (modifiedRaw['percent_recovered_six_month']>0)"
   ]
  },
  {
   "cell_type": "code",
   "execution_count": 27,
   "metadata": {},
   "outputs": [],
   "source": [
    "X_train1, X_test1, y_train, y_test = train_test_split(modifiedRaw, Y, stratify = Y, test_size = 0.33, random_state = 42)"
   ]
  },
  {
   "cell_type": "code",
   "execution_count": 28,
   "metadata": {},
   "outputs": [],
   "source": [
    "X_train = X_train1['comments']\n",
    "X_test = X_test1['comments']"
   ]
  },
  {
   "cell_type": "markdown",
   "metadata": {},
   "source": [
    "# Text Vecterization "
   ]
  },
  {
   "cell_type": "code",
   "execution_count": 29,
   "metadata": {},
   "outputs": [],
   "source": [
    "stop_words = set(stopwords.words('english'))"
   ]
  },
  {
   "cell_type": "code",
   "execution_count": 30,
   "metadata": {},
   "outputs": [],
   "source": [
    "# remove words occuring in more than 90% of the documents\n",
    "# remove words occuring less than 20 times\n",
    "# remove stopwords\n",
    "cv = CountVectorizer(max_df = 0.90, min_df = 20, stop_words = stop_words)\n",
    "X_train_counts = cv.fit_transform(X_train)"
   ]
  },
  {
   "cell_type": "code",
   "execution_count": 31,
   "metadata": {},
   "outputs": [
    {
     "data": {
      "text/plain": [
       "(None, None, 415)"
      ]
     },
     "execution_count": 31,
     "metadata": {},
     "output_type": "execute_result"
    }
   ],
   "source": [
    "#(cv.get_feature_names())\n",
    "#cv.vocabulary_.get(u'portal'),cv.vocabulary_.get(u'mp'),cv.vocabulary_.get(u'looking')"
   ]
  },
  {
   "cell_type": "code",
   "execution_count": 32,
   "metadata": {},
   "outputs": [],
   "source": [
    "#print(cv.get_feature_names())"
   ]
  },
  {
   "cell_type": "code",
   "execution_count": 34,
   "metadata": {},
   "outputs": [],
   "source": [
    "#list(cv.vocabulary_.keys())[11]"
   ]
  },
  {
   "cell_type": "code",
   "execution_count": 35,
   "metadata": {},
   "outputs": [],
   "source": [
    "tfidf_transformer = TfidfTransformer().fit(X_train_counts)\n",
    "X_train_tfidf = tfidf_transformer.transform(X_train_counts)"
   ]
  },
  {
   "cell_type": "code",
   "execution_count": 36,
   "metadata": {},
   "outputs": [],
   "source": [
    "X_test_counts = cv.transform(X_test)\n",
    "X_test_tfidf = tfidf_transformer.transform(X_test_counts)"
   ]
  },
  {
   "cell_type": "code",
   "execution_count": 584,
   "metadata": {},
   "outputs": [],
   "source": [
    "#from statsmodels.stats.outliers_influence import variance_inflation_factor # check for multicollinearity\n",
    "#vif = [variance_inflation_factor(ddd.values, i) for i in range(ddd.shape[1])]"
   ]
  },
  {
   "cell_type": "code",
   "execution_count": 348,
   "metadata": {},
   "outputs": [],
   "source": [
    "#from mlxtend.feature_selection import SequentialFeatureSelector as SFS # stepwise selection"
   ]
  },
  {
   "cell_type": "markdown",
   "metadata": {},
   "source": [
    "# Building Logistic Regression"
   ]
  },
  {
   "cell_type": "code",
   "execution_count": 39,
   "metadata": {},
   "outputs": [],
   "source": [
    "# Baseline model\n",
    "clf = LogisticRegression().fit(X_train_tfidf, y_train) # Lasso "
   ]
  },
  {
   "cell_type": "code",
   "execution_count": 40,
   "metadata": {},
   "outputs": [
    {
     "data": {
      "text/plain": [
       "841"
      ]
     },
     "execution_count": 40,
     "metadata": {},
     "output_type": "execute_result"
    }
   ],
   "source": [
    "np.count_nonzero(clf.coef_)"
   ]
  },
  {
   "cell_type": "markdown",
   "metadata": {},
   "source": [
    "# Hyperparameter Tuning"
   ]
  },
  {
   "cell_type": "code",
   "execution_count": 41,
   "metadata": {},
   "outputs": [],
   "source": [
    "from sklearn.model_selection import GridSearchCV, cross_val_score, cross_val_predict"
   ]
  },
  {
   "cell_type": "code",
   "execution_count": 42,
   "metadata": {},
   "outputs": [
    {
     "data": {
      "text/plain": [
       "array([1.00000000e-10, 2.68269580e-09, 7.19685673e-08, 1.93069773e-06,\n",
       "       5.17947468e-05, 1.38949549e-03, 3.72759372e-02, 1.00000000e+00,\n",
       "       2.68269580e+01, 7.19685673e+02, 1.93069773e+04, 5.17947468e+05,\n",
       "       1.38949549e+07, 3.72759372e+08, 1.00000000e+10])"
      ]
     },
     "execution_count": 42,
     "metadata": {},
     "output_type": "execute_result"
    }
   ],
   "source": [
    "np.logspace(-10,10,15)"
   ]
  },
  {
   "cell_type": "code",
   "execution_count": 43,
   "metadata": {},
   "outputs": [],
   "source": [
    "lr_params = {'penalty': ['l1'],\n",
    "          'solver':['liblinear'],\n",
    "          'C': np.logspace(-10,10,21),\n",
    "            'fit_intercept':[True, False]}"
   ]
  },
  {
   "cell_type": "code",
   "execution_count": 44,
   "metadata": {},
   "outputs": [],
   "source": [
    "lr_grid = GridSearchCV(clf, param_grid=lr_params, cv=3, n_jobs=-1, verbose=1)"
   ]
  },
  {
   "cell_type": "code",
   "execution_count": 45,
   "metadata": {
    "scrolled": true
   },
   "outputs": [
    {
     "name": "stdout",
     "output_type": "stream",
     "text": [
      "Fitting 3 folds for each of 42 candidates, totalling 126 fits\n"
     ]
    },
    {
     "name": "stderr",
     "output_type": "stream",
     "text": [
      "[Parallel(n_jobs=-1)]: Using backend LokyBackend with 4 concurrent workers.\n",
      "[Parallel(n_jobs=-1)]: Done  46 tasks      | elapsed:   10.7s\n",
      "[Parallel(n_jobs=-1)]: Done 126 out of 126 | elapsed:  1.3min finished\n"
     ]
    },
    {
     "data": {
      "text/plain": [
       "GridSearchCV(cv=3, error_score='raise-deprecating',\n",
       "       estimator=LogisticRegression(C=1.0, class_weight=None, dual=False, fit_intercept=True,\n",
       "          intercept_scaling=1, max_iter=100, multi_class='warn',\n",
       "          n_jobs=None, penalty='l2', random_state=None, solver='warn',\n",
       "          tol=0.0001, verbose=0, warm_start=False),\n",
       "       fit_params=None, iid='warn', n_jobs=-1,\n",
       "       param_grid={'penalty': ['l1'], 'C': array([1.e-10, 1.e-09, 1.e-08, 1.e-07, 1.e-06, 1.e-05, 1.e-04, 1.e-03,\n",
       "       1.e-02, 1.e-01, 1.e+00, 1.e+01, 1.e+02, 1.e+03, 1.e+04, 1.e+05,\n",
       "       1.e+06, 1.e+07, 1.e+08, 1.e+09, 1.e+10]), 'fit_intercept': [True, False], 'solver': ['liblinear']},\n",
       "       pre_dispatch='2*n_jobs', refit=True, return_train_score='warn',\n",
       "       scoring=None, verbose=1)"
      ]
     },
     "execution_count": 45,
     "metadata": {},
     "output_type": "execute_result"
    }
   ],
   "source": [
    "# fit with the tranformed sparse matrix\n",
    "lr_grid = GridSearchCV(clf, param_grid=lr_params, cv=3, n_jobs=-1, verbose=1)\n",
    "lr_grid.fit(X_train_tfidf, y_train)"
   ]
  },
  {
   "cell_type": "code",
   "execution_count": 47,
   "metadata": {},
   "outputs": [
    {
     "name": "stdout",
     "output_type": "stream",
     "text": [
      "Best Score: 0.5725134284126691\n"
     ]
    }
   ],
   "source": [
    "print 'Best Score:', lr_grid.best_score_"
   ]
  },
  {
   "cell_type": "code",
   "execution_count": 48,
   "metadata": {},
   "outputs": [
    {
     "name": "stdout",
     "output_type": "stream",
     "text": [
      "Best Params: {'penalty': 'l1', 'C': 1.0, 'solver': 'liblinear', 'fit_intercept': True}\n"
     ]
    }
   ],
   "source": [
    "best_lr = lr_grid.best_estimator_\n",
    "print 'Best Params:', lr_grid.best_params_"
   ]
  },
  {
   "cell_type": "code",
   "execution_count": 49,
   "metadata": {},
   "outputs": [
    {
     "name": "stderr",
     "output_type": "stream",
     "text": [
      "C:\\Users\\jzhu\\AppData\\Local\\Continuum\\anaconda2\\envs\\py2\\lib\\site-packages\\sklearn\\linear_model\\logistic.py:1300: UserWarning: 'n_jobs' > 1 does not have any effect when 'solver' is set to 'liblinear'. Got 'n_jobs' = 4.\n",
      "  \" = {}.\".format(effective_n_jobs(self.n_jobs)))\n"
     ]
    }
   ],
   "source": [
    "clf = LogisticRegression(penalty='l1',random_state=0, C=1.0, solver =  'liblinear', n_jobs=4).fit(X_train_tfidf, y_train) # Lasso "
   ]
  },
  {
   "cell_type": "code",
   "execution_count": 50,
   "metadata": {},
   "outputs": [
    {
     "data": {
      "text/plain": [
       "235"
      ]
     },
     "execution_count": 50,
     "metadata": {},
     "output_type": "execute_result"
    }
   ],
   "source": [
    "np.count_nonzero(clf.coef_)"
   ]
  },
  {
   "cell_type": "markdown",
   "metadata": {},
   "source": [
    "## Selected Attribute/Keyword Description"
   ]
  },
  {
   "cell_type": "code",
   "execution_count": 51,
   "metadata": {},
   "outputs": [],
   "source": [
    "numb_of_attribute = np.count_nonzero(clf.coef_) # number of attributes/words"
   ]
  },
  {
   "cell_type": "code",
   "execution_count": 53,
   "metadata": {},
   "outputs": [],
   "source": [
    "index= np.nonzero(clf.coef_)[1]\n",
    "list_of_keywords = [list(cv.vocabulary_.keys())[index[i]] for i in range(numb_of_attribute)] # keywords used in model"
   ]
  },
  {
   "cell_type": "code",
   "execution_count": 54,
   "metadata": {},
   "outputs": [
    {
     "data": {
      "text/plain": [
       "[u'reprocess',\n",
       " u'disability',\n",
       " u'applied',\n",
       " u'school',\n",
       " u'ref',\n",
       " u'even',\n",
       " u'active',\n",
       " u'hospital',\n",
       " u'program',\n",
       " u'hereby',\n",
       " u'aware',\n",
       " u'phone',\n",
       " u'give',\n",
       " u'unpaid',\n",
       " u'answer',\n",
       " u'law',\n",
       " u'appreciate',\n",
       " u'lost',\n",
       " u'think',\n",
       " u'writing',\n",
       " u'unemployed',\n",
       " u'bank',\n",
       " u'went',\n",
       " u'consolidate',\n",
       " u'financial',\n",
       " u'directly',\n",
       " u'list',\n",
       " u'message',\n",
       " u'already',\n",
       " u'electronic',\n",
       " u'confirming',\n",
       " u'incur',\n",
       " u'kept',\n",
       " u'responsible',\n",
       " u'client',\n",
       " u'saying',\n",
       " u'reschedule',\n",
       " u'reversal',\n",
       " u'report',\n",
       " u'respond',\n",
       " u'fail',\n",
       " u'subject',\n",
       " u'said',\n",
       " u'melissa',\n",
       " u'wo',\n",
       " u'debt',\n",
       " u'received',\n",
       " u'loaded',\n",
       " u'life',\n",
       " u'worked',\n",
       " u'stopping',\n",
       " u'balance',\n",
       " u'confirmed',\n",
       " u'showing',\n",
       " u'waterfall',\n",
       " u'save',\n",
       " u'possible',\n",
       " u'wanting',\n",
       " u'night',\n",
       " u'hung',\n",
       " u'afternoon',\n",
       " u'form',\n",
       " u'request',\n",
       " u'til',\n",
       " u'update',\n",
       " u'professional',\n",
       " u'weekend',\n",
       " u'permanently',\n",
       " u'item',\n",
       " u'settle',\n",
       " u'current',\n",
       " u'unsure',\n",
       " u'change',\n",
       " u'box',\n",
       " u'sending',\n",
       " u'extra',\n",
       " u'prefer',\n",
       " u'club',\n",
       " u'department',\n",
       " u'anything',\n",
       " u'following',\n",
       " u'arrive',\n",
       " u'figure',\n",
       " u'december',\n",
       " u'agent',\n",
       " u'needs',\n",
       " u'st',\n",
       " u'switch',\n",
       " u'deposit',\n",
       " u'refund',\n",
       " u'ended',\n",
       " u'correspondence',\n",
       " u'summary',\n",
       " u'er',\n",
       " u'seriously',\n",
       " u'quite',\n",
       " u'cut',\n",
       " u'card',\n",
       " u'advance',\n",
       " u'suspended',\n",
       " u'accordance',\n",
       " u'future',\n",
       " u'say',\n",
       " u'take',\n",
       " u'sure',\n",
       " u'later',\n",
       " u'ways',\n",
       " u'filing',\n",
       " u'pursuant',\n",
       " u'outside',\n",
       " u'closure',\n",
       " u'morning',\n",
       " u'amanda',\n",
       " u'surgery',\n",
       " u'behind',\n",
       " u'deduction',\n",
       " u'cancel',\n",
       " u'informed',\n",
       " u'disconnected',\n",
       " u'inquire',\n",
       " u'assist',\n",
       " u'driver',\n",
       " u'know',\n",
       " u'rest',\n",
       " u'touch',\n",
       " u'around',\n",
       " u'christina',\n",
       " u'patrick',\n",
       " u'phoenix',\n",
       " u'communicate',\n",
       " u'log',\n",
       " u'fraud',\n",
       " u'shut',\n",
       " u'wife',\n",
       " u'hello',\n",
       " u'settlement',\n",
       " u'link',\n",
       " u'full',\n",
       " u'free',\n",
       " u'family',\n",
       " u'company',\n",
       " u'remain',\n",
       " u'learn',\n",
       " u'accept',\n",
       " u'action',\n",
       " u'reflect',\n",
       " u'coming',\n",
       " u'september',\n",
       " u'paper',\n",
       " u'late',\n",
       " u'alter',\n",
       " u'number',\n",
       " u'always',\n",
       " u'refresh',\n",
       " u'man',\n",
       " u'notify',\n",
       " u'hard',\n",
       " u'really',\n",
       " u'creditor',\n",
       " u'difficulty',\n",
       " u'least',\n",
       " u'supposed',\n",
       " u'picked',\n",
       " u'well',\n",
       " u'also',\n",
       " u'plan',\n",
       " u'delinquent',\n",
       " u'hardship',\n",
       " u'mailbox',\n",
       " u'connection',\n",
       " u'simply',\n",
       " u'due',\n",
       " u'meeting',\n",
       " u'po',\n",
       " u'look',\n",
       " u'frozen',\n",
       " u'bill',\n",
       " u'budget',\n",
       " u'ready',\n",
       " u'lower',\n",
       " u'continue',\n",
       " u'per',\n",
       " u'line',\n",
       " u'posted',\n",
       " u'go',\n",
       " u'suite',\n",
       " u'sent',\n",
       " u'michael',\n",
       " u'schedule',\n",
       " u'access',\n",
       " u'exercise',\n",
       " u'fee',\n",
       " u'remains',\n",
       " u'management',\n",
       " u'upcoming',\n",
       " u'becomes',\n",
       " u'ok',\n",
       " u'didnt',\n",
       " u'process',\n",
       " u'sip',\n",
       " u'permanent',\n",
       " u'pending',\n",
       " u'disregard',\n",
       " u'afford',\n",
       " u'overdraft',\n",
       " u'back',\n",
       " u'institution',\n",
       " u'broadway',\n",
       " u'unless',\n",
       " u'courtesy',\n",
       " u'upset',\n",
       " u'agreed',\n",
       " u'employee',\n",
       " u'employed',\n",
       " u'fixed',\n",
       " u'temporarily',\n",
       " u'written',\n",
       " u'partial',\n",
       " u'present',\n",
       " u'holiday',\n",
       " u'party',\n",
       " u'difficult',\n",
       " u'receiver',\n",
       " u'obtain',\n",
       " u'match',\n",
       " u'james',\n",
       " u'home',\n",
       " u'handling',\n",
       " u'freedom',\n",
       " u'payment',\n",
       " u'mailed',\n",
       " u'wish',\n",
       " u'record',\n",
       " u'revocation',\n",
       " u'monday']"
      ]
     },
     "execution_count": 54,
     "metadata": {},
     "output_type": "execute_result"
    }
   ],
   "source": [
    "list_of_keywords"
   ]
  },
  {
   "cell_type": "code",
   "execution_count": 55,
   "metadata": {
    "scrolled": true
   },
   "outputs": [
    {
     "data": {
      "text/html": [
       "<div>\n",
       "<style scoped>\n",
       "    .dataframe tbody tr th:only-of-type {\n",
       "        vertical-align: middle;\n",
       "    }\n",
       "\n",
       "    .dataframe tbody tr th {\n",
       "        vertical-align: top;\n",
       "    }\n",
       "\n",
       "    .dataframe thead th {\n",
       "        text-align: right;\n",
       "    }\n",
       "</style>\n",
       "<table border=\"1\" class=\"dataframe\">\n",
       "  <thead>\n",
       "    <tr style=\"text-align: right;\">\n",
       "      <th></th>\n",
       "      <th>frequency</th>\n",
       "      <th>keywords</th>\n",
       "      <th>normalized_frequency</th>\n",
       "    </tr>\n",
       "  </thead>\n",
       "  <tbody>\n",
       "    <tr>\n",
       "      <th>216</th>\n",
       "      <td>834</td>\n",
       "      <td>written</td>\n",
       "      <td>0.051747</td>\n",
       "    </tr>\n",
       "    <tr>\n",
       "      <th>19</th>\n",
       "      <td>833</td>\n",
       "      <td>writing</td>\n",
       "      <td>0.051685</td>\n",
       "    </tr>\n",
       "    <tr>\n",
       "      <th>49</th>\n",
       "      <td>829</td>\n",
       "      <td>worked</td>\n",
       "      <td>0.051436</td>\n",
       "    </tr>\n",
       "    <tr>\n",
       "      <th>44</th>\n",
       "      <td>824</td>\n",
       "      <td>wo</td>\n",
       "      <td>0.051126</td>\n",
       "    </tr>\n",
       "    <tr>\n",
       "      <th>231</th>\n",
       "      <td>818</td>\n",
       "      <td>wish</td>\n",
       "      <td>0.050754</td>\n",
       "    </tr>\n",
       "    <tr>\n",
       "      <th>133</th>\n",
       "      <td>816</td>\n",
       "      <td>wife</td>\n",
       "      <td>0.050630</td>\n",
       "    </tr>\n",
       "    <tr>\n",
       "      <th>22</th>\n",
       "      <td>815</td>\n",
       "      <td>went</td>\n",
       "      <td>0.050568</td>\n",
       "    </tr>\n",
       "    <tr>\n",
       "      <th>163</th>\n",
       "      <td>814</td>\n",
       "      <td>well</td>\n",
       "      <td>0.050506</td>\n",
       "    </tr>\n",
       "    <tr>\n",
       "      <th>66</th>\n",
       "      <td>812</td>\n",
       "      <td>weekend</td>\n",
       "      <td>0.050382</td>\n",
       "    </tr>\n",
       "    <tr>\n",
       "      <th>106</th>\n",
       "      <td>810</td>\n",
       "      <td>ways</td>\n",
       "      <td>0.050257</td>\n",
       "    </tr>\n",
       "    <tr>\n",
       "      <th>54</th>\n",
       "      <td>808</td>\n",
       "      <td>waterfall</td>\n",
       "      <td>0.050133</td>\n",
       "    </tr>\n",
       "    <tr>\n",
       "      <th>57</th>\n",
       "      <td>806</td>\n",
       "      <td>wanting</td>\n",
       "      <td>0.050009</td>\n",
       "    </tr>\n",
       "    <tr>\n",
       "      <th>210</th>\n",
       "      <td>787</td>\n",
       "      <td>upset</td>\n",
       "      <td>0.048830</td>\n",
       "    </tr>\n",
       "    <tr>\n",
       "      <th>64</th>\n",
       "      <td>786</td>\n",
       "      <td>update</td>\n",
       "      <td>0.048768</td>\n",
       "    </tr>\n",
       "    <tr>\n",
       "      <th>194</th>\n",
       "      <td>785</td>\n",
       "      <td>upcoming</td>\n",
       "      <td>0.048706</td>\n",
       "    </tr>\n",
       "    <tr>\n",
       "      <th>71</th>\n",
       "      <td>783</td>\n",
       "      <td>unsure</td>\n",
       "      <td>0.048582</td>\n",
       "    </tr>\n",
       "    <tr>\n",
       "      <th>13</th>\n",
       "      <td>782</td>\n",
       "      <td>unpaid</td>\n",
       "      <td>0.048520</td>\n",
       "    </tr>\n",
       "    <tr>\n",
       "      <th>208</th>\n",
       "      <td>781</td>\n",
       "      <td>unless</td>\n",
       "      <td>0.048458</td>\n",
       "    </tr>\n",
       "    <tr>\n",
       "      <th>20</th>\n",
       "      <td>777</td>\n",
       "      <td>unemployed</td>\n",
       "      <td>0.048210</td>\n",
       "    </tr>\n",
       "    <tr>\n",
       "      <th>124</th>\n",
       "      <td>755</td>\n",
       "      <td>touch</td>\n",
       "      <td>0.046845</td>\n",
       "    </tr>\n",
       "    <tr>\n",
       "      <th>63</th>\n",
       "      <td>745</td>\n",
       "      <td>til</td>\n",
       "      <td>0.046224</td>\n",
       "    </tr>\n",
       "    <tr>\n",
       "      <th>18</th>\n",
       "      <td>739</td>\n",
       "      <td>think</td>\n",
       "      <td>0.045852</td>\n",
       "    </tr>\n",
       "    <tr>\n",
       "      <th>215</th>\n",
       "      <td>735</td>\n",
       "      <td>temporarily</td>\n",
       "      <td>0.045604</td>\n",
       "    </tr>\n",
       "    <tr>\n",
       "      <th>103</th>\n",
       "      <td>727</td>\n",
       "      <td>take</td>\n",
       "      <td>0.045108</td>\n",
       "    </tr>\n",
       "    <tr>\n",
       "      <th>87</th>\n",
       "      <td>723</td>\n",
       "      <td>switch</td>\n",
       "      <td>0.044859</td>\n",
       "    </tr>\n",
       "    <tr>\n",
       "      <th>99</th>\n",
       "      <td>722</td>\n",
       "      <td>suspended</td>\n",
       "      <td>0.044797</td>\n",
       "    </tr>\n",
       "    <tr>\n",
       "      <th>113</th>\n",
       "      <td>721</td>\n",
       "      <td>surgery</td>\n",
       "      <td>0.044735</td>\n",
       "    </tr>\n",
       "    <tr>\n",
       "      <th>104</th>\n",
       "      <td>720</td>\n",
       "      <td>sure</td>\n",
       "      <td>0.044673</td>\n",
       "    </tr>\n",
       "    <tr>\n",
       "      <th>161</th>\n",
       "      <td>719</td>\n",
       "      <td>supposed</td>\n",
       "      <td>0.044611</td>\n",
       "    </tr>\n",
       "    <tr>\n",
       "      <th>92</th>\n",
       "      <td>717</td>\n",
       "      <td>summary</td>\n",
       "      <td>0.044487</td>\n",
       "    </tr>\n",
       "    <tr>\n",
       "      <th>...</th>\n",
       "      <td>...</td>\n",
       "      <td>...</td>\n",
       "      <td>...</td>\n",
       "    </tr>\n",
       "    <tr>\n",
       "      <th>73</th>\n",
       "      <td>95</td>\n",
       "      <td>box</td>\n",
       "      <td>0.005894</td>\n",
       "    </tr>\n",
       "    <tr>\n",
       "      <th>176</th>\n",
       "      <td>91</td>\n",
       "      <td>bill</td>\n",
       "      <td>0.005646</td>\n",
       "    </tr>\n",
       "    <tr>\n",
       "      <th>114</th>\n",
       "      <td>87</td>\n",
       "      <td>behind</td>\n",
       "      <td>0.005398</td>\n",
       "    </tr>\n",
       "    <tr>\n",
       "      <th>195</th>\n",
       "      <td>83</td>\n",
       "      <td>becomes</td>\n",
       "      <td>0.005150</td>\n",
       "    </tr>\n",
       "    <tr>\n",
       "      <th>21</th>\n",
       "      <td>80</td>\n",
       "      <td>bank</td>\n",
       "      <td>0.004964</td>\n",
       "    </tr>\n",
       "    <tr>\n",
       "      <th>51</th>\n",
       "      <td>79</td>\n",
       "      <td>balance</td>\n",
       "      <td>0.004902</td>\n",
       "    </tr>\n",
       "    <tr>\n",
       "      <th>205</th>\n",
       "      <td>76</td>\n",
       "      <td>back</td>\n",
       "      <td>0.004716</td>\n",
       "    </tr>\n",
       "    <tr>\n",
       "      <th>10</th>\n",
       "      <td>73</td>\n",
       "      <td>aware</td>\n",
       "      <td>0.004529</td>\n",
       "    </tr>\n",
       "    <tr>\n",
       "      <th>120</th>\n",
       "      <td>55</td>\n",
       "      <td>assist</td>\n",
       "      <td>0.003413</td>\n",
       "    </tr>\n",
       "    <tr>\n",
       "      <th>81</th>\n",
       "      <td>52</td>\n",
       "      <td>arrive</td>\n",
       "      <td>0.003226</td>\n",
       "    </tr>\n",
       "    <tr>\n",
       "      <th>125</th>\n",
       "      <td>50</td>\n",
       "      <td>around</td>\n",
       "      <td>0.003102</td>\n",
       "    </tr>\n",
       "    <tr>\n",
       "      <th>16</th>\n",
       "      <td>47</td>\n",
       "      <td>appreciate</td>\n",
       "      <td>0.002916</td>\n",
       "    </tr>\n",
       "    <tr>\n",
       "      <th>2</th>\n",
       "      <td>45</td>\n",
       "      <td>applied</td>\n",
       "      <td>0.002792</td>\n",
       "    </tr>\n",
       "    <tr>\n",
       "      <th>79</th>\n",
       "      <td>43</td>\n",
       "      <td>anything</td>\n",
       "      <td>0.002668</td>\n",
       "    </tr>\n",
       "    <tr>\n",
       "      <th>14</th>\n",
       "      <td>41</td>\n",
       "      <td>answer</td>\n",
       "      <td>0.002544</td>\n",
       "    </tr>\n",
       "    <tr>\n",
       "      <th>112</th>\n",
       "      <td>37</td>\n",
       "      <td>amanda</td>\n",
       "      <td>0.002296</td>\n",
       "    </tr>\n",
       "    <tr>\n",
       "      <th>152</th>\n",
       "      <td>36</td>\n",
       "      <td>always</td>\n",
       "      <td>0.002234</td>\n",
       "    </tr>\n",
       "    <tr>\n",
       "      <th>150</th>\n",
       "      <td>34</td>\n",
       "      <td>alter</td>\n",
       "      <td>0.002110</td>\n",
       "    </tr>\n",
       "    <tr>\n",
       "      <th>164</th>\n",
       "      <td>33</td>\n",
       "      <td>also</td>\n",
       "      <td>0.002048</td>\n",
       "    </tr>\n",
       "    <tr>\n",
       "      <th>28</th>\n",
       "      <td>32</td>\n",
       "      <td>already</td>\n",
       "      <td>0.001985</td>\n",
       "    </tr>\n",
       "    <tr>\n",
       "      <th>211</th>\n",
       "      <td>28</td>\n",
       "      <td>agreed</td>\n",
       "      <td>0.001737</td>\n",
       "    </tr>\n",
       "    <tr>\n",
       "      <th>84</th>\n",
       "      <td>26</td>\n",
       "      <td>agent</td>\n",
       "      <td>0.001613</td>\n",
       "    </tr>\n",
       "    <tr>\n",
       "      <th>60</th>\n",
       "      <td>24</td>\n",
       "      <td>afternoon</td>\n",
       "      <td>0.001489</td>\n",
       "    </tr>\n",
       "    <tr>\n",
       "      <th>203</th>\n",
       "      <td>23</td>\n",
       "      <td>afford</td>\n",
       "      <td>0.001427</td>\n",
       "    </tr>\n",
       "    <tr>\n",
       "      <th>98</th>\n",
       "      <td>17</td>\n",
       "      <td>advance</td>\n",
       "      <td>0.001055</td>\n",
       "    </tr>\n",
       "    <tr>\n",
       "      <th>6</th>\n",
       "      <td>10</td>\n",
       "      <td>active</td>\n",
       "      <td>0.000620</td>\n",
       "    </tr>\n",
       "    <tr>\n",
       "      <th>144</th>\n",
       "      <td>9</td>\n",
       "      <td>action</td>\n",
       "      <td>0.000558</td>\n",
       "    </tr>\n",
       "    <tr>\n",
       "      <th>100</th>\n",
       "      <td>5</td>\n",
       "      <td>accordance</td>\n",
       "      <td>0.000310</td>\n",
       "    </tr>\n",
       "    <tr>\n",
       "      <th>189</th>\n",
       "      <td>3</td>\n",
       "      <td>access</td>\n",
       "      <td>0.000186</td>\n",
       "    </tr>\n",
       "    <tr>\n",
       "      <th>143</th>\n",
       "      <td>1</td>\n",
       "      <td>accept</td>\n",
       "      <td>0.000062</td>\n",
       "    </tr>\n",
       "  </tbody>\n",
       "</table>\n",
       "<p>235 rows × 3 columns</p>\n",
       "</div>"
      ],
      "text/plain": [
       "     frequency     keywords  normalized_frequency\n",
       "216        834      written              0.051747\n",
       "19         833      writing              0.051685\n",
       "49         829       worked              0.051436\n",
       "44         824           wo              0.051126\n",
       "231        818         wish              0.050754\n",
       "133        816         wife              0.050630\n",
       "22         815         went              0.050568\n",
       "163        814         well              0.050506\n",
       "66         812      weekend              0.050382\n",
       "106        810         ways              0.050257\n",
       "54         808    waterfall              0.050133\n",
       "57         806      wanting              0.050009\n",
       "210        787        upset              0.048830\n",
       "64         786       update              0.048768\n",
       "194        785     upcoming              0.048706\n",
       "71         783       unsure              0.048582\n",
       "13         782       unpaid              0.048520\n",
       "208        781       unless              0.048458\n",
       "20         777   unemployed              0.048210\n",
       "124        755        touch              0.046845\n",
       "63         745          til              0.046224\n",
       "18         739        think              0.045852\n",
       "215        735  temporarily              0.045604\n",
       "103        727         take              0.045108\n",
       "87         723       switch              0.044859\n",
       "99         722    suspended              0.044797\n",
       "113        721      surgery              0.044735\n",
       "104        720         sure              0.044673\n",
       "161        719     supposed              0.044611\n",
       "92         717      summary              0.044487\n",
       "..         ...          ...                   ...\n",
       "73          95          box              0.005894\n",
       "176         91         bill              0.005646\n",
       "114         87       behind              0.005398\n",
       "195         83      becomes              0.005150\n",
       "21          80         bank              0.004964\n",
       "51          79      balance              0.004902\n",
       "205         76         back              0.004716\n",
       "10          73        aware              0.004529\n",
       "120         55       assist              0.003413\n",
       "81          52       arrive              0.003226\n",
       "125         50       around              0.003102\n",
       "16          47   appreciate              0.002916\n",
       "2           45      applied              0.002792\n",
       "79          43     anything              0.002668\n",
       "14          41       answer              0.002544\n",
       "112         37       amanda              0.002296\n",
       "152         36       always              0.002234\n",
       "150         34        alter              0.002110\n",
       "164         33         also              0.002048\n",
       "28          32      already              0.001985\n",
       "211         28       agreed              0.001737\n",
       "84          26        agent              0.001613\n",
       "60          24    afternoon              0.001489\n",
       "203         23       afford              0.001427\n",
       "98          17      advance              0.001055\n",
       "6           10       active              0.000620\n",
       "144          9       action              0.000558\n",
       "100          5   accordance              0.000310\n",
       "189          3       access              0.000186\n",
       "143          1       accept              0.000062\n",
       "\n",
       "[235 rows x 3 columns]"
      ]
     },
     "execution_count": 55,
     "metadata": {},
     "output_type": "execute_result"
    }
   ],
   "source": [
    "normalized_frequency = [((cv.vocabulary_.get(list_of_keywords[i]) + 0.00)/modifiedRaw.shape[0]) for i in range(numb_of_attribute)]\n",
    "frequency = [cv.vocabulary_.get(list_of_keywords[i]) for i in range(numb_of_attribute)]\n",
    "keywords_freq = pd.DataFrame({'keywords':list_of_keywords,\n",
    "                              'normalized_frequency': normalized_frequency,\n",
    "                              'frequency': frequency})\n",
    "keywords_freq.sort_values('frequency',ascending=False)"
   ]
  },
  {
   "cell_type": "markdown",
   "metadata": {},
   "source": [
    "## Keyword Context"
   ]
  },
  {
   "cell_type": "code",
   "execution_count": 601,
   "metadata": {},
   "outputs": [],
   "source": [
    "w = list_of_keywords[142]"
   ]
  },
  {
   "cell_type": "code",
   "execution_count": 602,
   "metadata": {},
   "outputs": [],
   "source": [
    "keyword1 = [modifiedRaw['comments'].iloc[i].find(str(w)) for i in range(modifiedRaw.shape[0])]"
   ]
  },
  {
   "cell_type": "code",
   "execution_count": 603,
   "metadata": {},
   "outputs": [],
   "source": [
    "index1 = [i for i, n in enumerate(keyword1) if n >=0]"
   ]
  },
  {
   "cell_type": "code",
   "execution_count": 604,
   "metadata": {
    "scrolled": true
   },
   "outputs": [
    {
     "data": {
      "text/plain": [
       "'phone type l old none new is collector col collector none phone returned code not contact is returned code not found standardized address s request old status act returned no request name old none new is old status old none new is request name old home was found in list added to on request name off collector new result customer hung up in out home predictive call result no answer home predictive call request name s drive request request request request is on collector scrub complete request name person said not in today result machine home predictive call a ave chino ca old status act result customer hung up in out home predictive call result machine home predictive call result machine home predictive call score result machine home predictive call collector col old status s primary result code sh best result code m address a new last old status lad old number was result fast busy s old cell number was result fast busy home predictive call result fast busy home predictive call result fast busy home predictive call home line busy result fast busy home predictive call home line busy home line busy result fast busy home predictive call mobile land line old none new is collection sent to borrower initial payment reminder null collector null result code found in address s drive collector collection sent to borrower your loan payment is late not in yet na no personal result no answer home predictive call unknown person that not in yet result no answer home predictive call cell voice mail cant update he will change ba on file to perm stop auto ach negative and to include extra for the fee old number was phone loan to'"
      ]
     },
     "execution_count": 604,
     "metadata": {},
     "output_type": "execute_result"
    }
   ],
   "source": [
    "modifiedRaw['comments'].iloc[index1[1]]"
   ]
  },
  {
   "cell_type": "markdown",
   "metadata": {},
   "source": [
    "# Dimmensionality Reduction"
   ]
  },
  {
   "cell_type": "code",
   "execution_count": 140,
   "metadata": {},
   "outputs": [],
   "source": [
    "from sklearn.decomposition import TruncatedSVD\n",
    "# truncated SVD works on term count/tf-idf matrices as returned by the vectorizers in sklearn.feature_extraction.text. \n",
    "# In that context, it is known as latent semantic analysis (LSA)."
   ]
  },
  {
   "cell_type": "code",
   "execution_count": 146,
   "metadata": {},
   "outputs": [],
   "source": [
    "svd = TruncatedSVD(algorithm='randomized', n_components=50, n_iter=7,\n",
    "        random_state= 42, tol=0.0)\n",
    "# X_train_counts = svd.fit_transform(X_train_counts) "
   ]
  },
  {
   "cell_type": "markdown",
   "metadata": {},
   "source": [
    "# Train Set"
   ]
  },
  {
   "cell_type": "code",
   "execution_count": 56,
   "metadata": {},
   "outputs": [
    {
     "name": "stderr",
     "output_type": "stream",
     "text": [
      "C:\\Users\\jzhu\\AppData\\Local\\Continuum\\anaconda2\\envs\\py2\\lib\\site-packages\\ipykernel_launcher.py:2: SettingWithCopyWarning: \n",
      "A value is trying to be set on a copy of a slice from a DataFrame.\n",
      "Try using .loc[row_indexer,col_indexer] = value instead\n",
      "\n",
      "See the caveats in the documentation: http://pandas.pydata.org/pandas-docs/stable/indexing.html#indexing-view-versus-copy\n",
      "  \n"
     ]
    }
   ],
   "source": [
    "train = X_train1\n",
    "train['y'] = y_train"
   ]
  },
  {
   "cell_type": "code",
   "execution_count": 62,
   "metadata": {},
   "outputs": [
    {
     "name": "stderr",
     "output_type": "stream",
     "text": [
      "C:\\Users\\jzhu\\AppData\\Local\\Continuum\\anaconda2\\envs\\py2\\lib\\site-packages\\ipykernel_launcher.py:1: SettingWithCopyWarning: \n",
      "A value is trying to be set on a copy of a slice from a DataFrame.\n",
      "Try using .loc[row_indexer,col_indexer] = value instead\n",
      "\n",
      "See the caveats in the documentation: http://pandas.pydata.org/pandas-docs/stable/indexing.html#indexing-view-versus-copy\n",
      "  \"\"\"Entry point for launching an IPython kernel.\n",
      "C:\\Users\\jzhu\\AppData\\Local\\Continuum\\anaconda2\\envs\\py2\\lib\\site-packages\\ipykernel_launcher.py:2: SettingWithCopyWarning: \n",
      "A value is trying to be set on a copy of a slice from a DataFrame.\n",
      "Try using .loc[row_indexer,col_indexer] = value instead\n",
      "\n",
      "See the caveats in the documentation: http://pandas.pydata.org/pandas-docs/stable/indexing.html#indexing-view-versus-copy\n",
      "  \n"
     ]
    }
   ],
   "source": [
    "train['pred1']= clf.predict(X_train_tfidf)\n",
    "train['proba']= clf.predict_proba(X_train_tfidf)[:,1]"
   ]
  },
  {
   "cell_type": "code",
   "execution_count": 63,
   "metadata": {},
   "outputs": [
    {
     "name": "stdout",
     "output_type": "stream",
     "text": [
      "Percent of train set which class prediction is wrong 0.3904426745693647\n"
     ]
    },
    {
     "name": "stderr",
     "output_type": "stream",
     "text": [
      "C:\\Users\\jzhu\\AppData\\Local\\Continuum\\anaconda2\\envs\\py2\\lib\\site-packages\\ipykernel_launcher.py:1: SettingWithCopyWarning: \n",
      "A value is trying to be set on a copy of a slice from a DataFrame.\n",
      "Try using .loc[row_indexer,col_indexer] = value instead\n",
      "\n",
      "See the caveats in the documentation: http://pandas.pydata.org/pandas-docs/stable/indexing.html#indexing-view-versus-copy\n",
      "  \"\"\"Entry point for launching an IPython kernel.\n",
      "C:\\Users\\jzhu\\AppData\\Local\\Continuum\\anaconda2\\envs\\py2\\lib\\site-packages\\ipykernel_launcher.py:2: SettingWithCopyWarning: \n",
      "A value is trying to be set on a copy of a slice from a DataFrame.\n",
      "Try using .loc[row_indexer,col_indexer] = value instead\n",
      "\n",
      "See the caveats in the documentation: http://pandas.pydata.org/pandas-docs/stable/indexing.html#indexing-view-versus-copy\n",
      "  \n"
     ]
    }
   ],
   "source": [
    "train['pred1_right'] = 1.0 * (train['pred1']==train['y'])\n",
    "train['pred1_wrong']= 1 - train['pred1_right']\n",
    "print 'Percent of train set which class prediction is wrong', train.pred1_wrong.mean()"
   ]
  },
  {
   "cell_type": "markdown",
   "metadata": {},
   "source": [
    "# Test Set"
   ]
  },
  {
   "cell_type": "code",
   "execution_count": 64,
   "metadata": {},
   "outputs": [
    {
     "name": "stderr",
     "output_type": "stream",
     "text": [
      "C:\\Users\\jzhu\\AppData\\Local\\Continuum\\anaconda2\\envs\\py2\\lib\\site-packages\\ipykernel_launcher.py:2: SettingWithCopyWarning: \n",
      "A value is trying to be set on a copy of a slice from a DataFrame.\n",
      "Try using .loc[row_indexer,col_indexer] = value instead\n",
      "\n",
      "See the caveats in the documentation: http://pandas.pydata.org/pandas-docs/stable/indexing.html#indexing-view-versus-copy\n",
      "  \n"
     ]
    }
   ],
   "source": [
    "test = X_test1\n",
    "test['y'] = y_test"
   ]
  },
  {
   "cell_type": "code",
   "execution_count": 66,
   "metadata": {},
   "outputs": [
    {
     "name": "stderr",
     "output_type": "stream",
     "text": [
      "C:\\Users\\jzhu\\AppData\\Local\\Continuum\\anaconda2\\envs\\py2\\lib\\site-packages\\ipykernel_launcher.py:1: SettingWithCopyWarning: \n",
      "A value is trying to be set on a copy of a slice from a DataFrame.\n",
      "Try using .loc[row_indexer,col_indexer] = value instead\n",
      "\n",
      "See the caveats in the documentation: http://pandas.pydata.org/pandas-docs/stable/indexing.html#indexing-view-versus-copy\n",
      "  \"\"\"Entry point for launching an IPython kernel.\n",
      "C:\\Users\\jzhu\\AppData\\Local\\Continuum\\anaconda2\\envs\\py2\\lib\\site-packages\\ipykernel_launcher.py:2: SettingWithCopyWarning: \n",
      "A value is trying to be set on a copy of a slice from a DataFrame.\n",
      "Try using .loc[row_indexer,col_indexer] = value instead\n",
      "\n",
      "See the caveats in the documentation: http://pandas.pydata.org/pandas-docs/stable/indexing.html#indexing-view-versus-copy\n",
      "  \n"
     ]
    }
   ],
   "source": [
    "test['pred1']= clf.predict(X_test_tfidf)\n",
    "test['proba']= clf.predict_proba(X_test_tfidf)[:,1]"
   ]
  },
  {
   "cell_type": "code",
   "execution_count": 68,
   "metadata": {},
   "outputs": [
    {
     "name": "stdout",
     "output_type": "stream",
     "text": [
      "Percent of test set which class prediction is wrong 0.4357962022936642\n"
     ]
    },
    {
     "name": "stderr",
     "output_type": "stream",
     "text": [
      "C:\\Users\\jzhu\\AppData\\Local\\Continuum\\anaconda2\\envs\\py2\\lib\\site-packages\\ipykernel_launcher.py:1: SettingWithCopyWarning: \n",
      "A value is trying to be set on a copy of a slice from a DataFrame.\n",
      "Try using .loc[row_indexer,col_indexer] = value instead\n",
      "\n",
      "See the caveats in the documentation: http://pandas.pydata.org/pandas-docs/stable/indexing.html#indexing-view-versus-copy\n",
      "  \"\"\"Entry point for launching an IPython kernel.\n",
      "C:\\Users\\jzhu\\AppData\\Local\\Continuum\\anaconda2\\envs\\py2\\lib\\site-packages\\ipykernel_launcher.py:2: SettingWithCopyWarning: \n",
      "A value is trying to be set on a copy of a slice from a DataFrame.\n",
      "Try using .loc[row_indexer,col_indexer] = value instead\n",
      "\n",
      "See the caveats in the documentation: http://pandas.pydata.org/pandas-docs/stable/indexing.html#indexing-view-versus-copy\n",
      "  \n",
      "C:\\Users\\jzhu\\AppData\\Local\\Continuum\\anaconda2\\envs\\py2\\lib\\site-packages\\ipykernel_launcher.py:3: SettingWithCopyWarning: \n",
      "A value is trying to be set on a copy of a slice from a DataFrame.\n",
      "Try using .loc[row_indexer,col_indexer] = value instead\n",
      "\n",
      "See the caveats in the documentation: http://pandas.pydata.org/pandas-docs/stable/indexing.html#indexing-view-versus-copy\n",
      "  This is separate from the ipykernel package so we can avoid doing imports until\n"
     ]
    }
   ],
   "source": [
    "test['pred1_right'] = 1.0 * (test['pred1']==test['y'])\n",
    "test['proba']= clf.predict_proba(X_test_counts)[:,1]\n",
    "test['pred1_wrong']= 1 - test['pred1_right']\n",
    "print 'Percent of test set which class prediction is wrong', test.pred1_wrong.mean()"
   ]
  },
  {
   "cell_type": "markdown",
   "metadata": {},
   "source": [
    "# Model Evaluation"
   ]
  },
  {
   "cell_type": "markdown",
   "metadata": {},
   "source": [
    "Precision, Recall, F1-Score"
   ]
  },
  {
   "cell_type": "code",
   "execution_count": 69,
   "metadata": {},
   "outputs": [
    {
     "name": "stdout",
     "output_type": "stream",
     "text": [
      "              precision    recall  f1-score   support\n",
      "\n",
      "         0.0       0.49      0.62      0.55      4136\n",
      "         1.0       0.72      0.60      0.66      6662\n",
      "\n",
      "   micro avg       0.61      0.61      0.61     10798\n",
      "   macro avg       0.61      0.61      0.60     10798\n",
      "weighted avg       0.63      0.61      0.61     10798\n",
      "\n"
     ]
    }
   ],
   "source": [
    "from sklearn.metrics import classification_report\n",
    "print(classification_report(train['pred1'], train['y']))"
   ]
  },
  {
   "cell_type": "code",
   "execution_count": 70,
   "metadata": {},
   "outputs": [
    {
     "name": "stdout",
     "output_type": "stream",
     "text": [
      "              precision    recall  f1-score   support\n",
      "\n",
      "         0.0       0.43      0.56      0.49      1985\n",
      "         1.0       0.68      0.57      0.62      3334\n",
      "\n",
      "   micro avg       0.56      0.56      0.56      5319\n",
      "   macro avg       0.56      0.56      0.55      5319\n",
      "weighted avg       0.59      0.56      0.57      5319\n",
      "\n"
     ]
    }
   ],
   "source": [
    "print(classification_report(test['pred1'], test['y']))"
   ]
  },
  {
   "cell_type": "code",
   "execution_count": 71,
   "metadata": {},
   "outputs": [],
   "source": [
    "from sklearn.metrics import confusion_matrix\n",
    "from sklearn.metrics import accuracy_score"
   ]
  },
  {
   "cell_type": "code",
   "execution_count": 72,
   "metadata": {},
   "outputs": [
    {
     "data": {
      "text/plain": [
       "array([[1112, 1445],\n",
       "       [ 873, 1889]], dtype=int64)"
      ]
     },
     "execution_count": 72,
     "metadata": {},
     "output_type": "execute_result"
    }
   ],
   "source": [
    "confusion_matrix(test['y'],test['pred1'])"
   ]
  },
  {
   "cell_type": "code",
   "execution_count": 75,
   "metadata": {},
   "outputs": [
    {
     "name": "stdout",
     "output_type": "stream",
     "text": [
      "The training set accuracy is 0.6095573254306353\n"
     ]
    }
   ],
   "source": [
    "print 'The training set accuracy is',accuracy_score(train['y'], train['pred1'], normalize = True)"
   ]
  },
  {
   "cell_type": "code",
   "execution_count": 76,
   "metadata": {},
   "outputs": [
    {
     "name": "stdout",
     "output_type": "stream",
     "text": [
      "The testing set accuracy is 0.5642037977063358\n"
     ]
    }
   ],
   "source": [
    "print 'The testing set accuracy is',accuracy_score(test['y'], test['pred1'], normalize = True)"
   ]
  },
  {
   "cell_type": "markdown",
   "metadata": {},
   "source": [
    "ROC, KS"
   ]
  },
  {
   "cell_type": "code",
   "execution_count": 78,
   "metadata": {},
   "outputs": [],
   "source": [
    "from sklearn.metrics import roc_curve\n",
    "import sklearn.metrics as me"
   ]
  },
  {
   "cell_type": "code",
   "execution_count": 81,
   "metadata": {},
   "outputs": [
    {
     "data": {
      "text/plain": [
       "Text(0,0.5,'tpr')"
      ]
     },
     "execution_count": 81,
     "metadata": {},
     "output_type": "execute_result"
    },
    {
     "data": {
      "image/png": "[encoded data removed]",
      "text/plain": [
       "<Figure size 432x288 with 1 Axes>"
      ]
     },
     "metadata": {
      "needs_background": "light"
     },
     "output_type": "display_data"
    }
   ],
   "source": [
    "y_pred_prob = clf.predict_proba(X_train_tfidf)[:,1]\n",
    "fpr, tpr, thresholds = roc_curve(y_train, y_pred_prob)\n",
    "plt.plot(fpr, tpr, label = 'Logistic Regression')\n",
    "plt.plot([0,1],[0,1],'k--')\n",
    "plt.title('Train Set ROC')\n",
    "plt.xlabel('fpr')\n",
    "plt.ylabel('tpr')"
   ]
  },
  {
   "cell_type": "code",
   "execution_count": 83,
   "metadata": {},
   "outputs": [
    {
     "name": "stdout",
     "output_type": "stream",
     "text": [
      "The train set AUC is 0.6542118642786661\n"
     ]
    }
   ],
   "source": [
    "auc = me.roc_auc_score(y_train, y_pred_prob)\n",
    "print 'The train set AUC is', auc"
   ]
  },
  {
   "cell_type": "code",
   "execution_count": 85,
   "metadata": {},
   "outputs": [
    {
     "name": "stdout",
     "output_type": "stream",
     "text": [
      "KS score for train set is 0.22994854584285046\n"
     ]
    }
   ],
   "source": [
    "ks=max(tpr-fpr)\n",
    "print 'KS score for train set is', ks"
   ]
  },
  {
   "cell_type": "code",
   "execution_count": 86,
   "metadata": {},
   "outputs": [
    {
     "data": {
      "text/plain": [
       "Text(0,0.5,'tpr')"
      ]
     },
     "execution_count": 86,
     "metadata": {},
     "output_type": "execute_result"
    },
    {
     "data": {
      "image/png": "[encoded data removed]",
      "text/plain": [
       "<Figure size 432x288 with 1 Axes>"
      ]
     },
     "metadata": {
      "needs_background": "light"
     },
     "output_type": "display_data"
    }
   ],
   "source": [
    "y_pred_proba = clf.predict_proba(X_test_tfidf)[:,1]\n",
    "fpr, tpr, thresholds = roc_curve(y_test, y_pred_proba)\n",
    "plt.plot(fpr, tpr, label = 'Logistic Regression')\n",
    "plt.plot([0,1],[0,1],'k--')\n",
    "plt.title('Test Set ROC')\n",
    "plt.xlabel('fpr')\n",
    "plt.ylabel('tpr')"
   ]
  },
  {
   "cell_type": "code",
   "execution_count": 87,
   "metadata": {},
   "outputs": [
    {
     "name": "stdout",
     "output_type": "stream",
     "text": [
      "The test set AUC is 0.5800531374877274\n"
     ]
    }
   ],
   "source": [
    "auc1 = me.roc_auc_score(y_test, y_pred_proba)\n",
    "print 'The test set AUC is', auc1"
   ]
  },
  {
   "cell_type": "code",
   "execution_count": 88,
   "metadata": {},
   "outputs": [
    {
     "name": "stdout",
     "output_type": "stream",
     "text": [
      "KS score for test set is 0.12611940869111132\n"
     ]
    }
   ],
   "source": [
    "ks=max(tpr-fpr)\n",
    "print 'KS score for test set is', ks"
   ]
  },
  {
   "cell_type": "markdown",
   "metadata": {},
   "source": [
    "Recovery Count"
   ]
  },
  {
   "cell_type": "code",
   "execution_count": 89,
   "metadata": {},
   "outputs": [],
   "source": [
    "train_sorted = train.sort_values(by = 'proba', ascending = False) # sort by score"
   ]
  },
  {
   "cell_type": "code",
   "execution_count": 90,
   "metadata": {},
   "outputs": [
    {
     "data": {
      "text/plain": [
       "[0.7210379981464319,\n",
       " 0.6663577386468953,\n",
       " 0.6274328081556997,\n",
       " 0.5894346617238183,\n",
       " 0.5421686746987951,\n",
       " 0.5115848007414272,\n",
       " 0.48007414272474513,\n",
       " 0.43373493975903615,\n",
       " 0.35588507877664505,\n",
       " 0.26795580110497236]"
      ]
     },
     "execution_count": 90,
     "metadata": {},
     "output_type": "execute_result"
    }
   ],
   "source": [
    "a = train_sorted.shape[0]/10\n",
    "number_list = [0,a+1,2*a+1, 3*a+1, 4*a+1, 5*a+1, 6*a+1, 7*a+1, 8*a+1]\n",
    "mean = [train_sorted.iloc[i:i+a,:].y.mean() for i in number_list] #average recovery rate\n",
    "b = train_sorted.iloc[9*a+1:,:].y.mean()\n",
    "mean.append(b)\n",
    "mean"
   ]
  },
  {
   "cell_type": "code",
   "execution_count": 92,
   "metadata": {},
   "outputs": [
    {
     "data": {
      "text/plain": [
       "Text(0.5,0,'Ranked Subset')"
      ]
     },
     "execution_count": 92,
     "metadata": {},
     "output_type": "execute_result"
    },
    {
     "data": {
      "image/png": "[encoded data removed]",
      "text/plain": [
       "<Figure size 432x288 with 1 Axes>"
      ]
     },
     "metadata": {
      "needs_background": "light"
     },
     "output_type": "display_data"
    }
   ],
   "source": [
    "plt.plot(mean)\n",
    "plt.axis([0,9,0,1])\n",
    "plt.title('Train Set Lift Chart')\n",
    "plt.ylabel('Average recovery rate')\n",
    "plt.xlabel('Ranked Subset')"
   ]
  },
  {
   "cell_type": "code",
   "execution_count": 93,
   "metadata": {},
   "outputs": [],
   "source": [
    "test_sorted = test.sort_values(by = 'proba', ascending = False) # sort by score"
   ]
  },
  {
   "cell_type": "code",
   "execution_count": 94,
   "metadata": {},
   "outputs": [
    {
     "data": {
      "text/plain": [
       "[0.6308851224105462,\n",
       " 0.583804143126177,\n",
       " 0.5725047080979284,\n",
       " 0.576271186440678,\n",
       " 0.5310734463276836,\n",
       " 0.5291902071563088,\n",
       " 0.4839924670433145,\n",
       " 0.4708097928436911,\n",
       " 0.4030131826741996,\n",
       " 0.4137291280148423]"
      ]
     },
     "execution_count": 94,
     "metadata": {},
     "output_type": "execute_result"
    }
   ],
   "source": [
    "c = test_sorted.shape[0]/10\n",
    "number_list = [0,c+1,2*c+1, 3*c+1, 4*c+1, 5*c+1, 6*c+1, 7*c+1, 8*c+1]\n",
    "mean_test = [test_sorted.iloc[i:i+c,:].y.mean() for i in number_list] #average recovery rate\n",
    "b = test_sorted.iloc[9*c+1:,:].y.mean()\n",
    "mean_test.append(b)\n",
    "mean_test"
   ]
  },
  {
   "cell_type": "code",
   "execution_count": 95,
   "metadata": {},
   "outputs": [
    {
     "data": {
      "text/plain": [
       "Text(0.5,0,'Ranked Subset')"
      ]
     },
     "execution_count": 95,
     "metadata": {},
     "output_type": "execute_result"
    },
    {
     "data": {
      "image/png": "[encoded data removed]",
      "text/plain": [
       "<Figure size 432x288 with 1 Axes>"
      ]
     },
     "metadata": {
      "needs_background": "light"
     },
     "output_type": "display_data"
    }
   ],
   "source": [
    "plt.plot(mean_test)\n",
    "plt.axis([0,9,0,1])\n",
    "plt.title('Test Set Lift Chart')\n",
    "plt.ylabel('Average recovery rate')\n",
    "plt.xlabel('Ranked Subset')"
   ]
  },
  {
   "cell_type": "markdown",
   "metadata": {},
   "source": [
    "Dollar Recovery Percentage"
   ]
  },
  {
   "cell_type": "code",
   "execution_count": 96,
   "metadata": {},
   "outputs": [
    {
     "data": {
      "text/plain": [
       "[0.08469692543758482,\n",
       " 0.07899098435385735,\n",
       " 0.07049477944022516,\n",
       " 0.06754751375535345,\n",
       " 0.06415514110781483,\n",
       " 0.054043094637561434,\n",
       " 0.05700423823789642,\n",
       " 0.05134921151339238,\n",
       " 0.04299878674987698,\n",
       " 0.024935796446246473]"
      ]
     },
     "execution_count": 96,
     "metadata": {},
     "output_type": "execute_result"
    }
   ],
   "source": [
    "a = train_sorted.shape[0]/10\n",
    "number_list = [0,a+1,2*a+1, 3*a+1, 4*a+1, 5*a+1, 6*a+1, 7*a+1, 8*a+1]\n",
    "sum_train = [train_sorted.iloc[i:i+a,:].six_month_repayment.sum() for i in number_list] #average recovery rate\n",
    "b = train_sorted.iloc[9*a+1:,:].six_month_repayment.sum()\n",
    "sum_train.append(b)\n",
    "sum_train\n",
    "\n",
    "sum_prin_train = [train_sorted.iloc[i:i+a,:].charge_off_gross_bal.sum() for i in number_list] #average recovery rate\n",
    "b = train_sorted.iloc[9*a+1:,:].charge_off_gross_bal.sum()\n",
    "sum_prin_train.append(b)\n",
    "sum_prin_train\n",
    "\n",
    "dollar_percent = [x/y for x, y in zip(sum_train,sum_prin_train)]\n",
    "dollar_percent"
   ]
  },
  {
   "cell_type": "code",
   "execution_count": 97,
   "metadata": {},
   "outputs": [
    {
     "data": {
      "text/plain": [
       "Text(0.5,0,'Ranked Subset')"
      ]
     },
     "execution_count": 97,
     "metadata": {},
     "output_type": "execute_result"
    },
    {
     "data": {
      "image/png": "[encoded data removed]",
      "text/plain": [
       "<Figure size 432x288 with 1 Axes>"
      ]
     },
     "metadata": {
      "needs_background": "light"
     },
     "output_type": "display_data"
    }
   ],
   "source": [
    "plt.plot(dollar_percent)\n",
    "plt.axis([0,9,0,0.5])\n",
    "plt.title('Train Set Lift Chart')\n",
    "plt.ylabel('Dollar recovery rate')\n",
    "plt.xlabel('Ranked Subset')"
   ]
  },
  {
   "cell_type": "code",
   "execution_count": 98,
   "metadata": {},
   "outputs": [],
   "source": [
    "c = test_sorted.shape[0]/10\n",
    "number_list = [0,c+1,2*c+1, 3*c+1, 4*c+1, 5*c+1, 6*c+1, 7*c+1, 8*c+1]\n",
    "sum_test = [test_sorted.iloc[i:i+c,:].six_month_repayment.sum() for i in number_list] #average recovery rate\n",
    "b = test_sorted.iloc[9*c+1:,:].six_month_repayment.sum()\n",
    "sum_test.append(b)"
   ]
  },
  {
   "cell_type": "code",
   "execution_count": 99,
   "metadata": {},
   "outputs": [],
   "source": [
    "sum_prin_test = [test_sorted.iloc[i:i+c,:].charge_off_gross_bal.sum() for i in number_list] #average recovery rate\n",
    "b = test_sorted.iloc[9*c+1:,:].charge_off_gross_bal.sum()\n",
    "sum_prin_test .append(b)"
   ]
  },
  {
   "cell_type": "code",
   "execution_count": 100,
   "metadata": {},
   "outputs": [
    {
     "data": {
      "text/plain": [
       "[0.06788941652045773,\n",
       " 0.06442129863480649,\n",
       " 0.07026268901324317,\n",
       " 0.06440293541395634,\n",
       " 0.06354056578652316,\n",
       " 0.07055082599439763,\n",
       " 0.05566224057268863,\n",
       " 0.05556729106146497,\n",
       " 0.04907279357589548,\n",
       " 0.044634541571184023]"
      ]
     },
     "execution_count": 100,
     "metadata": {},
     "output_type": "execute_result"
    }
   ],
   "source": [
    "dollar_percent = [x/y for x, y in zip(sum_test,sum_prin_test)]\n",
    "dollar_percent"
   ]
  },
  {
   "cell_type": "code",
   "execution_count": 102,
   "metadata": {},
   "outputs": [
    {
     "data": {
      "text/plain": [
       "Text(0.5,0,'Ranked Subset')"
      ]
     },
     "execution_count": 102,
     "metadata": {},
     "output_type": "execute_result"
    },
    {
     "data": {
      "image/png": "[encoded data removed]",
      "text/plain": [
       "<Figure size 432x288 with 1 Axes>"
      ]
     },
     "metadata": {
      "needs_background": "light"
     },
     "output_type": "display_data"
    }
   ],
   "source": [
    "plt.plot(dollar_percent)\n",
    "plt.axis([0,9,0,0.5])\n",
    "plt.title('Test Set Lift Chart')\n",
    "plt.ylabel('Dollar recovery rate')\n",
    "plt.xlabel('Ranked Subset')"
   ]
  },
  {
   "cell_type": "markdown",
   "metadata": {},
   "source": [
    "## Append Score"
   ]
  },
  {
   "cell_type": "code",
   "execution_count": 103,
   "metadata": {},
   "outputs": [],
   "source": [
    "X_all = modifiedRaw['comments']"
   ]
  },
  {
   "cell_type": "code",
   "execution_count": 104,
   "metadata": {},
   "outputs": [],
   "source": [
    "X_all_counts = cv.transform(X_all)"
   ]
  },
  {
   "cell_type": "code",
   "execution_count": 105,
   "metadata": {},
   "outputs": [],
   "source": [
    "X_all_tfidf = tfidf_transformer.transform(X_all_counts)"
   ]
  },
  {
   "cell_type": "code",
   "execution_count": 106,
   "metadata": {},
   "outputs": [],
   "source": [
    "modifiedRaw['score'] = clf.predict_proba(X_all_tfidf)[:,1]"
   ]
  },
  {
   "cell_type": "markdown",
   "metadata": {},
   "source": [
    "## Add Behavior Score"
   ]
  },
  {
   "cell_type": "code",
   "execution_count": 111,
   "metadata": {},
   "outputs": [],
   "source": [
    "bs =pd.read_csv('jzhu_DSC_seg_0712_bmerge.csv')"
   ]
  },
  {
   "cell_type": "code",
   "execution_count": 112,
   "metadata": {},
   "outputs": [],
   "source": [
    "df = pd.merge(modifiedRaw, bs, on = 'loan_id', how = 'left')"
   ]
  },
  {
   "cell_type": "code",
   "execution_count": 887,
   "metadata": {},
   "outputs": [
    {
     "data": {
      "text/plain": [
       "(12701, 22)"
      ]
     },
     "execution_count": 887,
     "metadata": {},
     "output_type": "execute_result"
    }
   ],
   "source": [
    "df = df.dropna(subset = ['behavior_score']) # remove rows with NA in behavior_score"
   ]
  },
  {
   "cell_type": "code",
   "execution_count": 110,
   "metadata": {},
   "outputs": [],
   "source": [
    "# Export file to use for ensembled model\n",
    "df.to_csv(r'export_DSC_0719.csv', index = None, header = True)"
   ]
  }
 ],
 "metadata": {
  "kernelspec": {
   "display_name": "Python 2",
   "language": "python",
   "name": "python2"
  },
  "language_info": {
   "codemirror_mode": {
    "name": "ipython",
    "version": 2
   },
   "file_extension": ".py",
   "mimetype": "text/x-python",
   "name": "python",
   "nbconvert_exporter": "python",
   "pygments_lexer": "ipython2",
   "version": "2.7.16"
  }
 },
 "nbformat": 4,
 "nbformat_minor": 2
}
