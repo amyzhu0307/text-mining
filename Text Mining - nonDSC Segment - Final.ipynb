{
 "cells": [
  {
   "cell_type": "markdown",
   "metadata": {},
   "source": [
    "# Test Mining for Non-DSC Segment"
   ]
  },
  {
   "cell_type": "markdown",
   "metadata": {},
   "source": [
    "### Data Preparation"
   ]
  },
  {
   "cell_type": "code",
   "execution_count": 1,
   "metadata": {},
   "outputs": [],
   "source": [
    "import pandas as pd\n",
    "import numpy as np\n",
    "from sklearn.feature_extraction.text import TfidfVectorizer\n",
    "from sklearn.feature_extraction.text import TfidfTransformer\n",
    "from sklearn.linear_model import LogisticRegression\n",
    "from sklearn import preprocessing\n",
    "from sklearn.feature_extraction.text import CountVectorizer\n",
    "import matplotlib.pyplot as plt\n",
    "from sklearn.model_selection import train_test_split"
   ]
  },
  {
   "cell_type": "code",
   "execution_count": 2,
   "metadata": {},
   "outputs": [
    {
     "name": "stderr",
     "output_type": "stream",
     "text": [
      "[nltk_data] Downloading package stopwords to\n",
      "[nltk_data]     C:\\Users\\jzhu\\AppData\\Roaming\\nltk_data...\n",
      "[nltk_data]   Package stopwords is already up-to-date!\n"
     ]
    }
   ],
   "source": [
    "import re\n",
    "import string\n",
    "import nltk\n",
    "nltk.download('stopwords')\n",
    "from nltk.corpus import stopwords\n",
    "from nltk.stem import PorterStemmer"
   ]
  },
  {
   "cell_type": "code",
   "execution_count": 3,
   "metadata": {},
   "outputs": [],
   "source": [
    "# Import Data File\n",
    "raw=pd.read_csv(\"0712 nonDSC SEG - Copy.csv\")"
   ]
  },
  {
   "cell_type": "code",
   "execution_count": 4,
   "metadata": {},
   "outputs": [
    {
     "name": "stdout",
     "output_type": "stream",
     "text": [
      "Unnamed: 0                  0\n",
      "X                           0\n",
      "loan_id                     0\n",
      "charge_off_type             0\n",
      "charge_off_d                0\n",
      "product                     0\n",
      "charge_off_gross_bal        0\n",
      "charge_off_month            0\n",
      "grade                    2128\n",
      "term                     2128\n",
      "three_month_repayment    2085\n",
      "six_month_repayment      4986\n",
      "nine_month_repayment     7695\n",
      "comments                   14\n",
      "numb_of_comments           14\n",
      "dtype: int64"
     ]
    },
    {
     "data": {
      "text/plain": [
       "('shape of raw', (30646, 15))"
      ]
     },
     "execution_count": 4,
     "metadata": {},
     "output_type": "execute_result"
    },
    {
     "name": "stdout",
     "output_type": "stream",
     "text": [
      "\n"
     ]
    }
   ],
   "source": [
    "# Examning NAs\n",
    "print raw.isnull().sum(), \n",
    "'shape of raw', raw.shape"
   ]
  },
  {
   "cell_type": "code",
   "execution_count": 5,
   "metadata": {},
   "outputs": [
    {
     "name": "stdout",
     "output_type": "stream",
     "text": [
      "4999 rows were dropped.\n"
     ]
    }
   ],
   "source": [
    " # Remove rows with NA in comments and prin_paid\n",
    "modifiedRaw = raw.dropna(subset = ['comments', 'six_month_repayment'])\n",
    "print raw.shape[0]-modifiedRaw.shape[0], 'rows were dropped.'"
   ]
  },
  {
   "cell_type": "code",
   "execution_count": 6,
   "metadata": {},
   "outputs": [
    {
     "data": {
      "text/plain": [
       "Unnamed: 0                  0\n",
       "X                           0\n",
       "loan_id                     0\n",
       "charge_off_type             0\n",
       "charge_off_d                0\n",
       "product                     0\n",
       "charge_off_gross_bal        0\n",
       "charge_off_month            0\n",
       "grade                    2125\n",
       "term                     2125\n",
       "three_month_repayment       0\n",
       "six_month_repayment         0\n",
       "nine_month_repayment     2707\n",
       "comments                    0\n",
       "numb_of_comments            0\n",
       "dtype: int64"
      ]
     },
     "execution_count": 6,
     "metadata": {},
     "output_type": "execute_result"
    }
   ],
   "source": [
    "modifiedRaw.isnull().sum()"
   ]
  },
  {
   "cell_type": "code",
   "execution_count": 89,
   "metadata": {},
   "outputs": [],
   "source": [
    "modifiedRaw.groupby('charge_off_month').loan_id.count()\n",
    "modifiedRaw = modifiedRaw[modifiedRaw['charge_off_month']>2016-10]"
   ]
  },
  {
   "cell_type": "code",
   "execution_count": 59,
   "metadata": {},
   "outputs": [],
   "source": [
    "# Add dollar percent recovered in three month, six month, nine month as attributes\n",
    "modifiedRaw['percent_recovered_three_month'] = modifiedRaw['three_month_repayment']/modifiedRaw['charge_off_gross_bal']\n",
    "modifiedRaw['percent_recovered_six_month'] = modifiedRaw['six_month_repayment']/modifiedRaw['charge_off_gross_bal']\n",
    "modifiedRaw['percent_recovered_nine_month'] = modifiedRaw['nine_month_repayment']/modifiedRaw['charge_off_gross_bal']"
   ]
  },
  {
   "cell_type": "code",
   "execution_count": 60,
   "metadata": {},
   "outputs": [],
   "source": [
    "# Selecting on prime and near prime\n",
    "##prime = modifiedRaw['product'] =='Prime'\n",
    "##nearprime = modifiedRaw['product'] == 'Near Prime'\n",
    "##modifiedRaw = modifiedRaw[prime | nearprime]"
   ]
  },
  {
   "cell_type": "code",
   "execution_count": 61,
   "metadata": {},
   "outputs": [
    {
     "data": {
      "text/plain": [
       "(25603, 18)"
      ]
     },
     "execution_count": 61,
     "metadata": {},
     "output_type": "execute_result"
    }
   ],
   "source": [
    "# Select only observations with six_month_repayment non-negative\n",
    "modifiedRaw = modifiedRaw[modifiedRaw['six_month_repayment']>-0.0001]\n",
    "modifiedRaw.shape"
   ]
  },
  {
   "cell_type": "markdown",
   "metadata": {},
   "source": [
    "### Descriptive Analysis"
   ]
  },
  {
   "cell_type": "markdown",
   "metadata": {},
   "source": [
    "This project is based on six month repayment of charge-off loans, so the following descriptive analysis are all in terms of six month after loans charge off date."
   ]
  },
  {
   "cell_type": "code",
   "execution_count": 62,
   "metadata": {},
   "outputs": [],
   "source": [
    "# number of loan_id having 0 paid back amount\n",
    "count_zero_repay = modifiedRaw.groupby('six_month_repayment').loan_id.count()[0]"
   ]
  },
  {
   "cell_type": "code",
   "execution_count": 11,
   "metadata": {},
   "outputs": [
    {
     "name": "stdout",
     "output_type": "stream",
     "text": [
      "The six-month unit bad rate is 0.871538491583\n",
      "The six-month unit recovery rate is 0.128461508417\n"
     ]
    }
   ],
   "source": [
    "float((count_zero_repay +0.00)/modifiedRaw.shape[0])\n",
    "print 'The six-month unit bad rate is', float((count_zero_repay +0.00)/modifiedRaw.shape[0])\n",
    "print 'The six-month unit recovery rate is', 1 - float((count_zero_repay +0.00)/modifiedRaw.shape[0])"
   ]
  },
  {
   "cell_type": "code",
   "execution_count": 12,
   "metadata": {},
   "outputs": [
    {
     "name": "stdout",
     "output_type": "stream",
     "text": [
      "Overall six-month recovered dollar percentage is 0.0247238649195\n"
     ]
    }
   ],
   "source": [
    "a = sum(modifiedRaw['six_month_repayment'])/sum(modifiedRaw['charge_off_gross_bal']) # overall recovered dollar percentage\n",
    "print'Overall six-month recovered dollar percentage is', a"
   ]
  },
  {
   "cell_type": "code",
   "execution_count": 13,
   "metadata": {},
   "outputs": [],
   "source": [
    "#raw.charge_off_gross_bal.max()"
   ]
  },
  {
   "cell_type": "code",
   "execution_count": 14,
   "metadata": {},
   "outputs": [],
   "source": [
    "#import matplotlib.pyplot as plt\n",
    "#plt.hist(modifiedRaw['six_month_repayment'], color = 'blue', edgecolor = 'black', bins = int(11000/1), density = True)\n",
    "#plt.xlim([0, 15000])\n",
    "#plt.ylim([0, 0.001])"
   ]
  },
  {
   "cell_type": "code",
   "execution_count": 16,
   "metadata": {},
   "outputs": [
    {
     "data": {
      "text/plain": [
       "<matplotlib.axes._subplots.AxesSubplot at 0x1258fba8>"
      ]
     },
     "execution_count": 16,
     "metadata": {},
     "output_type": "execute_result"
    },
    {
     "data": {
      "image/png": "[encoded data removed]",
      "text/plain": [
       "<Figure size 432x288 with 1 Axes>"
      ]
     },
     "metadata": {
      "needs_background": "light"
     },
     "output_type": "display_data"
    }
   ],
   "source": [
    "import seaborn as sns\n",
    "# Density Plot of dollars repaid\n",
    "sns.distplot(modifiedRaw['six_month_repayment'], hist=False, kde=True, \n",
    "             bins=int(180/5), color = 'darkblue', \n",
    "             hist_kws={'edgecolor':'black'},\n",
    "             kde_kws={'linewidth': 1})"
   ]
  },
  {
   "cell_type": "markdown",
   "metadata": {},
   "source": [
    "### Text Processing"
   ]
  },
  {
   "cell_type": "code",
   "execution_count": 63,
   "metadata": {},
   "outputs": [
    {
     "name": "stderr",
     "output_type": "stream",
     "text": [
      "[nltk_data] Downloading package words to\n",
      "[nltk_data]     C:\\Users\\jzhu\\AppData\\Roaming\\nltk_data...\n",
      "[nltk_data]   Package words is already up-to-date!\n"
     ]
    }
   ],
   "source": [
    "# Process text\n",
    "nltk.download('words')\n",
    "from nltk.corpus import words\n",
    "words = set(nltk.corpus.words.words())\n",
    "def get_stemmed_text(text):\n",
    "    text = text.lower() # lowercase\n",
    "    text = re.sub(\"<!--?.*?-->\",\"\",text) # removetags\n",
    "    text = re.sub(\"(\\\\d|\\\\W)+\",\" \",text) # remove special characters and digits\n",
    "    text = text.replace('[^\\w\\s]','') # remove punctuation\n",
    "    text = re.sub(\" \\d+\", \" \", text)\n",
    "    stemmer = PorterStemmer() # stemming\n",
    "    return stemmer.stem(text)"
   ]
  },
  {
   "cell_type": "code",
   "execution_count": 64,
   "metadata": {},
   "outputs": [],
   "source": [
    "modifiedRaw['comments'] = modifiedRaw['comments'].apply(lambda x:get_stemmed_text(x))"
   ]
  },
  {
   "cell_type": "code",
   "execution_count": 65,
   "metadata": {},
   "outputs": [
    {
     "data": {
      "text/plain": [
       "'col old collector moving cell phone from day phone scrub complete request name n'"
      ]
     },
     "execution_count": 65,
     "metadata": {},
     "output_type": "execute_result"
    }
   ],
   "source": [
    "# See one example\n",
    "modifiedRaw['comments'].iloc[100]"
   ]
  },
  {
   "cell_type": "code",
   "execution_count": 66,
   "metadata": {},
   "outputs": [
    {
     "name": "stderr",
     "output_type": "stream",
     "text": [
      "[nltk_data] Downloading package words to\n",
      "[nltk_data]     C:\\Users\\jzhu\\AppData\\Roaming\\nltk_data...\n",
      "[nltk_data]   Package words is already up-to-date!\n"
     ]
    }
   ],
   "source": [
    "# Remove words with no meaning\n",
    "nltk.download('words')\n",
    "from nltk.corpus import words\n",
    "from nltk.tokenize import sent_tokenize, word_tokenize \n",
    "words = set(nltk.corpus.words.words())\n",
    "def remove_nonsense_word(text):\n",
    "    return \" \".join(w for w in word_tokenize(text) if w in words)"
   ]
  },
  {
   "cell_type": "code",
   "execution_count": 67,
   "metadata": {},
   "outputs": [],
   "source": [
    "modifiedRaw['comments'] = modifiedRaw['comments'].apply(lambda x:remove_nonsense_word(x))"
   ]
  },
  {
   "cell_type": "code",
   "execution_count": 20,
   "metadata": {},
   "outputs": [
    {
     "data": {
      "text/plain": [
       "'col old collector moving cell phone from day phone scrub complete request name n'"
      ]
     },
     "execution_count": 20,
     "metadata": {},
     "output_type": "execute_result"
    }
   ],
   "source": [
    "# See the example\n",
    "modifiedRaw['comments'].iloc[100]"
   ]
  },
  {
   "cell_type": "code",
   "execution_count": 423,
   "metadata": {},
   "outputs": [],
   "source": [
    "#modifiedRaw.groupby('pco_prin_paid').loan_id.count()"
   ]
  },
  {
   "cell_type": "markdown",
   "metadata": {},
   "source": [
    "### Train and Test Split"
   ]
  },
  {
   "cell_type": "code",
   "execution_count": 21,
   "metadata": {},
   "outputs": [],
   "source": [
    "# add target\n",
    "Y = 1.0 * (modifiedRaw['percent_recovered_six_month']>0)"
   ]
  },
  {
   "cell_type": "code",
   "execution_count": 22,
   "metadata": {},
   "outputs": [],
   "source": [
    "X_train1, X_test1, y_train, y_test = train_test_split(modifiedRaw, Y, stratify = Y, test_size = 0.33, random_state = 42)"
   ]
  },
  {
   "cell_type": "code",
   "execution_count": 23,
   "metadata": {},
   "outputs": [],
   "source": [
    "X_train = X_train1['comments']\n",
    "X_test = X_test1['comments']"
   ]
  },
  {
   "cell_type": "markdown",
   "metadata": {},
   "source": [
    "### Text Vecterization "
   ]
  },
  {
   "cell_type": "code",
   "execution_count": 91,
   "metadata": {},
   "outputs": [],
   "source": [
    "stop_words = set(stopwords.words('english'))\n",
    "# hand pick nonsense word from the keywords used in model and run the model again\n",
    "stop_words.update(['sip','th','ref', 'mo','mi','doc','da','id','ne','sh','pst','oh','nu','ad','al','alt','fa','pa','pu','us','ga','se','ca','ret'])"
   ]
  },
  {
   "cell_type": "code",
   "execution_count": 92,
   "metadata": {},
   "outputs": [],
   "source": [
    "# remove words occuring in more than 90% of the documents\n",
    "# remove words occuring less than 20 times\n",
    "# remove stopwords\n",
    "cv = CountVectorizer(max_df = 0.90, min_df = 20, stop_words = stop_words)\n",
    "X_train_counts = cv.fit_transform(X_train)"
   ]
  },
  {
   "cell_type": "code",
   "execution_count": 93,
   "metadata": {},
   "outputs": [],
   "source": [
    "#cv.vocabulary_.get(u'portal'),cv.vocabulary_.get(u'mp'),cv.vocabulary_.get(u'looking')\n",
    "#print(cv.get_feature_names())\n",
    "#list(cv.vocabulary_.keys())[11]"
   ]
  },
  {
   "cell_type": "code",
   "execution_count": 94,
   "metadata": {},
   "outputs": [],
   "source": [
    "tfidf_transformer = TfidfTransformer().fit(X_train_counts)\n",
    "X_train_tfidf = tfidf_transformer.transform(X_train_counts)"
   ]
  },
  {
   "cell_type": "code",
   "execution_count": 95,
   "metadata": {},
   "outputs": [],
   "source": [
    "X_test_counts = cv.transform(X_test)\n",
    "X_test_tfidf = tfidf_transformer.transform(X_test_counts)"
   ]
  },
  {
   "cell_type": "code",
   "execution_count": 31,
   "metadata": {},
   "outputs": [],
   "source": [
    "#from statsmodels.stats.outliers_influence import variance_inflation_factor # check for multicollinearity\n",
    "#vif = [variance_inflation_factor(ddd.values, i) for i in range(ddd.shape[1])]"
   ]
  },
  {
   "cell_type": "code",
   "execution_count": 32,
   "metadata": {},
   "outputs": [],
   "source": [
    "#from mlxtend.feature_selection import SequentialFeatureSelector as SFS # stepwise selection"
   ]
  },
  {
   "cell_type": "markdown",
   "metadata": {},
   "source": [
    "### Building Logistic Regression"
   ]
  },
  {
   "cell_type": "code",
   "execution_count": 33,
   "metadata": {},
   "outputs": [
    {
     "name": "stderr",
     "output_type": "stream",
     "text": [
      "C:\\Users\\jzhu\\AppData\\Local\\Continuum\\anaconda2\\envs\\py2\\lib\\site-packages\\sklearn\\linear_model\\logistic.py:433: FutureWarning: Default solver will be changed to 'lbfgs' in 0.22. Specify a solver to silence this warning.\n",
      "  FutureWarning)\n"
     ]
    }
   ],
   "source": [
    "# Baseline model\n",
    "clf = LogisticRegression().fit(X_train_tfidf, y_train) # Lasso "
   ]
  },
  {
   "cell_type": "code",
   "execution_count": 34,
   "metadata": {},
   "outputs": [
    {
     "data": {
      "text/plain": [
       "394"
      ]
     },
     "execution_count": 34,
     "metadata": {},
     "output_type": "execute_result"
    }
   ],
   "source": [
    "# number of keywords/attributes\n",
    "np.count_nonzero(clf.coef_)"
   ]
  },
  {
   "cell_type": "markdown",
   "metadata": {},
   "source": [
    "### Hyperparameter Tuning"
   ]
  },
  {
   "cell_type": "code",
   "execution_count": 67,
   "metadata": {},
   "outputs": [],
   "source": [
    "from sklearn.model_selection import GridSearchCV, cross_val_score, cross_val_predict"
   ]
  },
  {
   "cell_type": "code",
   "execution_count": 68,
   "metadata": {},
   "outputs": [
    {
     "data": {
      "text/plain": [
       "array([1.00000000e-10, 2.68269580e-09, 7.19685673e-08, 1.93069773e-06,\n",
       "       5.17947468e-05, 1.38949549e-03, 3.72759372e-02, 1.00000000e+00,\n",
       "       2.68269580e+01, 7.19685673e+02, 1.93069773e+04, 5.17947468e+05,\n",
       "       1.38949549e+07, 3.72759372e+08, 1.00000000e+10])"
      ]
     },
     "execution_count": 68,
     "metadata": {},
     "output_type": "execute_result"
    }
   ],
   "source": [
    "np.logspace(-10,10,15)"
   ]
  },
  {
   "cell_type": "code",
   "execution_count": 69,
   "metadata": {},
   "outputs": [],
   "source": [
    "lr_params = {'penalty': ['l1'],\n",
    "          'solver':['liblinear'],\n",
    "          'C': np.logspace(-10,10,21),\n",
    "            'fit_intercept':[True, False]}"
   ]
  },
  {
   "cell_type": "code",
   "execution_count": 70,
   "metadata": {},
   "outputs": [],
   "source": [
    "lr_grid = GridSearchCV(clf, param_grid=lr_params, cv=3, n_jobs=-1, verbose=1)"
   ]
  },
  {
   "cell_type": "code",
   "execution_count": 71,
   "metadata": {
    "scrolled": true
   },
   "outputs": [
    {
     "name": "stdout",
     "output_type": "stream",
     "text": [
      "Fitting 3 folds for each of 42 candidates, totalling 126 fits\n"
     ]
    },
    {
     "name": "stderr",
     "output_type": "stream",
     "text": [
      "[Parallel(n_jobs=-1)]: Using backend LokyBackend with 4 concurrent workers.\n",
      "[Parallel(n_jobs=-1)]: Done  47 tasks      | elapsed:    8.3s\n",
      "[Parallel(n_jobs=-1)]: Done 126 out of 126 | elapsed:   14.0s finished\n"
     ]
    },
    {
     "data": {
      "text/plain": [
       "GridSearchCV(cv=3, error_score='raise-deprecating',\n",
       "       estimator=LogisticRegression(C=1.0, class_weight=None, dual=False, fit_intercept=True,\n",
       "          intercept_scaling=1, max_iter=100, multi_class='warn',\n",
       "          n_jobs=None, penalty='l2', random_state=None, solver='warn',\n",
       "          tol=0.0001, verbose=0, warm_start=False),\n",
       "       fit_params=None, iid='warn', n_jobs=-1,\n",
       "       param_grid={'penalty': ['l1'], 'C': array([1.e-10, 1.e-09, 1.e-08, 1.e-07, 1.e-06, 1.e-05, 1.e-04, 1.e-03,\n",
       "       1.e-02, 1.e-01, 1.e+00, 1.e+01, 1.e+02, 1.e+03, 1.e+04, 1.e+05,\n",
       "       1.e+06, 1.e+07, 1.e+08, 1.e+09, 1.e+10]), 'fit_intercept': [True, False], 'solver': ['liblinear']},\n",
       "       pre_dispatch='2*n_jobs', refit=True, return_train_score='warn',\n",
       "       scoring=None, verbose=1)"
      ]
     },
     "execution_count": 71,
     "metadata": {},
     "output_type": "execute_result"
    }
   ],
   "source": [
    "# fit with the tranformed sparse matrix\n",
    "lr_grid = GridSearchCV(clf, param_grid=lr_params, cv=3, n_jobs=-1, verbose=1)\n",
    "lr_grid.fit(X_train_tfidf, y_train)"
   ]
  },
  {
   "cell_type": "code",
   "execution_count": 72,
   "metadata": {},
   "outputs": [
    {
     "name": "stdout",
     "output_type": "stream",
     "text": [
      "Best Score: 0.8715168473825347\n"
     ]
    }
   ],
   "source": [
    "print 'Best Score:', lr_grid.best_score_"
   ]
  },
  {
   "cell_type": "code",
   "execution_count": 74,
   "metadata": {},
   "outputs": [
    {
     "data": {
      "text/plain": [
       "LogisticRegression(C=1e-10, class_weight=None, dual=False, fit_intercept=True,\n",
       "          intercept_scaling=1, max_iter=100, multi_class='warn',\n",
       "          n_jobs=None, penalty='l1', random_state=None, solver='liblinear',\n",
       "          tol=0.0001, verbose=0, warm_start=False)"
      ]
     },
     "execution_count": 74,
     "metadata": {},
     "output_type": "execute_result"
    }
   ],
   "source": [
    "best_lr = lr_grid.best_estimator_"
   ]
  },
  {
   "cell_type": "code",
   "execution_count": 96,
   "metadata": {},
   "outputs": [],
   "source": [
    "# Run model with best params\n",
    "clf = LogisticRegression(penalty='l1',max_iter = 100, multi_class = 'warn', random_state=0, C=1.0, solver =  'liblinear').fit(X_train_tfidf, y_train) # Lasso "
   ]
  },
  {
   "cell_type": "code",
   "execution_count": 97,
   "metadata": {},
   "outputs": [
    {
     "data": {
      "text/plain": [
       "array([ 0.77847795, -0.09839592,  0.27017807,  0.99416328, -0.49958837,\n",
       "        0.01248201,  0.7375132 , -0.24359832, -0.79663924, -0.51624694,\n",
       "        0.77329236,  0.0240415 ,  1.49641184, -0.1457373 , -0.76732429,\n",
       "        0.86577556,  0.28761308,  0.31400599, -0.11787932,  0.53604352,\n",
       "        0.26356547,  1.13117764, -0.46872819,  1.01067988,  1.28539402,\n",
       "        1.12184695, -0.57300727, -2.22125592,  0.10563857,  0.52440624,\n",
       "       -0.06109809, -0.43109215, -0.02701227,  0.59978797, -0.39301713,\n",
       "        0.45558759,  0.24586445,  0.01727601, -0.86300979,  0.88658765,\n",
       "        0.76398514, -0.78129666,  0.23662173, -0.38475016, -0.06976628,\n",
       "       -0.27283697,  0.12116156,  0.04560231, -0.31060282,  1.99017255,\n",
       "       -0.27902059, -0.09659267, -0.35881088,  0.50900994,  0.4261005 ,\n",
       "        0.88931947, -0.25083731,  2.44596909, -0.21573982,  1.56678801,\n",
       "        0.52531423,  0.60276077, -0.51698161, -0.11393061,  0.35745164,\n",
       "        0.00429254,  0.44155023,  0.27374124,  1.087077  ,  1.6153949 ,\n",
       "       -0.47510804, -1.04069335, -1.30319675,  0.85672533,  0.08346065,\n",
       "        0.28409564,  0.13168597,  0.25909013, -0.61053749,  1.74145182,\n",
       "        0.12335749, -0.0879147 ,  0.98960419,  0.49221791,  0.92924548,\n",
       "        1.2174717 ,  0.01105561,  0.0779381 ,  0.34193566, -0.51683057,\n",
       "        0.39435953, -0.55241224, -0.07314971, -0.83073206,  1.58348922,\n",
       "        0.33599902,  0.01679631,  0.17261287, -0.6604542 , -0.04872218,\n",
       "       -0.54046991,  0.48513201, -0.14833654, -0.69941872,  0.030612  ,\n",
       "       -0.2354491 ,  0.65041776, -1.15994381,  0.22256604,  0.34242201,\n",
       "        0.30947088,  0.12253091, -0.36156137, -0.42987824, -0.16051295,\n",
       "       -0.87231205,  0.75406997,  1.14663247, -0.32798656,  0.4542551 ,\n",
       "       -0.14346952,  0.27287195, -0.79501147, -0.03834171,  1.20255979,\n",
       "        0.40995808,  0.23079326,  1.35453221, -0.42796908, -0.49993706,\n",
       "        0.1738182 ,  0.07284375,  0.66583245,  1.05729845,  0.30711375,\n",
       "       -0.77993007, -0.5414184 ,  0.64755702, -0.54351801,  1.86600332,\n",
       "        0.4711779 , -0.54709121,  0.15325297,  0.4702053 ,  0.80443033,\n",
       "        0.22551396,  0.01233277,  0.06152767,  0.15474675, -1.10931104,\n",
       "        0.15336103,  0.51492659,  0.96115764, -0.00626524,  1.33183937,\n",
       "        0.4719409 ,  0.06803692, -0.79902215,  0.11331524, -0.28236074,\n",
       "        0.73942957, -0.29754041,  0.1919213 , -0.21457735,  0.26500226,\n",
       "       -0.38868103,  1.13900791,  1.26354759, -0.06625314,  0.15963951,\n",
       "       -1.36738535,  1.29035612,  0.7995346 ,  0.57572859,  0.20100741,\n",
       "        1.73611792, -0.40675804,  0.25733559,  0.62738148,  0.50386954,\n",
       "        0.31929849, -1.15908252,  0.33589217, -0.66073692,  0.65204029,\n",
       "        0.91425484, -1.95321575,  1.40365761,  0.56000726,  0.81265047,\n",
       "       -0.30110459, -0.7860597 ,  0.29770366, -0.62617986, -0.5475912 ,\n",
       "       -0.37325905,  1.11977535,  0.04599764,  1.61185615])"
      ]
     },
     "execution_count": 97,
     "metadata": {},
     "output_type": "execute_result"
    }
   ],
   "source": [
    "# Number of keywords/attributes\n",
    "np.count_nonzero(clf.coef_)\n",
    "clf.coef_[np.nonzero(clf.coef_)]"
   ]
  },
  {
   "cell_type": "markdown",
   "metadata": {},
   "source": [
    "### Selected Attribute/Keyword Description"
   ]
  },
  {
   "cell_type": "code",
   "execution_count": 98,
   "metadata": {},
   "outputs": [],
   "source": [
    "numb_of_attribute = np.count_nonzero(clf.coef_) # number of attributes/words"
   ]
  },
  {
   "cell_type": "code",
   "execution_count": 99,
   "metadata": {},
   "outputs": [
    {
     "data": {
      "text/plain": [
       "[u'eligible',\n",
       " u'sorry',\n",
       " u'street',\n",
       " u'new',\n",
       " u'told',\n",
       " u'credit',\n",
       " u'total',\n",
       " u'unit',\n",
       " u'negative',\n",
       " u'type',\n",
       " u'phone',\n",
       " u'setup',\n",
       " u'work',\n",
       " u'defer',\n",
       " u'want',\n",
       " u'end',\n",
       " u'machine',\n",
       " u'hot',\n",
       " u'answer',\n",
       " u'beach',\n",
       " u'wrong',\n",
       " u'las',\n",
       " u'attempt',\n",
       " u'office',\n",
       " u'bank',\n",
       " u'financial',\n",
       " u'collector',\n",
       " u'ring',\n",
       " u'debit',\n",
       " u'already',\n",
       " u'another',\n",
       " u'desist',\n",
       " u'contact',\n",
       " u'letter',\n",
       " u'busy',\n",
       " u'stop',\n",
       " u'next',\n",
       " u'report',\n",
       " u'bad',\n",
       " u'best',\n",
       " u'said',\n",
       " u'unable',\n",
       " u'however',\n",
       " u'receiver',\n",
       " u'loaded',\n",
       " u'speak',\n",
       " u'east',\n",
       " u'voice',\n",
       " u'portal',\n",
       " u'client',\n",
       " u'left',\n",
       " u'thanks',\n",
       " u'hung',\n",
       " u'right',\n",
       " u'creek',\n",
       " u'post',\n",
       " u'poss',\n",
       " u'initial',\n",
       " u'payment',\n",
       " u'avail',\n",
       " u'drive',\n",
       " u'update',\n",
       " u'longer',\n",
       " u'skip',\n",
       " u'charge',\n",
       " u'trouble',\n",
       " u'item',\n",
       " u'club',\n",
       " u'predict',\n",
       " u'may',\n",
       " u'date',\n",
       " u'coll',\n",
       " u'group',\n",
       " u'thank',\n",
       " u'non',\n",
       " u'card',\n",
       " u'first',\n",
       " u'one',\n",
       " u'long',\n",
       " u'message',\n",
       " u'tomorrow',\n",
       " u'city',\n",
       " u'national',\n",
       " u'summary',\n",
       " u'note',\n",
       " u'professional',\n",
       " u'filing',\n",
       " u'inn',\n",
       " u'get',\n",
       " u'notice',\n",
       " u'behind',\n",
       " u'deduction',\n",
       " u'poe',\n",
       " u'disconnected',\n",
       " u'situation',\n",
       " u'good',\n",
       " u'status',\n",
       " u'relief',\n",
       " u'amt',\n",
       " u'greeting',\n",
       " u'fully',\n",
       " u'legal',\n",
       " u'road',\n",
       " u'valley',\n",
       " u'complete',\n",
       " u'file',\n",
       " u'sufficient',\n",
       " u'wife',\n",
       " u'month',\n",
       " u'woman',\n",
       " u'returned',\n",
       " u'list',\n",
       " u'past',\n",
       " u'full',\n",
       " u'amount',\n",
       " u'family',\n",
       " u'authorization',\n",
       " u'stated',\n",
       " u'information',\n",
       " u'needs',\n",
       " u'court',\n",
       " u'pay',\n",
       " u'help',\n",
       " u'avenue',\n",
       " u'late',\n",
       " u'return',\n",
       " u'hill',\n",
       " u'issue',\n",
       " u'reason',\n",
       " u'ask',\n",
       " u'dont',\n",
       " u'outbound',\n",
       " u'clean',\n",
       " u'please',\n",
       " u'hardship',\n",
       " u'last',\n",
       " u'loan',\n",
       " u'monthly',\n",
       " u'po',\n",
       " u'moving',\n",
       " u'user',\n",
       " u'person',\n",
       " u'inactive',\n",
       " u'lost',\n",
       " u'continue',\n",
       " u'back',\n",
       " u'ba',\n",
       " u'within',\n",
       " u'fast',\n",
       " u'forward',\n",
       " u'posted',\n",
       " u'verification',\n",
       " u'cure',\n",
       " u'hello',\n",
       " u'code',\n",
       " u'go',\n",
       " u'send',\n",
       " u'sent',\n",
       " u'try',\n",
       " u'schedule',\n",
       " u'access',\n",
       " u'got',\n",
       " u'fee',\n",
       " u'account',\n",
       " u'didnt',\n",
       " u'phon',\n",
       " u'ach',\n",
       " u'process',\n",
       " u'arrangement',\n",
       " u'delay',\n",
       " u'act',\n",
       " u'collection',\n",
       " u'tach',\n",
       " u'move',\n",
       " u'la',\n",
       " u'doesnt',\n",
       " u'batch',\n",
       " u'rep',\n",
       " u'delinquency',\n",
       " u'could',\n",
       " u'south',\n",
       " u'need',\n",
       " u'turn',\n",
       " u'able',\n",
       " u'si',\n",
       " u'hi',\n",
       " u'predictive',\n",
       " u'job',\n",
       " u'mailbox',\n",
       " u'mail',\n",
       " u'debtor',\n",
       " u'ave',\n",
       " u'nightly',\n",
       " u'lake',\n",
       " u'works',\n",
       " u'freedom',\n",
       " u'female',\n",
       " u'transfer',\n",
       " u'oak']"
      ]
     },
     "execution_count": 99,
     "metadata": {},
     "output_type": "execute_result"
    }
   ],
   "source": [
    "index= np.nonzero(clf.coef_)[1]\n",
    "list_of_keywords = [list(cv.vocabulary_.keys())[index[i]] for i in range(numb_of_attribute)] # keywords used in model\n",
    "list_of_keywords"
   ]
  },
  {
   "cell_type": "code",
   "execution_count": 100,
   "metadata": {},
   "outputs": [],
   "source": [
    "normalized_frequency = [((cv.vocabulary_.get(list_of_keywords[i]) + 0.00)/modifiedRaw.shape[0]) for i in range(numb_of_attribute)]\n",
    "frequency = [cv.vocabulary_.get(list_of_keywords[i]) for i in range(numb_of_attribute)]"
   ]
  },
  {
   "cell_type": "code",
   "execution_count": 101,
   "metadata": {
    "scrolled": true
   },
   "outputs": [
    {
     "data": {
      "text/html": [
       "<div>\n",
       "<style scoped>\n",
       "    .dataframe tbody tr th:only-of-type {\n",
       "        vertical-align: middle;\n",
       "    }\n",
       "\n",
       "    .dataframe tbody tr th {\n",
       "        vertical-align: top;\n",
       "    }\n",
       "\n",
       "    .dataframe thead th {\n",
       "        text-align: right;\n",
       "    }\n",
       "</style>\n",
       "<table border=\"1\" class=\"dataframe\">\n",
       "  <thead>\n",
       "    <tr style=\"text-align: right;\">\n",
       "      <th></th>\n",
       "      <th>coeficient</th>\n",
       "      <th>frequency</th>\n",
       "      <th>keywords</th>\n",
       "      <th>normalized_frequency</th>\n",
       "    </tr>\n",
       "  </thead>\n",
       "  <tbody>\n",
       "    <tr>\n",
       "      <th>20</th>\n",
       "      <td>0.263565</td>\n",
       "      <td>391</td>\n",
       "      <td>wrong</td>\n",
       "      <td>0.015272</td>\n",
       "    </tr>\n",
       "    <tr>\n",
       "      <th>194</th>\n",
       "      <td>-0.547591</td>\n",
       "      <td>389</td>\n",
       "      <td>works</td>\n",
       "      <td>0.015194</td>\n",
       "    </tr>\n",
       "    <tr>\n",
       "      <th>12</th>\n",
       "      <td>1.496412</td>\n",
       "      <td>387</td>\n",
       "      <td>work</td>\n",
       "      <td>0.015115</td>\n",
       "    </tr>\n",
       "    <tr>\n",
       "      <th>109</th>\n",
       "      <td>0.342422</td>\n",
       "      <td>386</td>\n",
       "      <td>woman</td>\n",
       "      <td>0.015076</td>\n",
       "    </tr>\n",
       "    <tr>\n",
       "      <th>147</th>\n",
       "      <td>0.061528</td>\n",
       "      <td>385</td>\n",
       "      <td>within</td>\n",
       "      <td>0.015037</td>\n",
       "    </tr>\n",
       "    <tr>\n",
       "      <th>107</th>\n",
       "      <td>-1.159944</td>\n",
       "      <td>384</td>\n",
       "      <td>wife</td>\n",
       "      <td>0.014998</td>\n",
       "    </tr>\n",
       "    <tr>\n",
       "      <th>14</th>\n",
       "      <td>-0.767324</td>\n",
       "      <td>378</td>\n",
       "      <td>want</td>\n",
       "      <td>0.014764</td>\n",
       "    </tr>\n",
       "    <tr>\n",
       "      <th>47</th>\n",
       "      <td>0.045602</td>\n",
       "      <td>376</td>\n",
       "      <td>voice</td>\n",
       "      <td>0.014686</td>\n",
       "    </tr>\n",
       "    <tr>\n",
       "      <th>151</th>\n",
       "      <td>0.514927</td>\n",
       "      <td>371</td>\n",
       "      <td>verification</td>\n",
       "      <td>0.014490</td>\n",
       "    </tr>\n",
       "    <tr>\n",
       "      <th>103</th>\n",
       "      <td>-0.699419</td>\n",
       "      <td>369</td>\n",
       "      <td>valley</td>\n",
       "      <td>0.014412</td>\n",
       "    </tr>\n",
       "    <tr>\n",
       "      <th>140</th>\n",
       "      <td>0.471178</td>\n",
       "      <td>367</td>\n",
       "      <td>user</td>\n",
       "      <td>0.014334</td>\n",
       "    </tr>\n",
       "    <tr>\n",
       "      <th>61</th>\n",
       "      <td>0.602761</td>\n",
       "      <td>366</td>\n",
       "      <td>update</td>\n",
       "      <td>0.014295</td>\n",
       "    </tr>\n",
       "    <tr>\n",
       "      <th>7</th>\n",
       "      <td>-0.243598</td>\n",
       "      <td>365</td>\n",
       "      <td>unit</td>\n",
       "      <td>0.014256</td>\n",
       "    </tr>\n",
       "    <tr>\n",
       "      <th>41</th>\n",
       "      <td>-0.781297</td>\n",
       "      <td>363</td>\n",
       "      <td>unable</td>\n",
       "      <td>0.014178</td>\n",
       "    </tr>\n",
       "    <tr>\n",
       "      <th>9</th>\n",
       "      <td>-0.516247</td>\n",
       "      <td>362</td>\n",
       "      <td>type</td>\n",
       "      <td>0.014139</td>\n",
       "    </tr>\n",
       "    <tr>\n",
       "      <th>182</th>\n",
       "      <td>0.335892</td>\n",
       "      <td>359</td>\n",
       "      <td>turn</td>\n",
       "      <td>0.014022</td>\n",
       "    </tr>\n",
       "    <tr>\n",
       "      <th>158</th>\n",
       "      <td>0.113315</td>\n",
       "      <td>358</td>\n",
       "      <td>try</td>\n",
       "      <td>0.013983</td>\n",
       "    </tr>\n",
       "    <tr>\n",
       "      <th>65</th>\n",
       "      <td>0.004293</td>\n",
       "      <td>357</td>\n",
       "      <td>trouble</td>\n",
       "      <td>0.013944</td>\n",
       "    </tr>\n",
       "    <tr>\n",
       "      <th>197</th>\n",
       "      <td>0.045998</td>\n",
       "      <td>355</td>\n",
       "      <td>transfer</td>\n",
       "      <td>0.013866</td>\n",
       "    </tr>\n",
       "    <tr>\n",
       "      <th>6</th>\n",
       "      <td>0.737513</td>\n",
       "      <td>353</td>\n",
       "      <td>total</td>\n",
       "      <td>0.013787</td>\n",
       "    </tr>\n",
       "    <tr>\n",
       "      <th>80</th>\n",
       "      <td>0.123357</td>\n",
       "      <td>350</td>\n",
       "      <td>tomorrow</td>\n",
       "      <td>0.013670</td>\n",
       "    </tr>\n",
       "    <tr>\n",
       "      <th>4</th>\n",
       "      <td>-0.499588</td>\n",
       "      <td>349</td>\n",
       "      <td>told</td>\n",
       "      <td>0.013631</td>\n",
       "    </tr>\n",
       "    <tr>\n",
       "      <th>51</th>\n",
       "      <td>-0.096593</td>\n",
       "      <td>345</td>\n",
       "      <td>thanks</td>\n",
       "      <td>0.013475</td>\n",
       "    </tr>\n",
       "    <tr>\n",
       "      <th>73</th>\n",
       "      <td>0.856725</td>\n",
       "      <td>344</td>\n",
       "      <td>thank</td>\n",
       "      <td>0.013436</td>\n",
       "    </tr>\n",
       "    <tr>\n",
       "      <th>172</th>\n",
       "      <td>0.799535</td>\n",
       "      <td>342</td>\n",
       "      <td>tach</td>\n",
       "      <td>0.013358</td>\n",
       "    </tr>\n",
       "    <tr>\n",
       "      <th>83</th>\n",
       "      <td>0.492218</td>\n",
       "      <td>341</td>\n",
       "      <td>summary</td>\n",
       "      <td>0.013319</td>\n",
       "    </tr>\n",
       "    <tr>\n",
       "      <th>106</th>\n",
       "      <td>0.650418</td>\n",
       "      <td>340</td>\n",
       "      <td>sufficient</td>\n",
       "      <td>0.013280</td>\n",
       "    </tr>\n",
       "    <tr>\n",
       "      <th>2</th>\n",
       "      <td>0.270178</td>\n",
       "      <td>339</td>\n",
       "      <td>street</td>\n",
       "      <td>0.013241</td>\n",
       "    </tr>\n",
       "    <tr>\n",
       "      <th>35</th>\n",
       "      <td>0.455588</td>\n",
       "      <td>337</td>\n",
       "      <td>stop</td>\n",
       "      <td>0.013163</td>\n",
       "    </tr>\n",
       "    <tr>\n",
       "      <th>96</th>\n",
       "      <td>0.016796</td>\n",
       "      <td>335</td>\n",
       "      <td>status</td>\n",
       "      <td>0.013084</td>\n",
       "    </tr>\n",
       "    <tr>\n",
       "      <th>...</th>\n",
       "      <td>...</td>\n",
       "      <td>...</td>\n",
       "      <td>...</td>\n",
       "      <td>...</td>\n",
       "    </tr>\n",
       "    <tr>\n",
       "      <th>159</th>\n",
       "      <td>-0.282361</td>\n",
       "      <td>310</td>\n",
       "      <td>schedule</td>\n",
       "      <td>0.012108</td>\n",
       "    </tr>\n",
       "    <tr>\n",
       "      <th>40</th>\n",
       "      <td>0.763985</td>\n",
       "      <td>308</td>\n",
       "      <td>said</td>\n",
       "      <td>0.012030</td>\n",
       "    </tr>\n",
       "    <tr>\n",
       "      <th>102</th>\n",
       "      <td>-0.148337</td>\n",
       "      <td>306</td>\n",
       "      <td>road</td>\n",
       "      <td>0.011952</td>\n",
       "    </tr>\n",
       "    <tr>\n",
       "      <th>27</th>\n",
       "      <td>-2.221256</td>\n",
       "      <td>305</td>\n",
       "      <td>ring</td>\n",
       "      <td>0.011913</td>\n",
       "    </tr>\n",
       "    <tr>\n",
       "      <th>53</th>\n",
       "      <td>0.509010</td>\n",
       "      <td>304</td>\n",
       "      <td>right</td>\n",
       "      <td>0.011874</td>\n",
       "    </tr>\n",
       "    <tr>\n",
       "      <th>110</th>\n",
       "      <td>0.309471</td>\n",
       "      <td>302</td>\n",
       "      <td>returned</td>\n",
       "      <td>0.011795</td>\n",
       "    </tr>\n",
       "    <tr>\n",
       "      <th>125</th>\n",
       "      <td>0.409958</td>\n",
       "      <td>301</td>\n",
       "      <td>return</td>\n",
       "      <td>0.011756</td>\n",
       "    </tr>\n",
       "    <tr>\n",
       "      <th>37</th>\n",
       "      <td>0.017276</td>\n",
       "      <td>295</td>\n",
       "      <td>report</td>\n",
       "      <td>0.011522</td>\n",
       "    </tr>\n",
       "    <tr>\n",
       "      <th>177</th>\n",
       "      <td>0.257336</td>\n",
       "      <td>294</td>\n",
       "      <td>rep</td>\n",
       "      <td>0.011483</td>\n",
       "    </tr>\n",
       "    <tr>\n",
       "      <th>97</th>\n",
       "      <td>0.172613</td>\n",
       "      <td>290</td>\n",
       "      <td>relief</td>\n",
       "      <td>0.011327</td>\n",
       "    </tr>\n",
       "    <tr>\n",
       "      <th>43</th>\n",
       "      <td>-0.384750</td>\n",
       "      <td>287</td>\n",
       "      <td>receiver</td>\n",
       "      <td>0.011210</td>\n",
       "    </tr>\n",
       "    <tr>\n",
       "      <th>128</th>\n",
       "      <td>-0.427969</td>\n",
       "      <td>282</td>\n",
       "      <td>reason</td>\n",
       "      <td>0.011014</td>\n",
       "    </tr>\n",
       "    <tr>\n",
       "      <th>85</th>\n",
       "      <td>1.217472</td>\n",
       "      <td>276</td>\n",
       "      <td>professional</td>\n",
       "      <td>0.010780</td>\n",
       "    </tr>\n",
       "    <tr>\n",
       "      <th>167</th>\n",
       "      <td>1.263548</td>\n",
       "      <td>275</td>\n",
       "      <td>process</td>\n",
       "      <td>0.010741</td>\n",
       "    </tr>\n",
       "    <tr>\n",
       "      <th>186</th>\n",
       "      <td>-1.953216</td>\n",
       "      <td>272</td>\n",
       "      <td>predictive</td>\n",
       "      <td>0.010624</td>\n",
       "    </tr>\n",
       "    <tr>\n",
       "      <th>68</th>\n",
       "      <td>1.087077</td>\n",
       "      <td>271</td>\n",
       "      <td>predict</td>\n",
       "      <td>0.010585</td>\n",
       "    </tr>\n",
       "    <tr>\n",
       "      <th>150</th>\n",
       "      <td>0.153361</td>\n",
       "      <td>269</td>\n",
       "      <td>posted</td>\n",
       "      <td>0.010507</td>\n",
       "    </tr>\n",
       "    <tr>\n",
       "      <th>55</th>\n",
       "      <td>0.889319</td>\n",
       "      <td>268</td>\n",
       "      <td>post</td>\n",
       "      <td>0.010468</td>\n",
       "    </tr>\n",
       "    <tr>\n",
       "      <th>56</th>\n",
       "      <td>-0.250837</td>\n",
       "      <td>266</td>\n",
       "      <td>poss</td>\n",
       "      <td>0.010389</td>\n",
       "    </tr>\n",
       "    <tr>\n",
       "      <th>48</th>\n",
       "      <td>-0.310603</td>\n",
       "      <td>265</td>\n",
       "      <td>portal</td>\n",
       "      <td>0.010350</td>\n",
       "    </tr>\n",
       "    <tr>\n",
       "      <th>92</th>\n",
       "      <td>-0.073150</td>\n",
       "      <td>263</td>\n",
       "      <td>poe</td>\n",
       "      <td>0.010272</td>\n",
       "    </tr>\n",
       "    <tr>\n",
       "      <th>138</th>\n",
       "      <td>-0.543518</td>\n",
       "      <td>262</td>\n",
       "      <td>po</td>\n",
       "      <td>0.010233</td>\n",
       "    </tr>\n",
       "    <tr>\n",
       "      <th>133</th>\n",
       "      <td>1.057298</td>\n",
       "      <td>261</td>\n",
       "      <td>please</td>\n",
       "      <td>0.010194</td>\n",
       "    </tr>\n",
       "    <tr>\n",
       "      <th>10</th>\n",
       "      <td>0.773292</td>\n",
       "      <td>258</td>\n",
       "      <td>phone</td>\n",
       "      <td>0.010077</td>\n",
       "    </tr>\n",
       "    <tr>\n",
       "      <th>165</th>\n",
       "      <td>-0.388681</td>\n",
       "      <td>257</td>\n",
       "      <td>phon</td>\n",
       "      <td>0.010038</td>\n",
       "    </tr>\n",
       "    <tr>\n",
       "      <th>141</th>\n",
       "      <td>-0.547091</td>\n",
       "      <td>254</td>\n",
       "      <td>person</td>\n",
       "      <td>0.009921</td>\n",
       "    </tr>\n",
       "    <tr>\n",
       "      <th>58</th>\n",
       "      <td>-0.215740</td>\n",
       "      <td>250</td>\n",
       "      <td>payment</td>\n",
       "      <td>0.009764</td>\n",
       "    </tr>\n",
       "    <tr>\n",
       "      <th>121</th>\n",
       "      <td>0.272872</td>\n",
       "      <td>249</td>\n",
       "      <td>pay</td>\n",
       "      <td>0.009725</td>\n",
       "    </tr>\n",
       "    <tr>\n",
       "      <th>112</th>\n",
       "      <td>-0.361561</td>\n",
       "      <td>248</td>\n",
       "      <td>past</td>\n",
       "      <td>0.009686</td>\n",
       "    </tr>\n",
       "    <tr>\n",
       "      <th>131</th>\n",
       "      <td>0.072844</td>\n",
       "      <td>243</td>\n",
       "      <td>outbound</td>\n",
       "      <td>0.009491</td>\n",
       "    </tr>\n",
       "  </tbody>\n",
       "</table>\n",
       "<p>70 rows × 4 columns</p>\n",
       "</div>"
      ],
      "text/plain": [
       "     coeficient  frequency      keywords  normalized_frequency\n",
       "20     0.263565        391         wrong              0.015272\n",
       "194   -0.547591        389         works              0.015194\n",
       "12     1.496412        387          work              0.015115\n",
       "109    0.342422        386         woman              0.015076\n",
       "147    0.061528        385        within              0.015037\n",
       "107   -1.159944        384          wife              0.014998\n",
       "14    -0.767324        378          want              0.014764\n",
       "47     0.045602        376         voice              0.014686\n",
       "151    0.514927        371  verification              0.014490\n",
       "103   -0.699419        369        valley              0.014412\n",
       "140    0.471178        367          user              0.014334\n",
       "61     0.602761        366        update              0.014295\n",
       "7     -0.243598        365          unit              0.014256\n",
       "41    -0.781297        363        unable              0.014178\n",
       "9     -0.516247        362          type              0.014139\n",
       "182    0.335892        359          turn              0.014022\n",
       "158    0.113315        358           try              0.013983\n",
       "65     0.004293        357       trouble              0.013944\n",
       "197    0.045998        355      transfer              0.013866\n",
       "6      0.737513        353         total              0.013787\n",
       "80     0.123357        350      tomorrow              0.013670\n",
       "4     -0.499588        349          told              0.013631\n",
       "51    -0.096593        345        thanks              0.013475\n",
       "73     0.856725        344         thank              0.013436\n",
       "172    0.799535        342          tach              0.013358\n",
       "83     0.492218        341       summary              0.013319\n",
       "106    0.650418        340    sufficient              0.013280\n",
       "2      0.270178        339        street              0.013241\n",
       "35     0.455588        337          stop              0.013163\n",
       "96     0.016796        335        status              0.013084\n",
       "..          ...        ...           ...                   ...\n",
       "159   -0.282361        310      schedule              0.012108\n",
       "40     0.763985        308          said              0.012030\n",
       "102   -0.148337        306          road              0.011952\n",
       "27    -2.221256        305          ring              0.011913\n",
       "53     0.509010        304         right              0.011874\n",
       "110    0.309471        302      returned              0.011795\n",
       "125    0.409958        301        return              0.011756\n",
       "37     0.017276        295        report              0.011522\n",
       "177    0.257336        294           rep              0.011483\n",
       "97     0.172613        290        relief              0.011327\n",
       "43    -0.384750        287      receiver              0.011210\n",
       "128   -0.427969        282        reason              0.011014\n",
       "85     1.217472        276  professional              0.010780\n",
       "167    1.263548        275       process              0.010741\n",
       "186   -1.953216        272    predictive              0.010624\n",
       "68     1.087077        271       predict              0.010585\n",
       "150    0.153361        269        posted              0.010507\n",
       "55     0.889319        268          post              0.010468\n",
       "56    -0.250837        266          poss              0.010389\n",
       "48    -0.310603        265        portal              0.010350\n",
       "92    -0.073150        263           poe              0.010272\n",
       "138   -0.543518        262            po              0.010233\n",
       "133    1.057298        261        please              0.010194\n",
       "10     0.773292        258         phone              0.010077\n",
       "165   -0.388681        257          phon              0.010038\n",
       "141   -0.547091        254        person              0.009921\n",
       "58    -0.215740        250       payment              0.009764\n",
       "121    0.272872        249           pay              0.009725\n",
       "112   -0.361561        248          past              0.009686\n",
       "131    0.072844        243      outbound              0.009491\n",
       "\n",
       "[70 rows x 4 columns]"
      ]
     },
     "execution_count": 101,
     "metadata": {},
     "output_type": "execute_result"
    }
   ],
   "source": [
    "keywords_freq = pd.DataFrame({'keywords':list_of_keywords,\n",
    "                              'normalized_frequency': normalized_frequency,\n",
    "                              'frequency': frequency,\n",
    "                             'coeficient': clf.coef_[np.nonzero(clf.coef_)]})\n",
    "keywords_freq.sort_values('frequency',ascending=False)[0:70]"
   ]
  },
  {
   "cell_type": "code",
   "execution_count": null,
   "metadata": {},
   "outputs": [],
   "source": []
  },
  {
   "cell_type": "markdown",
   "metadata": {},
   "source": [
    "## Keyword Context"
   ]
  },
  {
   "cell_type": "code",
   "execution_count": 121,
   "metadata": {},
   "outputs": [
    {
     "data": {
      "text/html": [
       "<div>\n",
       "<style scoped>\n",
       "    .dataframe tbody tr th:only-of-type {\n",
       "        vertical-align: middle;\n",
       "    }\n",
       "\n",
       "    .dataframe tbody tr th {\n",
       "        vertical-align: top;\n",
       "    }\n",
       "\n",
       "    .dataframe thead th {\n",
       "        text-align: right;\n",
       "    }\n",
       "</style>\n",
       "<table border=\"1\" class=\"dataframe\">\n",
       "  <thead>\n",
       "    <tr style=\"text-align: right;\">\n",
       "      <th></th>\n",
       "      <th>Unnamed: 0</th>\n",
       "      <th>X</th>\n",
       "      <th>loan_id</th>\n",
       "      <th>charge_off_type</th>\n",
       "      <th>charge_off_d</th>\n",
       "      <th>product</th>\n",
       "      <th>charge_off_gross_bal</th>\n",
       "      <th>charge_off_month</th>\n",
       "      <th>grade</th>\n",
       "      <th>term</th>\n",
       "      <th>three_month_repayment</th>\n",
       "      <th>six_month_repayment</th>\n",
       "      <th>nine_month_repayment</th>\n",
       "      <th>comments</th>\n",
       "      <th>numb_of_comments</th>\n",
       "    </tr>\n",
       "  </thead>\n",
       "  <tbody>\n",
       "    <tr>\n",
       "      <th>19082</th>\n",
       "      <td>19083</td>\n",
       "      <td>19083</td>\n",
       "      <td>40360427</td>\n",
       "      <td>Contractual</td>\n",
       "      <td>2016-09-15</td>\n",
       "      <td>Prime</td>\n",
       "      <td>5024.058</td>\n",
       "      <td>2016-09</td>\n",
       "      <td>C</td>\n",
       "      <td>36.0</td>\n",
       "      <td>0.0</td>\n",
       "      <td>0.0</td>\n",
       "      <td>0.0</td>\n",
       "      <td>\"I am requesting that you stop deducting autom...</td>\n",
       "      <td>4.0</td>\n",
       "    </tr>\n",
       "  </tbody>\n",
       "</table>\n",
       "</div>"
      ],
      "text/plain": [
       "       Unnamed: 0      X   loan_id charge_off_type charge_off_d product  \\\n",
       "19082       19083  19083  40360427     Contractual   2016-09-15   Prime   \n",
       "\n",
       "       charge_off_gross_bal charge_off_month grade  term  \\\n",
       "19082              5024.058          2016-09     C  36.0   \n",
       "\n",
       "       three_month_repayment  six_month_repayment  nine_month_repayment  \\\n",
       "19082                    0.0                  0.0                   0.0   \n",
       "\n",
       "                                                comments  numb_of_comments  \n",
       "19082  \"I am requesting that you stop deducting autom...               4.0  "
      ]
     },
     "execution_count": 121,
     "metadata": {},
     "output_type": "execute_result"
    }
   ],
   "source": [
    "raw[raw['loan_id'] == modifiedRaw.iloc[index1[1]][2]]"
   ]
  },
  {
   "cell_type": "code",
   "execution_count": 122,
   "metadata": {
    "scrolled": true
   },
   "outputs": [
    {
     "data": {
      "text/plain": [
       "[u'na long ring with poe wrong number sip n i',\n",
       " u'long ring sip busy tone busy tone collection sent to borrower account is past',\n",
       " 'sip sip long ring sip sip collection sent to borrower urgent account is seriously past due sip sip',\n",
       " 'letter act status old new act during nightly update nightly process check check amt check date col',\n",
       " 'moving cell phone from day phone na ringing old number was correction to result code did not speak',\n",
       " 'sip sip sip ringing to march for th payment of not paying on time may incur late m',\n",
       " 'all unprinted check check for status old new act during entry update old status act nightly process check check',\n",
       " 'address spring st vineyard haven ma old status collector old collector collector address spring st ma old status act old collector',\n",
       " u'old collector col old collector old collector col unit toss na long ring result no',\n",
       " 'old collector old collector moving cell phone from work phone scrub complete standardized address comal karst spring old collector col',\n",
       " 'old work was old number was moving cell phone from home phone long ring to busy t',\n",
       " 'old cell was col col long ring result code found in old collector old collector',\n",
       " 'response date of check status old new act during nightly update i will up on cell best status change old new status by user act add',\n",
       " 'col old none new is land line request name long ring c',\n",
       " u'old collector col old collector old collector how much ran into hardship to regarding lowering best c coll will up to di',\n",
       " u'still unemployed and lost home during hurricane and to know if we can offer to delay only days in day',\n",
       " 'sip sip long ring sip sip sip machine hung up',\n",
       " 'female pu stated take off calling list ring to busy tone collection sent to borrower account is past due collection sent to borrower initial payment r',\n",
       " u'standardized address pah rah sparks address pah rah sparks request long ring result no answer',\n",
       " 'long ring sip sip sip sip sip sip',\n",
       " 'long ring collection sent to borrower initial payment reminder null notice sent to borrower monthly payment due to account issue ach ret',\n",
       " 'old collector address apt colorado spring scrub complete request c c c',\n",
       " 'per collection sent to borrower initial payment reminder with borrower to call at this number read the and script borrower permanent stop on ach recurring and will mail',\n",
       " u'es hi thanks for us as a reminder a temporary stop to your automatic is in place for through the month of only at this time the amount to bring your account current is and',\n",
       " u'long ring na no avail long ring na no avail long ring na null collection sent to borrower account is past due from',\n",
       " u'request name col old day was sip long ring na score obtain',\n",
       " u'is for not transaction id t amount t type fully thought to bring loan current went last',\n",
       " u'ring to busy ton',\n",
       " u'joint debt he do have intention on paying he have a trail hearing in gave days late next due date day the wi remain w club see in from old number was address chang',\n",
       " 'authorization to speak w freedom debt relief per hi club it is with deep regret i write to inform you that i am entering into a debt management and settlement agreement with the aid of freedom debt relief they',\n",
       " u'col old status hot act status old new act during nightly update nightly process check check amt check date col',\n",
       " 'status old new act during nightly update request old collector collector nightly process check',\n",
       " u'old status pend recall he due he no job and is looking for new job but will try to bring cur rent if once get new job old status geo es hi thanks for your letter and we re sorry to hear',\n",
       " u'call could not be as poe party call to long ring call could not be as collection sent to borrow',\n",
       " 'col col col address wandering way las result machine hung up agent id cell p',\n",
       " u'address whispering hickory creek col old collector old number was old collector col old collector old',\n",
       " 'spoke with trying to help her make to bring current on truck and t',\n",
       " 'is only service the best contact ask is any other i can offer receipt old collector col unit toss at poss c o can poss bring current when',\n",
       " 'status old new act during nightly update nightly process check check amt check date coll act',\n",
       " u'poe transferred just poe long ring need document from rep collection sent to borrower account is past',\n",
       " u'old collector old status request name scrub complete status old new act during nightly update old collector non',\n",
       " u'col col old collector col col old status geo long ring result no answer',\n",
       " u'cell cell phone stopped ringing the cell be as result voice portal no message left',\n",
       " u'sip na sip long ring sip sip sip na col',\n",
       " 'old status new to bring current of the receipt letter in to days to contact to be set up on best contact ask',\n",
       " 'request old status act scrub complete address monteith spring standardized address monteith spring result code found in',\n",
       " u'old status pend recall status old new act during nightly update nightly process check check amt check date col',\n",
       " 'es hi thanks for us once you are able to bring your account current with vital recovery please contact us col old collector old collector col t',\n",
       " u'sip phone is disc collection sent to borrower account is past due null ring to busy tone long ring collection sent to borrower initial payment reminder nul',\n",
       " 'na creditor long ring na collection sent to borrower initial payment reminder notice sent to borrower monthly payment due to',\n",
       " u'receipt receipt act status old new act during nightly update nightly process check check amt check d',\n",
       " 'big spring drive fort worth request name result code found in fu best',\n",
       " u'status old new act during nightly update nightly process check check amt check date coll old',\n",
       " 'she if she could combine both loan in one i not and i also of over late she is no longer working with she been since but will try her best to bring her she will m',\n",
       " 'col status old new act during entry update act collector col request per customer to from to the day so she wa',\n",
       " 'since later in month advised him we can either stop ach to avoid overdraft and have him call in to delay manually schedule within day or have him change his recurring once he is current w receipt',\n",
       " u'transfer to collection sent to borrower initial payment reminder long ring transfer from to stop ach stated going through a divorce and was to stop ach',\n",
       " u'col status old new act during nightly update act receipt old status geo cant move to the masked after i old collector',\n",
       " 'old collector request old collector col old collector long ring to dial tone sip result',\n",
       " 'long ring na sip n a no stated financial hardship can not pay for next three put stop payment on ba to sip',\n",
       " 'status old new act during nightly update old number was old status nightly process check check amt check date coll r',\n",
       " 'old status act pend recall ring na result',\n",
       " 'collection sent to borrower account is seriously past due ring to busy tone collection sent to borrower account is past due null collection sent to borrower initial payment reminder null not',\n",
       " u'note the guy was whispering on the phone when i for the he whispered you have the wrong number sip no one there by s nam',\n",
       " 'long ring na sip sip st attempt sip sip sip',\n",
       " 'sip sip long ring long ring sip sip na sip',\n",
       " 'es hi tamara thanks for us please be advised your account is currently past due the amount to bring your account current is as a reminder made outside of your day grace period may cause your account to be assessed a l',\n",
       " 'sip sip sip long ring sip',\n",
       " 'sip sip long ring sip sip wife gray speaker both and wife is not working wife may and june p',\n",
       " u'first attempt na na first call no answer na na first call long ring no answer no',\n",
       " 'poe no one by that name p poe party could not locate name collection sent to borrower account is past due null ringing to busy tone collection sent t',\n",
       " u'status old new act during nightly update receipt collector score old status new result code found in address',\n",
       " 'act status old new act during nightly update nightly process check check amt check date old number was as she can on',\n",
       " u'sip party wrong number addition to last note of day and day negative effects during the call null null collection sent to borrower your loan payment i',\n",
       " u'col old collector old status standardized address s broadway st apt spring valley result code found in non',\n",
       " u'long ring sip sip sip sip sip no one by nam',\n",
       " u'col request moving cell phone from home phone address winter mountain spring standardized address winter mountain spring col l',\n",
       " 'sip sip long ring to busy machine hung up machine hung up am',\n",
       " u'poe works midnight long ring to busy tone sip null null null collection sent to borrower initial payment remind',\n",
       " 'ring to busy tone na sip',\n",
       " u'address spring lake la old collector old collector r',\n",
       " 'old number was request name update recurring payment t contractual ae null old cell was collector',\n",
       " u'receipt of to bring current to to be set up on r',\n",
       " 'request address ave sinking spring pa col scrub complete request col unit toss old collector',\n",
       " 'old status act old status act status old new act during nightly update status old new act during nightly update act old status will make will call say she sh',\n",
       " u'from working with to stop ach about lowering did not have information available',\n",
       " 'error on note action code should be not long ringer is full no alt on no alt on sip party stated th',\n",
       " u'old status act old work none new work is address m ranch spring last phone type l',\n",
       " 'sip sip sip long ring na mailbox full sip need a call back after na sip',\n",
       " 'scrub complete standardized address colorado address colorado spring request col unit toss col unit toss geo score o',\n",
       " u'long ring to busy tone sip sip sip n i s null ring to busy tone null collection sent to borrower account is past due collection sent to borrow',\n",
       " u'col n col col m col col long ring n a scrub complete moving cell phone from home phon',\n",
       " 'col old collector old collector col old status geo pend recall long ring to busy tone col toss old collector',\n",
       " 'act status old new act during nightly update nightly process check check amt check date coll old collector old',\n",
       " 'not set not set up long ring no answer na no answer li',\n",
       " u'nightly process check check amt check date coll status old new act during nightly update act old status nightly process',\n",
       " 'sip sip no ring just dead air sip sip sip sip dead air',\n",
       " 'address ave silver spring standardized address ave silver spring result code found in none phone returned code not',\n",
       " u'long ring to dial tone na poe need not',\n",
       " u'old collector col request no left kept ringing result no',\n",
       " 'nightly process check check amt check date coll status old new act during nightly update act old collector col',\n",
       " 'old collector mobile request name lend c springhouse ca',\n",
       " u'moving cell phone from home phone request name forwarding address spring m',\n",
       " u'ba is advised to bring the current of the off up to plus days best contact to call tomorrow around or col ask to dob h',\n",
       " 'but call was disconnected during verification machine hung up am was in set back in due to truck repair to cancel t',\n",
       " u'poe na sip poe can not take at work poe not avail na long ring na stated working and call back aft',\n",
       " u'request name spring valley city al spring valley city',\n",
       " 'sip long ring no avail sip sip sip not setup sip',\n",
       " 'no valid valid no valid ring to busy sip sip sip sip',\n",
       " 'old number was no on him he will in a couple of to set it up status old new act during nightly update act nightly process check check amt',\n",
       " 'old collector geo score status change old act carlin pickering station chester pa collector authorize wife carlin to speak on his behalf',\n",
       " 't us mail pino law chapter offering settlement lump sum call from fully of amt and next draft date for this to keep as is no',\n",
       " 'sip sip sip na sip ring to busy tone sip n i s sip',\n",
       " u'request address post oak hill drive spring standardized address post oak hill',\n",
       " 'nightly process check check amt check date coll status old new act during nightly update act amount change amt',\n",
       " 'old collector old new old new receipt act status old new act during nightly update nightly process check check amt',\n",
       " 'home will be before will f u with if do not hear from a hard time hearing me based on outside noise best contact number no left over if she can take car of before will be able to r',\n",
       " 'col old collector old status new moving cell phone from day phone old collector old collector grand ave spring valley ca',\n",
       " u'sip long ring na sip no alt on no personal greet',\n",
       " 'col col col col result machine home predictive call long ring l',\n",
       " u'my wife lost her job and i m am off for an extended period of time due to a severe medical condition my wife be suffering from after a year battle we have made it into the clinic they have now an',\n",
       " 'letter act status old new act during nightly update nightly process check check amt check date col',\n",
       " u'col request name request tiffany dry willow way colorado spring result code found in r',\n",
       " 'weekly call counter reset to zero for home alt alt alt weekly call counter poe reset to zero long ring long ring na scrub complete l',\n",
       " u'col ring to busy na na result no answer day',\n",
       " 'nightly process check check amt check date coll status old new act during nightly update act receipt receipt',\n",
       " 'ring to busy machine hung up am machine hung up machine hung up',\n",
       " 'old cell was col old collector old collector old status col request scrub complete address spring apt',\n",
       " 'long ring na sip sip sip sip sip',\n",
       " 'sip sip sip st attempt sip sip sip sip long ring sip',\n",
       " 'col col f is on f is on long ring old collector old collector',\n",
       " 'es hello thanks for your your loan is currently being handled by vital a professional collection agency you may reach this agency for assistance with your account by calling once you are able to bring your loan ba',\n",
       " 'old status lad pend recall col long ring to busy tone request name lend lend primary result',\n",
       " u'request address sweetwater spring valley ca standardized address sweetwater spring valley ca result code found in r',\n",
       " 'old collector old status act pend recall status old new act during nightly update nightly process check check amt check date c',\n",
       " 'col col m old collector long ring long ring result',\n",
       " u'closed to client this account was returned to the client on debt hearing only need device to continue cal',\n",
       " 'es hi thanks for us and for being a part of we received your request to change your recurring payment date for loan did you know that you can permanently move your payment date up or back by up to',\n",
       " 'nightly process check check amt check date coll status old new act during nightly update receipt act',\n",
       " 'na sip long ring sip sip sip sip sip sip',\n",
       " 'long ring sip na sip sip sip sip sip',\n",
       " 'status old new act during nightly update col',\n",
       " 'old collector old status status old new act during nightly update nightly process check check amt check date coll c',\n",
       " 'col old collector old collector sip long ring old cell was na old collector old status new',\n",
       " 'ticket thanks for us and for being part of we don t currently offer the option of splitting your loan payment into two or more during a single month if your current payment due date t working for you w',\n",
       " 'request name old day was address e battle mountain summary forwarding address spring valley spring creek',\n",
       " 'sip sip sip sip busy no alt on sip sip just kept ringing na',\n",
       " 'mailbox full na na na na sip in inquiring about hardship advised that we do not',\n",
       " u'collector scrub complete client old status act request long ring x to to schedule a pay',\n",
       " 'request old collector old collector col na long ring na old collector',\n",
       " u'old collector long ring to busy tone result no answer home predictive call r',\n",
       " u'phone number phone number phone number a machine mill spring a machine phone number phon',\n",
       " 'to busy sip sip n a c long ring sip na sip sip',\n",
       " 'col old collector old collector old collector col unit toss col unit toss inquiring on date no result',\n",
       " u'act of coming on status old new act during nightly update back to once is cell best contact call no status change old new',\n",
       " u'ring to',\n",
       " 'receipt status old new act during entry update unprinted check check for unprinted check check for',\n",
       " u'col col col col springhouse apt franklin old status geo old collector m',\n",
       " u'col nightly process check check amt check date coll status old new act during nightly update act',\n",
       " u'col col old number was old collector old collector col long ring long r',\n",
       " 'old collector old day was receipt act status old new act during nightly update na na col old',\n",
       " u'long ring na first call freedom debt relief na first call notice sent to borrower monthly payment due to non',\n",
       " u'long ring sip poe per female is a teacher and can not be at this p sip sip collection sent to borrow',\n",
       " 'score old status cure amt and her my good contact status old new act during nightly update col old status status change old',\n",
       " u'provided he pay r th past due amt trying to off early ask is any other assist i offer any question or concern s status old new act during nightly',\n",
       " 'on small to bring under days geo score status change old act that doesnt allow ach setup to send in',\n",
       " u'scrub complete no further assist col old collector why exactly he is working with law firm address s spring st apt lake ca',\n",
       " 'sip long ring sip sip st attempt sip sip sip sip',\n",
       " 'long ring na long ring na long ring na long ring na',\n",
       " u'col old collector old collector old collector old collector old collector long ring na no avail long r',\n",
       " 'score standardized address s spring st apt ca old collector',\n",
       " u'sip ring then sip sip',\n",
       " u'scrub complete request name standardized address meadow star spring address meadow star spring result',\n",
       " u'nightly process check check amt check date coll status old new act during',\n",
       " u'old collector ring to',\n",
       " u'col request result no answer day other predictive call long ring na result no',\n",
       " 'status old new act during entry update moving cell phone from day phone request name result code found in address cha',\n",
       " 'request address colorado spring result code found in none phone returned code not contact is returned code not',\n",
       " 'col moving cell phone from home phone result code found in old collector scrub complete bring no address good']"
      ]
     },
     "execution_count": 122,
     "metadata": {},
     "output_type": "execute_result"
    }
   ],
   "source": [
    "# Examine the context of keywords selected by the model\n",
    "w = list_of_keywords[27]\n",
    "keyword1 = [modifiedRaw['comments'].iloc[i].find(str(w)) for i in range(modifiedRaw.shape[0])]\n",
    "index1 = [i for i, n in enumerate(keyword1) if n >=0]\n",
    "[modifiedRaw['comments'].iloc[index1[i]] for i in range(len(index1))]\n",
    "#[modifiedRaw['comments'].iloc[index1[i]] for i in range(len(index1))]"
   ]
  },
  {
   "cell_type": "markdown",
   "metadata": {},
   "source": [
    "### Dimmensionality Reduction"
   ]
  },
  {
   "cell_type": "code",
   "execution_count": 140,
   "metadata": {},
   "outputs": [],
   "source": [
    "from sklearn.decomposition import TruncatedSVD\n",
    "# truncated SVD works on term count/tf-idf matrices as returned by the vectorizers in sklearn.feature_extraction.text. \n",
    "# In that context, it is known as latent semantic analysis (LSA)."
   ]
  },
  {
   "cell_type": "code",
   "execution_count": 146,
   "metadata": {},
   "outputs": [],
   "source": [
    "#svd = TruncatedSVD(algorithm='randomized', n_components=50, n_iter=7,\n",
    " #       random_state= 42, tol=0.0)\n",
    "# X_train_counts = svd.fit_transform(X_train_counts) "
   ]
  },
  {
   "cell_type": "markdown",
   "metadata": {},
   "source": [
    "### Train Set"
   ]
  },
  {
   "cell_type": "code",
   "execution_count": 35,
   "metadata": {},
   "outputs": [
    {
     "name": "stderr",
     "output_type": "stream",
     "text": [
      "C:\\Users\\jzhu\\AppData\\Local\\Continuum\\anaconda2\\envs\\py2\\lib\\site-packages\\ipykernel_launcher.py:2: SettingWithCopyWarning: \n",
      "A value is trying to be set on a copy of a slice from a DataFrame.\n",
      "Try using .loc[row_indexer,col_indexer] = value instead\n",
      "\n",
      "See the caveats in the documentation: http://pandas.pydata.org/pandas-docs/stable/indexing.html#indexing-view-versus-copy\n",
      "  \n"
     ]
    }
   ],
   "source": [
    "train = X_train1\n",
    "train['y'] = y_train"
   ]
  },
  {
   "cell_type": "code",
   "execution_count": 36,
   "metadata": {},
   "outputs": [
    {
     "name": "stderr",
     "output_type": "stream",
     "text": [
      "C:\\Users\\jzhu\\AppData\\Local\\Continuum\\anaconda2\\envs\\py2\\lib\\site-packages\\ipykernel_launcher.py:2: SettingWithCopyWarning: \n",
      "A value is trying to be set on a copy of a slice from a DataFrame.\n",
      "Try using .loc[row_indexer,col_indexer] = value instead\n",
      "\n",
      "See the caveats in the documentation: http://pandas.pydata.org/pandas-docs/stable/indexing.html#indexing-view-versus-copy\n",
      "  \n",
      "C:\\Users\\jzhu\\AppData\\Local\\Continuum\\anaconda2\\envs\\py2\\lib\\site-packages\\ipykernel_launcher.py:3: SettingWithCopyWarning: \n",
      "A value is trying to be set on a copy of a slice from a DataFrame.\n",
      "Try using .loc[row_indexer,col_indexer] = value instead\n",
      "\n",
      "See the caveats in the documentation: http://pandas.pydata.org/pandas-docs/stable/indexing.html#indexing-view-versus-copy\n",
      "  This is separate from the ipykernel package so we can avoid doing imports until\n"
     ]
    }
   ],
   "source": [
    "# Add Prediction\n",
    "train['pred1']= clf.predict(X_train_counts)\n",
    "train['proba']= clf.predict_proba(X_train_counts)[:,1]\n",
    "#train['pred1'].mean(), train['proba'].mean(),y_train.mean()"
   ]
  },
  {
   "cell_type": "code",
   "execution_count": 37,
   "metadata": {},
   "outputs": [
    {
     "name": "stdout",
     "output_type": "stream",
     "text": [
      "Percent of train set which class prediction is wrong 0.15506587384866505\n"
     ]
    },
    {
     "name": "stderr",
     "output_type": "stream",
     "text": [
      "C:\\Users\\jzhu\\AppData\\Local\\Continuum\\anaconda2\\envs\\py2\\lib\\site-packages\\ipykernel_launcher.py:1: SettingWithCopyWarning: \n",
      "A value is trying to be set on a copy of a slice from a DataFrame.\n",
      "Try using .loc[row_indexer,col_indexer] = value instead\n",
      "\n",
      "See the caveats in the documentation: http://pandas.pydata.org/pandas-docs/stable/indexing.html#indexing-view-versus-copy\n",
      "  \"\"\"Entry point for launching an IPython kernel.\n",
      "C:\\Users\\jzhu\\AppData\\Local\\Continuum\\anaconda2\\envs\\py2\\lib\\site-packages\\ipykernel_launcher.py:2: SettingWithCopyWarning: \n",
      "A value is trying to be set on a copy of a slice from a DataFrame.\n",
      "Try using .loc[row_indexer,col_indexer] = value instead\n",
      "\n",
      "See the caveats in the documentation: http://pandas.pydata.org/pandas-docs/stable/indexing.html#indexing-view-versus-copy\n",
      "  \n"
     ]
    }
   ],
   "source": [
    "train['pred1_right'] = 1.0 * (train['pred1']==train['y'])\n",
    "train['pred1_wrong']= 1 - train['pred1_right']\n",
    "print 'Percent of train set which class prediction is wrong', train.pred1_wrong.mean()"
   ]
  },
  {
   "cell_type": "markdown",
   "metadata": {},
   "source": [
    "### Test Set"
   ]
  },
  {
   "cell_type": "code",
   "execution_count": 38,
   "metadata": {},
   "outputs": [
    {
     "name": "stderr",
     "output_type": "stream",
     "text": [
      "C:\\Users\\jzhu\\AppData\\Local\\Continuum\\anaconda2\\envs\\py2\\lib\\site-packages\\ipykernel_launcher.py:2: SettingWithCopyWarning: \n",
      "A value is trying to be set on a copy of a slice from a DataFrame.\n",
      "Try using .loc[row_indexer,col_indexer] = value instead\n",
      "\n",
      "See the caveats in the documentation: http://pandas.pydata.org/pandas-docs/stable/indexing.html#indexing-view-versus-copy\n",
      "  \n"
     ]
    }
   ],
   "source": [
    "test = X_test1\n",
    "test['y'] = y_test"
   ]
  },
  {
   "cell_type": "code",
   "execution_count": 39,
   "metadata": {},
   "outputs": [
    {
     "name": "stderr",
     "output_type": "stream",
     "text": [
      "C:\\Users\\jzhu\\AppData\\Local\\Continuum\\anaconda2\\envs\\py2\\lib\\site-packages\\ipykernel_launcher.py:1: SettingWithCopyWarning: \n",
      "A value is trying to be set on a copy of a slice from a DataFrame.\n",
      "Try using .loc[row_indexer,col_indexer] = value instead\n",
      "\n",
      "See the caveats in the documentation: http://pandas.pydata.org/pandas-docs/stable/indexing.html#indexing-view-versus-copy\n",
      "  \"\"\"Entry point for launching an IPython kernel.\n"
     ]
    }
   ],
   "source": [
    "test['pred1']= clf.predict(X_test_tfidf)"
   ]
  },
  {
   "cell_type": "code",
   "execution_count": 40,
   "metadata": {},
   "outputs": [
    {
     "name": "stdout",
     "output_type": "stream",
     "text": [
      "Percent of test set which class prediction is wrong 0.12865427861285358\n"
     ]
    },
    {
     "name": "stderr",
     "output_type": "stream",
     "text": [
      "C:\\Users\\jzhu\\AppData\\Local\\Continuum\\anaconda2\\envs\\py2\\lib\\site-packages\\ipykernel_launcher.py:1: SettingWithCopyWarning: \n",
      "A value is trying to be set on a copy of a slice from a DataFrame.\n",
      "Try using .loc[row_indexer,col_indexer] = value instead\n",
      "\n",
      "See the caveats in the documentation: http://pandas.pydata.org/pandas-docs/stable/indexing.html#indexing-view-versus-copy\n",
      "  \"\"\"Entry point for launching an IPython kernel.\n",
      "C:\\Users\\jzhu\\AppData\\Local\\Continuum\\anaconda2\\envs\\py2\\lib\\site-packages\\ipykernel_launcher.py:2: SettingWithCopyWarning: \n",
      "A value is trying to be set on a copy of a slice from a DataFrame.\n",
      "Try using .loc[row_indexer,col_indexer] = value instead\n",
      "\n",
      "See the caveats in the documentation: http://pandas.pydata.org/pandas-docs/stable/indexing.html#indexing-view-versus-copy\n",
      "  \n",
      "C:\\Users\\jzhu\\AppData\\Local\\Continuum\\anaconda2\\envs\\py2\\lib\\site-packages\\ipykernel_launcher.py:3: SettingWithCopyWarning: \n",
      "A value is trying to be set on a copy of a slice from a DataFrame.\n",
      "Try using .loc[row_indexer,col_indexer] = value instead\n",
      "\n",
      "See the caveats in the documentation: http://pandas.pydata.org/pandas-docs/stable/indexing.html#indexing-view-versus-copy\n",
      "  This is separate from the ipykernel package so we can avoid doing imports until\n"
     ]
    }
   ],
   "source": [
    "test['pred1_right'] = 1.0 * (test['pred1']==test['y'])\n",
    "test['proba']= clf.predict_proba(X_test_counts)[:,1]\n",
    "test['pred1_wrong']= 1 - test['pred1_right']\n",
    "print 'Percent of test set which class prediction is wrong', test.pred1_wrong.mean()"
   ]
  },
  {
   "cell_type": "markdown",
   "metadata": {},
   "source": [
    "### Model Evaluation"
   ]
  },
  {
   "cell_type": "markdown",
   "metadata": {},
   "source": [
    "Precision, Recall, F1-Score"
   ]
  },
  {
   "cell_type": "code",
   "execution_count": 41,
   "metadata": {},
   "outputs": [
    {
     "name": "stdout",
     "output_type": "stream",
     "text": [
      "              precision    recall  f1-score   support\n",
      "\n",
      "         0.0       0.94      0.89      0.91     15788\n",
      "         1.0       0.21      0.33      0.25      1366\n",
      "\n",
      "   micro avg       0.84      0.84      0.84     17154\n",
      "   macro avg       0.57      0.61      0.58     17154\n",
      "weighted avg       0.88      0.84      0.86     17154\n",
      "\n"
     ]
    }
   ],
   "source": [
    "# Development Sample\n",
    "from sklearn.metrics import classification_report\n",
    "print(classification_report(train['pred1'], train['y']))"
   ]
  },
  {
   "cell_type": "code",
   "execution_count": 42,
   "metadata": {},
   "outputs": [
    {
     "name": "stdout",
     "output_type": "stream",
     "text": [
      "              precision    recall  f1-score   support\n",
      "\n",
      "         0.0       1.00      0.87      0.93      8427\n",
      "         1.0       0.01      0.45      0.02        22\n",
      "\n",
      "   micro avg       0.87      0.87      0.87      8449\n",
      "   macro avg       0.50      0.66      0.47      8449\n",
      "weighted avg       1.00      0.87      0.93      8449\n",
      "\n"
     ]
    }
   ],
   "source": [
    "# Testing Sample\n",
    "print(classification_report(test['pred1'], test['y']))"
   ]
  },
  {
   "cell_type": "code",
   "execution_count": 43,
   "metadata": {},
   "outputs": [],
   "source": [
    "from sklearn.metrics import confusion_matrix\n",
    "from sklearn.metrics import accuracy_score"
   ]
  },
  {
   "cell_type": "code",
   "execution_count": 44,
   "metadata": {},
   "outputs": [
    {
     "data": {
      "text/plain": [
       "array([[7352,   12],\n",
       "       [1075,   10]], dtype=int64)"
      ]
     },
     "execution_count": 44,
     "metadata": {},
     "output_type": "execute_result"
    }
   ],
   "source": [
    "confusion_matrix(test['y'],test['pred1'])"
   ]
  },
  {
   "cell_type": "code",
   "execution_count": 45,
   "metadata": {},
   "outputs": [
    {
     "name": "stdout",
     "output_type": "stream",
     "text": [
      "The training set accuracy is 0.844934126151335\n"
     ]
    }
   ],
   "source": [
    "print 'The training set accuracy is',accuracy_score(train['y'], train['pred1'], normalize = True)"
   ]
  },
  {
   "cell_type": "code",
   "execution_count": 46,
   "metadata": {},
   "outputs": [
    {
     "name": "stdout",
     "output_type": "stream",
     "text": [
      "The testing set accuracy is 0.8713457213871464\n"
     ]
    }
   ],
   "source": [
    "print 'The testing set accuracy is',accuracy_score(test['y'], test['pred1'], normalize = True)"
   ]
  },
  {
   "cell_type": "markdown",
   "metadata": {},
   "source": [
    "ROC, KS"
   ]
  },
  {
   "cell_type": "code",
   "execution_count": 47,
   "metadata": {},
   "outputs": [],
   "source": [
    "from sklearn.metrics import roc_curve\n",
    "import sklearn.metrics as me"
   ]
  },
  {
   "cell_type": "code",
   "execution_count": 48,
   "metadata": {},
   "outputs": [
    {
     "data": {
      "text/plain": [
       "Text(0,0.5,'tpr')"
      ]
     },
     "execution_count": 48,
     "metadata": {},
     "output_type": "execute_result"
    },
    {
     "data": {
      "image/png": "[encoded data removed]",
      "text/plain": [
       "<Figure size 432x288 with 1 Axes>"
      ]
     },
     "metadata": {
      "needs_background": "light"
     },
     "output_type": "display_data"
    }
   ],
   "source": [
    "y_pred_prob = clf.predict_proba(X_train_tfidf)[:,1]\n",
    "fpr, tpr, thresholds = roc_curve(y_train, y_pred_prob)\n",
    "plt.plot(fpr, tpr, label = 'Logistic Regression')\n",
    "plt.plot([0,1],[0,1],'k--')\n",
    "plt.title('Train Set ROC')\n",
    "plt.xlabel('fpr')\n",
    "plt.ylabel('tpr')"
   ]
  },
  {
   "cell_type": "code",
   "execution_count": 49,
   "metadata": {},
   "outputs": [
    {
     "name": "stdout",
     "output_type": "stream",
     "text": [
      "The train set AUC is 0.6592817255339941\n"
     ]
    }
   ],
   "source": [
    "auc = me.roc_auc_score(y_train, y_pred_prob)\n",
    "print 'The train set AUC is', auc"
   ]
  },
  {
   "cell_type": "code",
   "execution_count": 50,
   "metadata": {},
   "outputs": [
    {
     "name": "stdout",
     "output_type": "stream",
     "text": [
      "KS score for train set is 0.22300754481059065\n"
     ]
    }
   ],
   "source": [
    "ks=max(tpr-fpr)\n",
    "print 'KS score for train set is', ks"
   ]
  },
  {
   "cell_type": "code",
   "execution_count": 51,
   "metadata": {},
   "outputs": [
    {
     "data": {
      "text/plain": [
       "Text(0,0.5,'tpr')"
      ]
     },
     "execution_count": 51,
     "metadata": {},
     "output_type": "execute_result"
    },
    {
     "data": {
      "image/png": "[encoded data removed]",
      "text/plain": [
       "<Figure size 432x288 with 1 Axes>"
      ]
     },
     "metadata": {
      "needs_background": "light"
     },
     "output_type": "display_data"
    }
   ],
   "source": [
    "y_pred_proba = clf.predict_proba(X_test_tfidf)[:,1]\n",
    "fpr, tpr, thresholds = roc_curve(y_test, y_pred_proba)\n",
    "plt.plot(fpr, tpr, label = 'Logistic Regression')\n",
    "plt.plot([0,1],[0,1],'k--')\n",
    "plt.title('Test Set ROC')\n",
    "plt.xlabel('fpr')\n",
    "plt.ylabel('tpr')"
   ]
  },
  {
   "cell_type": "code",
   "execution_count": 52,
   "metadata": {},
   "outputs": [
    {
     "name": "stdout",
     "output_type": "stream",
     "text": [
      "The test set AUC is 0.596894907846617\n"
     ]
    }
   ],
   "source": [
    "auc1 = me.roc_auc_score(y_test, y_pred_proba)\n",
    "print 'The test set AUC is', auc1"
   ]
  },
  {
   "cell_type": "code",
   "execution_count": 53,
   "metadata": {},
   "outputs": [
    {
     "name": "stdout",
     "output_type": "stream",
     "text": [
      "KS score for test set is 0.14886632440293668\n"
     ]
    }
   ],
   "source": [
    "ks=max(tpr-fpr)\n",
    "print 'KS score for test set is', ks"
   ]
  },
  {
   "cell_type": "markdown",
   "metadata": {},
   "source": [
    "Lift Chart"
   ]
  },
  {
   "cell_type": "code",
   "execution_count": 54,
   "metadata": {},
   "outputs": [],
   "source": [
    "train_sorted = train.sort_values(by = 'proba', ascending = False) # sort by score"
   ]
  },
  {
   "cell_type": "code",
   "execution_count": 55,
   "metadata": {},
   "outputs": [
    {
     "data": {
      "text/plain": [
       "1715"
      ]
     },
     "execution_count": 55,
     "metadata": {},
     "output_type": "execute_result"
    }
   ],
   "source": [
    "train_sorted.shape[0]/10"
   ]
  },
  {
   "cell_type": "code",
   "execution_count": 56,
   "metadata": {},
   "outputs": [
    {
     "data": {
      "text/plain": [
       "[0.31486880466472306,\n",
       " 0.1673469387755102,\n",
       " 0.12653061224489795,\n",
       " 0.1259475218658892,\n",
       " 0.10845481049562682,\n",
       " 0.11603498542274053,\n",
       " 0.10612244897959183,\n",
       " 0.08396501457725948,\n",
       " 0.0629737609329446,\n",
       " 0.07275902211874273]"
      ]
     },
     "execution_count": 56,
     "metadata": {},
     "output_type": "execute_result"
    }
   ],
   "source": [
    "a = train_sorted.shape[0]/10\n",
    "number_list = [0,a+1,2*a+1, 3*a+1, 4*a+1, 5*a+1, 6*a+1, 7*a+1, 8*a+1]\n",
    "mean = [train_sorted.iloc[i:i+a,:].y.mean() for i in number_list] #average recovery rate\n",
    "b = train_sorted.iloc[9*a+1:,:].y.mean()\n",
    "mean.append(b)\n",
    "mean"
   ]
  },
  {
   "cell_type": "code",
   "execution_count": 88,
   "metadata": {},
   "outputs": [
    {
     "data": {
      "text/plain": [
       "Text(0.5,0,'Ranked Subset')"
      ]
     },
     "execution_count": 88,
     "metadata": {},
     "output_type": "execute_result"
    },
    {
     "data": {
      "image/png": "[encoded data removed]",
      "text/plain": [
       "<Figure size 432x288 with 1 Axes>"
      ]
     },
     "metadata": {
      "needs_background": "light"
     },
     "output_type": "display_data"
    }
   ],
   "source": [
    "plt.plot(mean)\n",
    "plt.axis([0,9,0,0.4])\n",
    "plt.title('Train Set Lift Chart')\n",
    "plt.ylabel('Average recovery rate')\n",
    "plt.xlabel('Ranked Subset')"
   ]
  },
  {
   "cell_type": "code",
   "execution_count": 58,
   "metadata": {},
   "outputs": [],
   "source": [
    "test_sorted = test.sort_values(by = 'proba', ascending = False) # sort by score"
   ]
  },
  {
   "cell_type": "code",
   "execution_count": 59,
   "metadata": {},
   "outputs": [
    {
     "data": {
      "text/plain": [
       "[0.254739336492891,\n",
       " 0.16113744075829384,\n",
       " 0.11255924170616113,\n",
       " 0.11966824644549763,\n",
       " 0.12677725118483413,\n",
       " 0.11966824644549763,\n",
       " 0.0971563981042654,\n",
       " 0.0947867298578199,\n",
       " 0.10071090047393365,\n",
       " 0.09624413145539906]"
      ]
     },
     "execution_count": 59,
     "metadata": {},
     "output_type": "execute_result"
    }
   ],
   "source": [
    "c = test_sorted.shape[0]/10\n",
    "number_list = [0,c+1,2*c+1, 3*c+1, 4*c+1, 5*c+1, 6*c+1, 7*c+1, 8*c+1]\n",
    "mean_test = [test_sorted.iloc[i:i+c,:].y.mean() for i in number_list] #average recovery rate\n",
    "b = test_sorted.iloc[9*c+1:,:].y.mean()\n",
    "mean_test.append(b)\n",
    "mean_test"
   ]
  },
  {
   "cell_type": "code",
   "execution_count": 89,
   "metadata": {},
   "outputs": [
    {
     "data": {
      "text/plain": [
       "Text(0.5,0,'Ranked Subset')"
      ]
     },
     "execution_count": 89,
     "metadata": {},
     "output_type": "execute_result"
    },
    {
     "data": {
      "image/png": "[encoded data removed]",
      "text/plain": [
       "<Figure size 432x288 with 1 Axes>"
      ]
     },
     "metadata": {
      "needs_background": "light"
     },
     "output_type": "display_data"
    }
   ],
   "source": [
    "plt.plot(mean_test)\n",
    "plt.axis([0,9,0,0.4])\n",
    "plt.title('Test Set Lift Chart')\n",
    "plt.ylabel('Average recovery rate')\n",
    "plt.xlabel('Ranked Subset')"
   ]
  },
  {
   "cell_type": "markdown",
   "metadata": {},
   "source": [
    "Dollar Recovery Percentage"
   ]
  },
  {
   "cell_type": "code",
   "execution_count": 61,
   "metadata": {},
   "outputs": [
    {
     "data": {
      "text/plain": [
       "[0.05914612919205909,\n",
       " 0.029141956611973788,\n",
       " 0.02129956236893246,\n",
       " 0.024968521292322077,\n",
       " 0.023974973285401543,\n",
       " 0.025507032534597723,\n",
       " 0.017950838258267328,\n",
       " 0.012851145650392911,\n",
       " 0.010684428082859848,\n",
       " 0.015570194233359851]"
      ]
     },
     "execution_count": 61,
     "metadata": {},
     "output_type": "execute_result"
    }
   ],
   "source": [
    "a = train_sorted.shape[0]/10\n",
    "number_list = [0,a+1,2*a+1, 3*a+1, 4*a+1, 5*a+1, 6*a+1, 7*a+1, 8*a+1]\n",
    "sum_train = [train_sorted.iloc[i:i+a,:].six_month_repayment.sum() for i in number_list] #average recovery rate\n",
    "b = train_sorted.iloc[9*a+1:,:].six_month_repayment.sum()\n",
    "sum_train.append(b)\n",
    "sum_train\n",
    "\n",
    "sum_prin_train = [train_sorted.iloc[i:i+a,:].charge_off_gross_bal.sum() for i in number_list] #average recovery rate\n",
    "b = train_sorted.iloc[9*a+1:,:].charge_off_gross_bal.sum()\n",
    "sum_prin_train.append(b)\n",
    "sum_prin_train\n",
    "\n",
    "dollar_percent = [x/y for x, y in zip(sum_train,sum_prin_train)]\n",
    "dollar_percent"
   ]
  },
  {
   "cell_type": "code",
   "execution_count": 84,
   "metadata": {},
   "outputs": [
    {
     "data": {
      "text/plain": [
       "Text(0.5,0,'Ranked Subset')"
      ]
     },
     "execution_count": 84,
     "metadata": {},
     "output_type": "execute_result"
    },
    {
     "data": {
      "image/png": "[encoded data removed]",
      "text/plain": [
       "<Figure size 432x288 with 1 Axes>"
      ]
     },
     "metadata": {
      "needs_background": "light"
     },
     "output_type": "display_data"
    }
   ],
   "source": [
    "plt.plot(dollar_percent)\n",
    "plt.axis([0,9,0,0.1])\n",
    "plt.title('Train Set Lift Chart')\n",
    "plt.ylabel('Dollar recovery rate')\n",
    "plt.xlabel('Ranked Subset')"
   ]
  },
  {
   "cell_type": "code",
   "execution_count": 63,
   "metadata": {},
   "outputs": [],
   "source": [
    "c = test_sorted.shape[0]/10\n",
    "number_list = [0,c+1,2*c+1, 3*c+1, 4*c+1, 5*c+1, 6*c+1, 7*c+1, 8*c+1]\n",
    "sum_test = [test_sorted.iloc[i:i+c,:].six_month_repayment.sum() for i in number_list] #average recovery rate\n",
    "b = test_sorted.iloc[9*c+1:,:].six_month_repayment.sum()\n",
    "sum_test.append(b)"
   ]
  },
  {
   "cell_type": "code",
   "execution_count": 64,
   "metadata": {},
   "outputs": [],
   "source": [
    "sum_prin_test = [test_sorted.iloc[i:i+c,:].charge_off_gross_bal.sum() for i in number_list] #average recovery rate\n",
    "b = test_sorted.iloc[9*c+1:,:].charge_off_gross_bal.sum()\n",
    "sum_prin_test .append(b)"
   ]
  },
  {
   "cell_type": "code",
   "execution_count": 65,
   "metadata": {},
   "outputs": [
    {
     "data": {
      "text/plain": [
       "[0.050917085446759186,\n",
       " 0.03221512695564839,\n",
       " 0.01876373983341676,\n",
       " 0.027415539461937637,\n",
       " 0.021573460390273805,\n",
       " 0.023195069939964872,\n",
       " 0.018369088131360123,\n",
       " 0.02161821479870538,\n",
       " 0.01835496236391431,\n",
       " 0.018678266589758335]"
      ]
     },
     "execution_count": 65,
     "metadata": {},
     "output_type": "execute_result"
    }
   ],
   "source": [
    "dollar_percent = [x/y for x, y in zip(sum_test,sum_prin_test)]\n",
    "dollar_percent"
   ]
  },
  {
   "cell_type": "code",
   "execution_count": 83,
   "metadata": {},
   "outputs": [
    {
     "data": {
      "text/plain": [
       "Text(0.5,0,'Ranked Subset')"
      ]
     },
     "execution_count": 83,
     "metadata": {},
     "output_type": "execute_result"
    },
    {
     "data": {
      "image/png": "[encoded data removed]",
      "text/plain": [
       "<Figure size 432x288 with 1 Axes>"
      ]
     },
     "metadata": {
      "needs_background": "light"
     },
     "output_type": "display_data"
    }
   ],
   "source": [
    "plt.plot(dollar_percent)\n",
    "plt.axis([0,9,0,0.1])\n",
    "plt.title('Test Set Lift Chart')\n",
    "plt.ylabel('Dollar recovery rate')\n",
    "plt.xlabel('Ranked Subset')"
   ]
  },
  {
   "cell_type": "markdown",
   "metadata": {},
   "source": [
    "## Append Score"
   ]
  },
  {
   "cell_type": "code",
   "execution_count": 141,
   "metadata": {},
   "outputs": [],
   "source": [
    "X_all = modifiedRaw['comments']"
   ]
  },
  {
   "cell_type": "code",
   "execution_count": 142,
   "metadata": {},
   "outputs": [],
   "source": [
    "X_all_counts = cv.transform(X_all)"
   ]
  },
  {
   "cell_type": "code",
   "execution_count": 143,
   "metadata": {},
   "outputs": [],
   "source": [
    "X_all_tfidf = tfidf_transformer.transform(X_all_counts)"
   ]
  },
  {
   "cell_type": "code",
   "execution_count": 144,
   "metadata": {},
   "outputs": [],
   "source": [
    "modifiedRaw['score'] = clf.predict_proba(X_all_tfidf)[:,1]"
   ]
  },
  {
   "cell_type": "code",
   "execution_count": 146,
   "metadata": {},
   "outputs": [
    {
     "data": {
      "text/html": [
       "<div>\n",
       "<style scoped>\n",
       "    .dataframe tbody tr th:only-of-type {\n",
       "        vertical-align: middle;\n",
       "    }\n",
       "\n",
       "    .dataframe tbody tr th {\n",
       "        vertical-align: top;\n",
       "    }\n",
       "\n",
       "    .dataframe thead th {\n",
       "        text-align: right;\n",
       "    }\n",
       "</style>\n",
       "<table border=\"1\" class=\"dataframe\">\n",
       "  <thead>\n",
       "    <tr style=\"text-align: right;\">\n",
       "      <th></th>\n",
       "      <th>Unnamed: 0</th>\n",
       "      <th>X</th>\n",
       "      <th>loan_id</th>\n",
       "      <th>charge_off_type</th>\n",
       "      <th>charge_off_d</th>\n",
       "      <th>product</th>\n",
       "      <th>charge_off_gross_bal</th>\n",
       "      <th>charge_off_month</th>\n",
       "      <th>grade</th>\n",
       "      <th>term</th>\n",
       "      <th>three_month_repayment</th>\n",
       "      <th>six_month_repayment</th>\n",
       "      <th>nine_month_repayment</th>\n",
       "      <th>comments</th>\n",
       "      <th>numb_of_comments</th>\n",
       "      <th>percent_recovered_three_month</th>\n",
       "      <th>percent_recovered_six_month</th>\n",
       "      <th>percent_recovered_nine_month</th>\n",
       "      <th>score</th>\n",
       "    </tr>\n",
       "  </thead>\n",
       "  <tbody>\n",
       "    <tr>\n",
       "      <th>29072</th>\n",
       "      <td>29073</td>\n",
       "      <td>29073</td>\n",
       "      <td>5354612</td>\n",
       "      <td>Contractual</td>\n",
       "      <td>2016-02-29</td>\n",
       "      <td>Prime</td>\n",
       "      <td>1538.706</td>\n",
       "      <td>2016-02</td>\n",
       "      <td>NaN</td>\n",
       "      <td>NaN</td>\n",
       "      <td>0.0</td>\n",
       "      <td>360.0</td>\n",
       "      <td>615.48</td>\n",
       "      <td>gave him an update on his status and on how to...</td>\n",
       "      <td>11.0</td>\n",
       "      <td>0.0</td>\n",
       "      <td>0.233963</td>\n",
       "      <td>0.399998</td>\n",
       "      <td>0.189653</td>\n",
       "    </tr>\n",
       "  </tbody>\n",
       "</table>\n",
       "</div>"
      ],
      "text/plain": [
       "       Unnamed: 0      X  loan_id charge_off_type charge_off_d product  \\\n",
       "29072       29073  29073  5354612     Contractual   2016-02-29   Prime   \n",
       "\n",
       "       charge_off_gross_bal charge_off_month grade  term  \\\n",
       "29072              1538.706          2016-02   NaN   NaN   \n",
       "\n",
       "       three_month_repayment  six_month_repayment  nine_month_repayment  \\\n",
       "29072                    0.0                360.0                615.48   \n",
       "\n",
       "                                                comments  numb_of_comments  \\\n",
       "29072  gave him an update on his status and on how to...              11.0   \n",
       "\n",
       "       percent_recovered_three_month  percent_recovered_six_month  \\\n",
       "29072                            0.0                     0.233963   \n",
       "\n",
       "       percent_recovered_nine_month     score  \n",
       "29072                      0.399998  0.189653  "
      ]
     },
     "execution_count": 146,
     "metadata": {},
     "output_type": "execute_result"
    }
   ],
   "source": [
    "modifiedRaw[modifiedRaw['loan_id'] == 5354612]"
   ]
  },
  {
   "cell_type": "markdown",
   "metadata": {},
   "source": [
    "## Add Behavior Score"
   ]
  },
  {
   "cell_type": "code",
   "execution_count": 1,
   "metadata": {},
   "outputs": [
    {
     "ename": "NameError",
     "evalue": "name 'pd' is not defined",
     "output_type": "error",
     "traceback": [
      "\u001b[1;31m\u001b[0m",
      "\u001b[1;31mNameError\u001b[0mTraceback (most recent call last)",
      "\u001b[1;32m<ipython-input-1-1be610a7d97a>\u001b[0m in \u001b[0;36m<module>\u001b[1;34m()\u001b[0m\n\u001b[1;32m----> 1\u001b[1;33m \u001b[0mbs\u001b[0m \u001b[1;33m=\u001b[0m\u001b[0mpd\u001b[0m\u001b[1;33m.\u001b[0m\u001b[0mread_csv\u001b[0m\u001b[1;33m(\u001b[0m\u001b[1;34m'jzhu_nonDSC_seg_0712_bmerge.csv'\u001b[0m\u001b[1;33m)\u001b[0m\u001b[1;33m\u001b[0m\u001b[0m\n\u001b[0m\u001b[0;32m      2\u001b[0m \u001b[0mbs\u001b[0m\u001b[1;33m.\u001b[0m\u001b[0misnull\u001b[0m\u001b[1;33m(\u001b[0m\u001b[1;33m)\u001b[0m\u001b[1;33m.\u001b[0m\u001b[0msum\u001b[0m\u001b[1;33m(\u001b[0m\u001b[1;33m)\u001b[0m\u001b[1;33m\u001b[0m\u001b[0m\n\u001b[0;32m      3\u001b[0m \u001b[1;31m#list(bs.columns)\u001b[0m\u001b[1;33m\u001b[0m\u001b[1;33m\u001b[0m\u001b[0m\n",
      "\u001b[1;31mNameError\u001b[0m: name 'pd' is not defined"
     ]
    }
   ],
   "source": [
    "bs =pd.read_csv('jzhu_nonDSC_seg_0712_bmerge.csv')\n",
    "#bs.isnull().sum()\n",
    "#list(bs.columns)"
   ]
  },
  {
   "cell_type": "code",
   "execution_count": 113,
   "metadata": {},
   "outputs": [
    {
     "data": {
      "text/plain": [
       "(25603, 125)"
      ]
     },
     "execution_count": 113,
     "metadata": {},
     "output_type": "execute_result"
    }
   ],
   "source": [
    "df = pd.merge(modifiedRaw, bs, on = 'loan_id', how = 'left')\n",
    "df.shape"
   ]
  },
  {
   "cell_type": "code",
   "execution_count": 117,
   "metadata": {},
   "outputs": [
    {
     "data": {
      "text/plain": [
       "product_x\n",
       "Citi CRA                238\n",
       "Near Prime             3682\n",
       "Prime                 21561\n",
       "Prime DTI 35 to 40        1\n",
       "Small Business           91\n",
       "Superprime               30\n",
       "Name: loan_id, dtype: int64"
      ]
     },
     "execution_count": 117,
     "metadata": {},
     "output_type": "execute_result"
    }
   ],
   "source": [
    "df.groupby('product_x').loan_id.count()"
   ]
  },
  {
   "cell_type": "code",
   "execution_count": 118,
   "metadata": {},
   "outputs": [],
   "source": [
    "# Export file to use for ensembled model\n",
    "df.to_csv(r'export_nonDSC_0722.csv', index = None, header = True)"
   ]
  },
  {
   "cell_type": "code",
   "execution_count": 120,
   "metadata": {},
   "outputs": [
    {
     "data": {
      "text/plain": [
       "(25603, 125)"
      ]
     },
     "execution_count": 120,
     "metadata": {},
     "output_type": "execute_result"
    }
   ],
   "source": [
    "df.shape"
   ]
  }
 ],
 "metadata": {
  "kernelspec": {
   "display_name": "Python 2",
   "language": "python",
   "name": "python2"
  },
  "language_info": {
   "codemirror_mode": {
    "name": "ipython",
    "version": 2
   },
   "file_extension": ".py",
   "mimetype": "text/x-python",
   "name": "python",
   "nbconvert_exporter": "python",
   "pygments_lexer": "ipython2",
   "version": "2.7.16"
  }
 },
 "nbformat": 4,
 "nbformat_minor": 2
}
