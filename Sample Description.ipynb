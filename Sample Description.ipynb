{
 "cells": [
  {
   "cell_type": "code",
   "execution_count": 1,
   "metadata": {},
   "outputs": [
    {
     "ename": "ImportError",
     "evalue": "No module named sklearn.feature_extraction.text",
     "output_type": "error",
     "traceback": [
      "\u001b[0;31m---------------------------------------------------------------------------\u001b[0m",
      "\u001b[0;31mImportError\u001b[0m                               Traceback (most recent call last)",
      "\u001b[0;32m<ipython-input-1-aa0dfb42d043>\u001b[0m in \u001b[0;36m<module>\u001b[0;34m()\u001b[0m\n\u001b[1;32m      1\u001b[0m \u001b[0;32mimport\u001b[0m \u001b[0mpandas\u001b[0m \u001b[0;32mas\u001b[0m \u001b[0mpd\u001b[0m\u001b[0;34m\u001b[0m\u001b[0m\n\u001b[1;32m      2\u001b[0m \u001b[0;32mimport\u001b[0m \u001b[0mnumpy\u001b[0m \u001b[0;32mas\u001b[0m \u001b[0mnp\u001b[0m\u001b[0;34m\u001b[0m\u001b[0m\n\u001b[0;32m----> 3\u001b[0;31m \u001b[0;32mfrom\u001b[0m \u001b[0msklearn\u001b[0m\u001b[0;34m.\u001b[0m\u001b[0mfeature_extraction\u001b[0m\u001b[0;34m.\u001b[0m\u001b[0mtext\u001b[0m \u001b[0;32mimport\u001b[0m \u001b[0mTfidfVectorizer\u001b[0m\u001b[0;34m\u001b[0m\u001b[0m\n\u001b[0m\u001b[1;32m      4\u001b[0m \u001b[0;32mfrom\u001b[0m \u001b[0msklearn\u001b[0m\u001b[0;34m.\u001b[0m\u001b[0mfeature_extraction\u001b[0m\u001b[0;34m.\u001b[0m\u001b[0mtext\u001b[0m \u001b[0;32mimport\u001b[0m \u001b[0mTfidfTransformer\u001b[0m\u001b[0;34m\u001b[0m\u001b[0m\n\u001b[1;32m      5\u001b[0m \u001b[0;32mfrom\u001b[0m \u001b[0msklearn\u001b[0m\u001b[0;34m.\u001b[0m\u001b[0mnaive_bayes\u001b[0m \u001b[0;32mimport\u001b[0m \u001b[0mMultinomialNB\u001b[0m\u001b[0;34m\u001b[0m\u001b[0m\n",
      "\u001b[0;31mImportError\u001b[0m: No module named sklearn.feature_extraction.text"
     ]
    }
   ],
   "source": [
    "import pandas as pd\n",
    "import numpy as np\n",
    "from sklearn.feature_extraction.text import TfidfVectorizer\n",
    "from sklearn.feature_extraction.text import TfidfTransformer\n",
    "from sklearn.naive_bayes import MultinomialNB\n",
    "from sklearn.ensemble import GradientBoostingClassifier\n",
    "from sklearn.neighbors import KNeighborsClassifier\n",
    "from sklearn.naive_bayes import GaussianNB\n",
    "from sklearn.linear_model import LogisticRegression\n",
    "from sklearn import preprocessing"
   ]
  },
  {
   "cell_type": "code",
   "execution_count": 2,
   "metadata": {},
   "outputs": [
    {
     "ename": "IOError",
     "evalue": "[Errno 2] File NLP_note171_10.csv does not exist: 'NLP_note171_10.csv'",
     "output_type": "error",
     "traceback": [
      "\u001b[0;31m---------------------------------------------------------------------------\u001b[0m",
      "\u001b[0;31mIOError\u001b[0m                                   Traceback (most recent call last)",
      "\u001b[0;32m<ipython-input-2-6897c67c464d>\u001b[0m in \u001b[0;36m<module>\u001b[0;34m()\u001b[0m\n\u001b[0;32m----> 1\u001b[0;31m \u001b[0mraw\u001b[0m\u001b[0;34m=\u001b[0m\u001b[0mpd\u001b[0m\u001b[0;34m.\u001b[0m\u001b[0mread_csv\u001b[0m\u001b[0;34m(\u001b[0m\u001b[0;34m\"NLP_note171_10.csv\"\u001b[0m\u001b[0;34m)\u001b[0m\u001b[0;34m\u001b[0m\u001b[0m\n\u001b[0m",
      "\u001b[0;32m/Users/jiayuanzhu/anaconda3/envs/py2/lib/python2.7/site-packages/pandas/io/parsers.pyc\u001b[0m in \u001b[0;36mparser_f\u001b[0;34m(filepath_or_buffer, sep, delimiter, header, names, index_col, usecols, squeeze, prefix, mangle_dupe_cols, dtype, engine, converters, true_values, false_values, skipinitialspace, skiprows, skipfooter, nrows, na_values, keep_default_na, na_filter, verbose, skip_blank_lines, parse_dates, infer_datetime_format, keep_date_col, date_parser, dayfirst, iterator, chunksize, compression, thousands, decimal, lineterminator, quotechar, quoting, doublequote, escapechar, comment, encoding, dialect, tupleize_cols, error_bad_lines, warn_bad_lines, delim_whitespace, low_memory, memory_map, float_precision)\u001b[0m\n\u001b[1;32m    700\u001b[0m                     skip_blank_lines=skip_blank_lines)\n\u001b[1;32m    701\u001b[0m \u001b[0;34m\u001b[0m\u001b[0m\n\u001b[0;32m--> 702\u001b[0;31m         \u001b[0;32mreturn\u001b[0m \u001b[0m_read\u001b[0m\u001b[0;34m(\u001b[0m\u001b[0mfilepath_or_buffer\u001b[0m\u001b[0;34m,\u001b[0m \u001b[0mkwds\u001b[0m\u001b[0;34m)\u001b[0m\u001b[0;34m\u001b[0m\u001b[0m\n\u001b[0m\u001b[1;32m    703\u001b[0m \u001b[0;34m\u001b[0m\u001b[0m\n\u001b[1;32m    704\u001b[0m     \u001b[0mparser_f\u001b[0m\u001b[0;34m.\u001b[0m\u001b[0m__name__\u001b[0m \u001b[0;34m=\u001b[0m \u001b[0mname\u001b[0m\u001b[0;34m\u001b[0m\u001b[0m\n",
      "\u001b[0;32m/Users/jiayuanzhu/anaconda3/envs/py2/lib/python2.7/site-packages/pandas/io/parsers.pyc\u001b[0m in \u001b[0;36m_read\u001b[0;34m(filepath_or_buffer, kwds)\u001b[0m\n\u001b[1;32m    427\u001b[0m \u001b[0;34m\u001b[0m\u001b[0m\n\u001b[1;32m    428\u001b[0m     \u001b[0;31m# Create the parser.\u001b[0m\u001b[0;34m\u001b[0m\u001b[0;34m\u001b[0m\u001b[0m\n\u001b[0;32m--> 429\u001b[0;31m     \u001b[0mparser\u001b[0m \u001b[0;34m=\u001b[0m \u001b[0mTextFileReader\u001b[0m\u001b[0;34m(\u001b[0m\u001b[0mfilepath_or_buffer\u001b[0m\u001b[0;34m,\u001b[0m \u001b[0;34m**\u001b[0m\u001b[0mkwds\u001b[0m\u001b[0;34m)\u001b[0m\u001b[0;34m\u001b[0m\u001b[0m\n\u001b[0m\u001b[1;32m    430\u001b[0m \u001b[0;34m\u001b[0m\u001b[0m\n\u001b[1;32m    431\u001b[0m     \u001b[0;32mif\u001b[0m \u001b[0mchunksize\u001b[0m \u001b[0;32mor\u001b[0m \u001b[0miterator\u001b[0m\u001b[0;34m:\u001b[0m\u001b[0;34m\u001b[0m\u001b[0m\n",
      "\u001b[0;32m/Users/jiayuanzhu/anaconda3/envs/py2/lib/python2.7/site-packages/pandas/io/parsers.pyc\u001b[0m in \u001b[0;36m__init__\u001b[0;34m(self, f, engine, **kwds)\u001b[0m\n\u001b[1;32m    893\u001b[0m             \u001b[0mself\u001b[0m\u001b[0;34m.\u001b[0m\u001b[0moptions\u001b[0m\u001b[0;34m[\u001b[0m\u001b[0;34m'has_index_names'\u001b[0m\u001b[0;34m]\u001b[0m \u001b[0;34m=\u001b[0m \u001b[0mkwds\u001b[0m\u001b[0;34m[\u001b[0m\u001b[0;34m'has_index_names'\u001b[0m\u001b[0;34m]\u001b[0m\u001b[0;34m\u001b[0m\u001b[0m\n\u001b[1;32m    894\u001b[0m \u001b[0;34m\u001b[0m\u001b[0m\n\u001b[0;32m--> 895\u001b[0;31m         \u001b[0mself\u001b[0m\u001b[0;34m.\u001b[0m\u001b[0m_make_engine\u001b[0m\u001b[0;34m(\u001b[0m\u001b[0mself\u001b[0m\u001b[0;34m.\u001b[0m\u001b[0mengine\u001b[0m\u001b[0;34m)\u001b[0m\u001b[0;34m\u001b[0m\u001b[0m\n\u001b[0m\u001b[1;32m    896\u001b[0m \u001b[0;34m\u001b[0m\u001b[0m\n\u001b[1;32m    897\u001b[0m     \u001b[0;32mdef\u001b[0m \u001b[0mclose\u001b[0m\u001b[0;34m(\u001b[0m\u001b[0mself\u001b[0m\u001b[0;34m)\u001b[0m\u001b[0;34m:\u001b[0m\u001b[0;34m\u001b[0m\u001b[0m\n",
      "\u001b[0;32m/Users/jiayuanzhu/anaconda3/envs/py2/lib/python2.7/site-packages/pandas/io/parsers.pyc\u001b[0m in \u001b[0;36m_make_engine\u001b[0;34m(self, engine)\u001b[0m\n\u001b[1;32m   1120\u001b[0m     \u001b[0;32mdef\u001b[0m \u001b[0m_make_engine\u001b[0m\u001b[0;34m(\u001b[0m\u001b[0mself\u001b[0m\u001b[0;34m,\u001b[0m \u001b[0mengine\u001b[0m\u001b[0;34m=\u001b[0m\u001b[0;34m'c'\u001b[0m\u001b[0;34m)\u001b[0m\u001b[0;34m:\u001b[0m\u001b[0;34m\u001b[0m\u001b[0m\n\u001b[1;32m   1121\u001b[0m         \u001b[0;32mif\u001b[0m \u001b[0mengine\u001b[0m \u001b[0;34m==\u001b[0m \u001b[0;34m'c'\u001b[0m\u001b[0;34m:\u001b[0m\u001b[0;34m\u001b[0m\u001b[0m\n\u001b[0;32m-> 1122\u001b[0;31m             \u001b[0mself\u001b[0m\u001b[0;34m.\u001b[0m\u001b[0m_engine\u001b[0m \u001b[0;34m=\u001b[0m \u001b[0mCParserWrapper\u001b[0m\u001b[0;34m(\u001b[0m\u001b[0mself\u001b[0m\u001b[0;34m.\u001b[0m\u001b[0mf\u001b[0m\u001b[0;34m,\u001b[0m \u001b[0;34m**\u001b[0m\u001b[0mself\u001b[0m\u001b[0;34m.\u001b[0m\u001b[0moptions\u001b[0m\u001b[0;34m)\u001b[0m\u001b[0;34m\u001b[0m\u001b[0m\n\u001b[0m\u001b[1;32m   1123\u001b[0m         \u001b[0;32melse\u001b[0m\u001b[0;34m:\u001b[0m\u001b[0;34m\u001b[0m\u001b[0m\n\u001b[1;32m   1124\u001b[0m             \u001b[0;32mif\u001b[0m \u001b[0mengine\u001b[0m \u001b[0;34m==\u001b[0m \u001b[0;34m'python'\u001b[0m\u001b[0;34m:\u001b[0m\u001b[0;34m\u001b[0m\u001b[0m\n",
      "\u001b[0;32m/Users/jiayuanzhu/anaconda3/envs/py2/lib/python2.7/site-packages/pandas/io/parsers.pyc\u001b[0m in \u001b[0;36m__init__\u001b[0;34m(self, src, **kwds)\u001b[0m\n\u001b[1;32m   1851\u001b[0m         \u001b[0mkwds\u001b[0m\u001b[0;34m[\u001b[0m\u001b[0;34m'usecols'\u001b[0m\u001b[0;34m]\u001b[0m \u001b[0;34m=\u001b[0m \u001b[0mself\u001b[0m\u001b[0;34m.\u001b[0m\u001b[0musecols\u001b[0m\u001b[0;34m\u001b[0m\u001b[0m\n\u001b[1;32m   1852\u001b[0m \u001b[0;34m\u001b[0m\u001b[0m\n\u001b[0;32m-> 1853\u001b[0;31m         \u001b[0mself\u001b[0m\u001b[0;34m.\u001b[0m\u001b[0m_reader\u001b[0m \u001b[0;34m=\u001b[0m \u001b[0mparsers\u001b[0m\u001b[0;34m.\u001b[0m\u001b[0mTextReader\u001b[0m\u001b[0;34m(\u001b[0m\u001b[0msrc\u001b[0m\u001b[0;34m,\u001b[0m \u001b[0;34m**\u001b[0m\u001b[0mkwds\u001b[0m\u001b[0;34m)\u001b[0m\u001b[0;34m\u001b[0m\u001b[0m\n\u001b[0m\u001b[1;32m   1854\u001b[0m         \u001b[0mself\u001b[0m\u001b[0;34m.\u001b[0m\u001b[0munnamed_cols\u001b[0m \u001b[0;34m=\u001b[0m \u001b[0mself\u001b[0m\u001b[0;34m.\u001b[0m\u001b[0m_reader\u001b[0m\u001b[0;34m.\u001b[0m\u001b[0munnamed_cols\u001b[0m\u001b[0;34m\u001b[0m\u001b[0m\n\u001b[1;32m   1855\u001b[0m \u001b[0;34m\u001b[0m\u001b[0m\n",
      "\u001b[0;32mpandas/_libs/parsers.pyx\u001b[0m in \u001b[0;36mpandas._libs.parsers.TextReader.__cinit__\u001b[0;34m()\u001b[0m\n",
      "\u001b[0;32mpandas/_libs/parsers.pyx\u001b[0m in \u001b[0;36mpandas._libs.parsers.TextReader._setup_parser_source\u001b[0;34m()\u001b[0m\n",
      "\u001b[0;31mIOError\u001b[0m: [Errno 2] File NLP_note171_10.csv does not exist: 'NLP_note171_10.csv'"
     ]
    }
   ],
   "source": [
    "raw=pd.read_csv(\"NLP_note171_10.csv\")"
   ]
  },
  {
   "cell_type": "code",
   "execution_count": 3,
   "metadata": {},
   "outputs": [
    {
     "name": "stderr",
     "output_type": "stream",
     "text": [
      "C:\\Users\\jzhu\\AppData\\Local\\Continuum\\anaconda2\\envs\\py2\\lib\\site-packages\\ipykernel_launcher.py:2: SettingWithCopyWarning: \n",
      "A value is trying to be set on a copy of a slice from a DataFrame.\n",
      "Try using .loc[row_indexer,col_indexer] = value instead\n",
      "\n",
      "See the caveats in the documentation: http://pandas.pydata.org/pandas-docs/stable/indexing.html#indexing-view-versus-copy\n",
      "  \n"
     ]
    },
    {
     "data": {
      "text/html": [
       "<div>\n",
       "<style scoped>\n",
       "    .dataframe tbody tr th:only-of-type {\n",
       "        vertical-align: middle;\n",
       "    }\n",
       "\n",
       "    .dataframe tbody tr th {\n",
       "        vertical-align: top;\n",
       "    }\n",
       "\n",
       "    .dataframe thead th {\n",
       "        text-align: right;\n",
       "    }\n",
       "</style>\n",
       "<table border=\"1\" class=\"dataframe\">\n",
       "  <thead>\n",
       "    <tr style=\"text-align: right;\">\n",
       "      <th></th>\n",
       "      <th>loan_id</th>\n",
       "      <th>action_code</th>\n",
       "      <th>result_code</th>\n",
       "      <th>comments</th>\n",
       "      <th>modified_d</th>\n",
       "      <th>leng</th>\n",
       "    </tr>\n",
       "  </thead>\n",
       "  <tbody>\n",
       "    <tr>\n",
       "      <th>9</th>\n",
       "      <td>27200131</td>\n",
       "      <td>13</td>\n",
       "      <td>12</td>\n",
       "      <td>--- Rcvd Notice - 3rd Party Authorization and ...</td>\n",
       "      <td>16JAN2017:16:11:19.006919</td>\n",
       "      <td>128</td>\n",
       "    </tr>\n",
       "    <tr>\n",
       "      <th>10</th>\n",
       "      <td>44785932</td>\n",
       "      <td>13</td>\n",
       "      <td>47</td>\n",
       "      <td>--- Rcvd Notice - 3rd Party Authorization - Th...</td>\n",
       "      <td>18JAN2017:16:06:02.484505</td>\n",
       "      <td>97</td>\n",
       "    </tr>\n",
       "    <tr>\n",
       "      <th>21</th>\n",
       "      <td>46517248</td>\n",
       "      <td>13</td>\n",
       "      <td>16</td>\n",
       "      <td>To Loan Assistance;I am Margaret A. Murray, (a...</td>\n",
       "      <td>10JAN2017:11:17:33.357370</td>\n",
       "      <td>255</td>\n",
       "    </tr>\n",
       "    <tr>\n",
       "      <th>22</th>\n",
       "      <td>61338856</td>\n",
       "      <td>13</td>\n",
       "      <td>47</td>\n",
       "      <td>Rec'd authorization Performance Settlement per...</td>\n",
       "      <td>13JAN2017:13:38:49.642495</td>\n",
       "      <td>72</td>\n",
       "    </tr>\n",
       "    <tr>\n",
       "      <th>26</th>\n",
       "      <td>14598318</td>\n",
       "      <td>13</td>\n",
       "      <td>12</td>\n",
       "      <td>--- Rcvd Notice - 3rd Party Authorization and ...</td>\n",
       "      <td>09JAN2017:13:31:17.176098</td>\n",
       "      <td>167</td>\n",
       "    </tr>\n",
       "    <tr>\n",
       "      <th>29</th>\n",
       "      <td>46803137</td>\n",
       "      <td>13</td>\n",
       "      <td>12</td>\n",
       "      <td>--- Rcvd Notice - 3rd Party Authorization and ...</td>\n",
       "      <td>05JAN2017:10:00:51.978545</td>\n",
       "      <td>128</td>\n",
       "    </tr>\n",
       "    <tr>\n",
       "      <th>41</th>\n",
       "      <td>6694936</td>\n",
       "      <td>13</td>\n",
       "      <td>21</td>\n",
       "      <td>SIF APPROVED $6918.49 (50%) in 1 pay by 1/30. ...</td>\n",
       "      <td>06JAN2017:09:41:06.108301</td>\n",
       "      <td>94</td>\n",
       "    </tr>\n",
       "    <tr>\n",
       "      <th>44</th>\n",
       "      <td>45059193</td>\n",
       "      <td>13</td>\n",
       "      <td>12</td>\n",
       "      <td>---Rcvd Notice - Cease and Desist and 3rd Part...</td>\n",
       "      <td>05JAN2017:09:49:49.456191</td>\n",
       "      <td>121</td>\n",
       "    </tr>\n",
       "    <tr>\n",
       "      <th>45</th>\n",
       "      <td>66005506</td>\n",
       "      <td>13</td>\n",
       "      <td>12</td>\n",
       "      <td>Rcvd 3rd party authorization and Cease and Des...</td>\n",
       "      <td>10JAN2017:14:30:00.758643</td>\n",
       "      <td>120</td>\n",
       "    </tr>\n",
       "    <tr>\n",
       "      <th>46</th>\n",
       "      <td>19056528</td>\n",
       "      <td>13</td>\n",
       "      <td>47</td>\n",
       "      <td>Rcvd 3rd party authorization \"ClearOne Advanta...</td>\n",
       "      <td>10JAN2017:14:59:38.689050</td>\n",
       "      <td>79</td>\n",
       "    </tr>\n",
       "  </tbody>\n",
       "</table>\n",
       "</div>"
      ],
      "text/plain": [
       "     loan_id  action_code  result_code  \\\n",
       "9   27200131           13           12   \n",
       "10  44785932           13           47   \n",
       "21  46517248           13           16   \n",
       "22  61338856           13           47   \n",
       "26  14598318           13           12   \n",
       "29  46803137           13           12   \n",
       "41   6694936           13           21   \n",
       "44  45059193           13           12   \n",
       "45  66005506           13           12   \n",
       "46  19056528           13           47   \n",
       "\n",
       "                                             comments  \\\n",
       "9   --- Rcvd Notice - 3rd Party Authorization and ...   \n",
       "10  --- Rcvd Notice - 3rd Party Authorization - Th...   \n",
       "21  To Loan Assistance;I am Margaret A. Murray, (a...   \n",
       "22  Rec'd authorization Performance Settlement per...   \n",
       "26  --- Rcvd Notice - 3rd Party Authorization and ...   \n",
       "29  --- Rcvd Notice - 3rd Party Authorization and ...   \n",
       "41  SIF APPROVED $6918.49 (50%) in 1 pay by 1/30. ...   \n",
       "44  ---Rcvd Notice - Cease and Desist and 3rd Part...   \n",
       "45  Rcvd 3rd party authorization and Cease and Des...   \n",
       "46  Rcvd 3rd party authorization \"ClearOne Advanta...   \n",
       "\n",
       "                   modified_d  leng  \n",
       "9   16JAN2017:16:11:19.006919   128  \n",
       "10  18JAN2017:16:06:02.484505    97  \n",
       "21  10JAN2017:11:17:33.357370   255  \n",
       "22  13JAN2017:13:38:49.642495    72  \n",
       "26  09JAN2017:13:31:17.176098   167  \n",
       "29  05JAN2017:10:00:51.978545   128  \n",
       "41  06JAN2017:09:41:06.108301    94  \n",
       "44  05JAN2017:09:49:49.456191   121  \n",
       "45  10JAN2017:14:30:00.758643   120  \n",
       "46  10JAN2017:14:59:38.689050    79  "
      ]
     },
     "execution_count": 3,
     "metadata": {},
     "output_type": "execute_result"
    }
   ],
   "source": [
    "train=raw[raw.action_code==13]\n",
    "train['leng']=train.comments.apply(lambda x:len(str(x)))\n",
    "train = train[train.leng>9]\n",
    "train.head(10)"
   ]
  },
  {
   "cell_type": "code",
   "execution_count": 4,
   "metadata": {},
   "outputs": [],
   "source": [
    "def month(x):\n",
    "    return x[2:9]\n",
    "train['month'] = train['modified_d'].apply(lambda x:month(x))"
   ]
  },
  {
   "cell_type": "code",
   "execution_count": 5,
   "metadata": {},
   "outputs": [
    {
     "data": {
      "text/html": [
       "<div>\n",
       "<style scoped>\n",
       "    .dataframe tbody tr th:only-of-type {\n",
       "        vertical-align: middle;\n",
       "    }\n",
       "\n",
       "    .dataframe tbody tr th {\n",
       "        vertical-align: top;\n",
       "    }\n",
       "\n",
       "    .dataframe thead th {\n",
       "        text-align: right;\n",
       "    }\n",
       "</style>\n",
       "<table border=\"1\" class=\"dataframe\">\n",
       "  <thead>\n",
       "    <tr style=\"text-align: right;\">\n",
       "      <th></th>\n",
       "      <th>loan_id</th>\n",
       "      <th>action_code</th>\n",
       "      <th>result_code</th>\n",
       "      <th>comments</th>\n",
       "      <th>modified_d</th>\n",
       "      <th>leng</th>\n",
       "      <th>month</th>\n",
       "    </tr>\n",
       "  </thead>\n",
       "  <tbody>\n",
       "    <tr>\n",
       "      <th>9</th>\n",
       "      <td>27200131</td>\n",
       "      <td>13</td>\n",
       "      <td>12</td>\n",
       "      <td>--- Rcvd Notice - 3rd Party Authorization and ...</td>\n",
       "      <td>16JAN2017:16:11:19.006919</td>\n",
       "      <td>128</td>\n",
       "      <td>JAN2017</td>\n",
       "    </tr>\n",
       "    <tr>\n",
       "      <th>10</th>\n",
       "      <td>44785932</td>\n",
       "      <td>13</td>\n",
       "      <td>47</td>\n",
       "      <td>--- Rcvd Notice - 3rd Party Authorization - Th...</td>\n",
       "      <td>18JAN2017:16:06:02.484505</td>\n",
       "      <td>97</td>\n",
       "      <td>JAN2017</td>\n",
       "    </tr>\n",
       "    <tr>\n",
       "      <th>21</th>\n",
       "      <td>46517248</td>\n",
       "      <td>13</td>\n",
       "      <td>16</td>\n",
       "      <td>To Loan Assistance;I am Margaret A. Murray, (a...</td>\n",
       "      <td>10JAN2017:11:17:33.357370</td>\n",
       "      <td>255</td>\n",
       "      <td>JAN2017</td>\n",
       "    </tr>\n",
       "    <tr>\n",
       "      <th>22</th>\n",
       "      <td>61338856</td>\n",
       "      <td>13</td>\n",
       "      <td>47</td>\n",
       "      <td>Rec'd authorization Performance Settlement per...</td>\n",
       "      <td>13JAN2017:13:38:49.642495</td>\n",
       "      <td>72</td>\n",
       "      <td>JAN2017</td>\n",
       "    </tr>\n",
       "    <tr>\n",
       "      <th>26</th>\n",
       "      <td>14598318</td>\n",
       "      <td>13</td>\n",
       "      <td>12</td>\n",
       "      <td>--- Rcvd Notice - 3rd Party Authorization and ...</td>\n",
       "      <td>09JAN2017:13:31:17.176098</td>\n",
       "      <td>167</td>\n",
       "      <td>JAN2017</td>\n",
       "    </tr>\n",
       "    <tr>\n",
       "      <th>29</th>\n",
       "      <td>46803137</td>\n",
       "      <td>13</td>\n",
       "      <td>12</td>\n",
       "      <td>--- Rcvd Notice - 3rd Party Authorization and ...</td>\n",
       "      <td>05JAN2017:10:00:51.978545</td>\n",
       "      <td>128</td>\n",
       "      <td>JAN2017</td>\n",
       "    </tr>\n",
       "    <tr>\n",
       "      <th>41</th>\n",
       "      <td>6694936</td>\n",
       "      <td>13</td>\n",
       "      <td>21</td>\n",
       "      <td>SIF APPROVED $6918.49 (50%) in 1 pay by 1/30. ...</td>\n",
       "      <td>06JAN2017:09:41:06.108301</td>\n",
       "      <td>94</td>\n",
       "      <td>JAN2017</td>\n",
       "    </tr>\n",
       "    <tr>\n",
       "      <th>44</th>\n",
       "      <td>45059193</td>\n",
       "      <td>13</td>\n",
       "      <td>12</td>\n",
       "      <td>---Rcvd Notice - Cease and Desist and 3rd Part...</td>\n",
       "      <td>05JAN2017:09:49:49.456191</td>\n",
       "      <td>121</td>\n",
       "      <td>JAN2017</td>\n",
       "    </tr>\n",
       "    <tr>\n",
       "      <th>45</th>\n",
       "      <td>66005506</td>\n",
       "      <td>13</td>\n",
       "      <td>12</td>\n",
       "      <td>Rcvd 3rd party authorization and Cease and Des...</td>\n",
       "      <td>10JAN2017:14:30:00.758643</td>\n",
       "      <td>120</td>\n",
       "      <td>JAN2017</td>\n",
       "    </tr>\n",
       "    <tr>\n",
       "      <th>46</th>\n",
       "      <td>19056528</td>\n",
       "      <td>13</td>\n",
       "      <td>47</td>\n",
       "      <td>Rcvd 3rd party authorization \"ClearOne Advanta...</td>\n",
       "      <td>10JAN2017:14:59:38.689050</td>\n",
       "      <td>79</td>\n",
       "      <td>JAN2017</td>\n",
       "    </tr>\n",
       "  </tbody>\n",
       "</table>\n",
       "</div>"
      ],
      "text/plain": [
       "     loan_id  action_code  result_code  \\\n",
       "9   27200131           13           12   \n",
       "10  44785932           13           47   \n",
       "21  46517248           13           16   \n",
       "22  61338856           13           47   \n",
       "26  14598318           13           12   \n",
       "29  46803137           13           12   \n",
       "41   6694936           13           21   \n",
       "44  45059193           13           12   \n",
       "45  66005506           13           12   \n",
       "46  19056528           13           47   \n",
       "\n",
       "                                             comments  \\\n",
       "9   --- Rcvd Notice - 3rd Party Authorization and ...   \n",
       "10  --- Rcvd Notice - 3rd Party Authorization - Th...   \n",
       "21  To Loan Assistance;I am Margaret A. Murray, (a...   \n",
       "22  Rec'd authorization Performance Settlement per...   \n",
       "26  --- Rcvd Notice - 3rd Party Authorization and ...   \n",
       "29  --- Rcvd Notice - 3rd Party Authorization and ...   \n",
       "41  SIF APPROVED $6918.49 (50%) in 1 pay by 1/30. ...   \n",
       "44  ---Rcvd Notice - Cease and Desist and 3rd Part...   \n",
       "45  Rcvd 3rd party authorization and Cease and Des...   \n",
       "46  Rcvd 3rd party authorization \"ClearOne Advanta...   \n",
       "\n",
       "                   modified_d  leng    month  \n",
       "9   16JAN2017:16:11:19.006919   128  JAN2017  \n",
       "10  18JAN2017:16:06:02.484505    97  JAN2017  \n",
       "21  10JAN2017:11:17:33.357370   255  JAN2017  \n",
       "22  13JAN2017:13:38:49.642495    72  JAN2017  \n",
       "26  09JAN2017:13:31:17.176098   167  JAN2017  \n",
       "29  05JAN2017:10:00:51.978545   128  JAN2017  \n",
       "41  06JAN2017:09:41:06.108301    94  JAN2017  \n",
       "44  05JAN2017:09:49:49.456191   121  JAN2017  \n",
       "45  10JAN2017:14:30:00.758643   120  JAN2017  \n",
       "46  10JAN2017:14:59:38.689050    79  JAN2017  "
      ]
     },
     "execution_count": 5,
     "metadata": {},
     "output_type": "execute_result"
    }
   ],
   "source": [
    "train.head(10)"
   ]
  },
  {
   "cell_type": "code",
   "execution_count": 6,
   "metadata": {},
   "outputs": [
    {
     "data": {
      "text/plain": [
       "month\n",
       "APR2017    1705\n",
       "APR2018    2992\n",
       "AUG2017    2330\n",
       "AUG2018    3397\n",
       "DEC2017    2473\n",
       "FEB2017     909\n",
       "FEB2018    2292\n",
       "JAN2017     782\n",
       "JAN2018    2840\n",
       "JUL2017    1839\n",
       "JUL2018    2632\n",
       "JUN2017    2217\n",
       "JUN2018    2771\n",
       "MAR2017    1336\n",
       "MAR2018    3237\n",
       "MAY2017    2111\n",
       "MAY2018    2937\n",
       "NOV2017    3720\n",
       "OCT2017    2959\n",
       "SEP2017    2307\n",
       "SEP2018    2835\n",
       "Name: loan_id, dtype: int64"
      ]
     },
     "execution_count": 6,
     "metadata": {},
     "output_type": "execute_result"
    }
   ],
   "source": [
    "train.groupby('month').loan_id.count()"
   ]
  },
  {
   "cell_type": "code",
   "execution_count": 7,
   "metadata": {},
   "outputs": [
    {
     "data": {
      "text/plain": [
       "result_code\n",
       "8        23\n",
       "9      5304\n",
       "10       62\n",
       "11       29\n",
       "12    19137\n",
       "13     6343\n",
       "14        5\n",
       "16     1751\n",
       "17       71\n",
       "18       36\n",
       "19        1\n",
       "20       25\n",
       "21    14105\n",
       "43        2\n",
       "44       79\n",
       "45        4\n",
       "46       17\n",
       "47     3619\n",
       "77        1\n",
       "78        6\n",
       "83        1\n",
       "Name: loan_id, dtype: int64"
      ]
     },
     "execution_count": 7,
     "metadata": {},
     "output_type": "execute_result"
    }
   ],
   "source": [
    "train.groupby('result_code').loan_id.count()"
   ]
  },
  {
   "cell_type": "code",
   "execution_count": 8,
   "metadata": {},
   "outputs": [
    {
     "data": {
      "text/html": [
       "<div>\n",
       "<style scoped>\n",
       "    .dataframe tbody tr th:only-of-type {\n",
       "        vertical-align: middle;\n",
       "    }\n",
       "\n",
       "    .dataframe tbody tr th {\n",
       "        vertical-align: top;\n",
       "    }\n",
       "\n",
       "    .dataframe thead th {\n",
       "        text-align: right;\n",
       "    }\n",
       "</style>\n",
       "<table border=\"1\" class=\"dataframe\">\n",
       "  <thead>\n",
       "    <tr style=\"text-align: right;\">\n",
       "      <th></th>\n",
       "      <th>action_code</th>\n",
       "      <th>action_description</th>\n",
       "      <th>result_code</th>\n",
       "      <th>result_description</th>\n",
       "    </tr>\n",
       "  </thead>\n",
       "  <tbody>\n",
       "    <tr>\n",
       "      <th>0</th>\n",
       "      <td>13</td>\n",
       "      <td>Email (3rd Party)</td>\n",
       "      <td>9</td>\n",
       "      <td>No Pay - Claims Attorney Rep</td>\n",
       "    </tr>\n",
       "    <tr>\n",
       "      <th>1</th>\n",
       "      <td>13</td>\n",
       "      <td>Email (3rd Party)</td>\n",
       "      <td>10</td>\n",
       "      <td>No Pay - Claims Bankruptcy</td>\n",
       "    </tr>\n",
       "    <tr>\n",
       "      <th>2</th>\n",
       "      <td>13</td>\n",
       "      <td>Email (3rd Party)</td>\n",
       "      <td>11</td>\n",
       "      <td>No Pay - Claims SCRA Relief</td>\n",
       "    </tr>\n",
       "    <tr>\n",
       "      <th>3</th>\n",
       "      <td>13</td>\n",
       "      <td>Email (3rd Party)</td>\n",
       "      <td>12</td>\n",
       "      <td>No Pay - Requested Cease &amp; Desist</td>\n",
       "    </tr>\n",
       "    <tr>\n",
       "      <th>4</th>\n",
       "      <td>13</td>\n",
       "      <td>Email (3rd Party)</td>\n",
       "      <td>13</td>\n",
       "      <td>No Pay - Claims Unemployment / Hardship</td>\n",
       "    </tr>\n",
       "  </tbody>\n",
       "</table>\n",
       "</div>"
      ],
      "text/plain": [
       "   action_code action_description  result_code  \\\n",
       "0           13  Email (3rd Party)            9   \n",
       "1           13  Email (3rd Party)           10   \n",
       "2           13  Email (3rd Party)           11   \n",
       "3           13  Email (3rd Party)           12   \n",
       "4           13  Email (3rd Party)           13   \n",
       "\n",
       "                        result_description  \n",
       "0             No Pay - Claims Attorney Rep  \n",
       "1               No Pay - Claims Bankruptcy  \n",
       "2              No Pay - Claims SCRA Relief  \n",
       "3        No Pay - Requested Cease & Desist  \n",
       "4  No Pay - Claims Unemployment / Hardship  "
      ]
     },
     "execution_count": 8,
     "metadata": {},
     "output_type": "execute_result"
    }
   ],
   "source": [
    "description = pd.read_csv(\"C:\\Users\\jzhu\\Desktop\\query_result.csv\")\n",
    "description.head(5)"
   ]
  },
  {
   "cell_type": "code",
   "execution_count": 9,
   "metadata": {},
   "outputs": [],
   "source": [
    "result = pd.merge(train, description[['result_description','result_code']], on = 'result_code')"
   ]
  },
  {
   "cell_type": "code",
   "execution_count": 10,
   "metadata": {},
   "outputs": [
    {
     "data": {
      "text/plain": [
       "result_description\n",
       "No Pay - Claims Attorney Rep                 5304\n",
       "No Pay - Claims Bankruptcy                     62\n",
       "No Pay - Claims Fraud                           5\n",
       "No Pay - Claims SCRA Relief                    29\n",
       "No Pay - Claims Unemployment / Hardship      6343\n",
       "No Pay - Disputes Account / VOD Requested      23\n",
       "No Pay - Divorce                                1\n",
       "No Pay - Medical                                6\n",
       "No Pay - Other Reason                        1751\n",
       "Name: loan_id, dtype: int64"
      ]
     },
     "execution_count": 10,
     "metadata": {},
     "output_type": "execute_result"
    }
   ],
   "source": [
    "result.groupby('result_description').loan_id.count()[0:9]"
   ]
  },
  {
   "cell_type": "code",
   "execution_count": 11,
   "metadata": {},
   "outputs": [
    {
     "data": {
      "text/plain": [
       "result_description\n",
       "Non-Collections - Bank Change / Verification         17\n",
       "Non-Collections - Due Date Change                     4\n",
       "Non-Collections - Follow-Up / Other                3619\n",
       "Non-Collections - Reschedule Payment                  2\n",
       "Non-Collections - Stop ACH / Pay by Check            79\n",
       "Promised to Pay - ACH                                71\n",
       "Promised to Pay - Hardship Plan Offered -Taken        1\n",
       "Promised to Pay - Mail in Check                      36\n",
       "Promised to Pay - Other Method                        1\n",
       "Promised to Pay - Payment Plan                       25\n",
       "Promised to Pay - Settlement Plan                 14105\n",
       "Name: loan_id, dtype: int64"
      ]
     },
     "execution_count": 11,
     "metadata": {},
     "output_type": "execute_result"
    }
   ],
   "source": [
    "result.groupby('result_description').loan_id.count()[10:]"
   ]
  },
  {
   "cell_type": "code",
   "execution_count": 13,
   "metadata": {},
   "outputs": [
    {
     "name": "stderr",
     "output_type": "stream",
     "text": [
      "C:\\Users\\jzhu\\AppData\\Local\\Continuum\\anaconda2\\envs\\py2\\lib\\site-packages\\ipykernel_launcher.py:3: SettingWithCopyWarning: \n",
      "A value is trying to be set on a copy of a slice from a DataFrame.\n",
      "Try using .loc[row_indexer,col_indexer] = value instead\n",
      "\n",
      "See the caveats in the documentation: http://pandas.pydata.org/pandas-docs/stable/indexing.html#indexing-view-versus-copy\n",
      "  This is separate from the ipykernel package so we can avoid doing imports until\n"
     ]
    },
    {
     "data": {
      "text/plain": [
       "(11013, 6)"
      ]
     },
     "execution_count": 13,
     "metadata": {},
     "output_type": "execute_result"
    }
   ],
   "source": [
    "rawtest=pd.read_csv(\"NLP_note10_191.csv\")\n",
    "test=rawtest[rawtest.action_code==13]\n",
    "test['leng']=test.comments.apply(lambda x:len(str(x)))\n",
    "test = test[test.leng>9]\n",
    "test.shape"
   ]
  },
  {
   "cell_type": "code",
   "execution_count": 16,
   "metadata": {},
   "outputs": [],
   "source": [
    "id = test['loan_id'].unique() # unqiue loan id in test set"
   ]
  },
  {
   "cell_type": "code",
   "execution_count": 18,
   "metadata": {},
   "outputs": [
    {
     "data": {
      "text/plain": [
       "9628"
      ]
     },
     "execution_count": 18,
     "metadata": {},
     "output_type": "execute_result"
    }
   ],
   "source": [
    "len(id)"
   ]
  },
  {
   "cell_type": "code",
   "execution_count": 32,
   "metadata": {},
   "outputs": [],
   "source": [
    "test = pd.merge(test, description[['result_description','result_code']], on = 'result_code')"
   ]
  },
  {
   "cell_type": "code",
   "execution_count": 33,
   "metadata": {},
   "outputs": [
    {
     "data": {
      "text/html": [
       "<div>\n",
       "<style scoped>\n",
       "    .dataframe tbody tr th:only-of-type {\n",
       "        vertical-align: middle;\n",
       "    }\n",
       "\n",
       "    .dataframe tbody tr th {\n",
       "        vertical-align: top;\n",
       "    }\n",
       "\n",
       "    .dataframe thead th {\n",
       "        text-align: right;\n",
       "    }\n",
       "</style>\n",
       "<table border=\"1\" class=\"dataframe\">\n",
       "  <thead>\n",
       "    <tr style=\"text-align: right;\">\n",
       "      <th></th>\n",
       "      <th>loan_id</th>\n",
       "      <th>action_code</th>\n",
       "      <th>result_code</th>\n",
       "      <th>comments</th>\n",
       "      <th>modified_d</th>\n",
       "      <th>leng</th>\n",
       "      <th>result_description</th>\n",
       "    </tr>\n",
       "  </thead>\n",
       "  <tbody>\n",
       "    <tr>\n",
       "      <th>0</th>\n",
       "      <td>104602878</td>\n",
       "      <td>13</td>\n",
       "      <td>44</td>\n",
       "      <td>zd Ticket #13731458 received doc---revocation ...</td>\n",
       "      <td>17JAN2019:05:46:15.145728</td>\n",
       "      <td>84</td>\n",
       "      <td>Non-Collections - Stop ACH / Pay by Check</td>\n",
       "    </tr>\n",
       "    <tr>\n",
       "      <th>1</th>\n",
       "      <td>75311317</td>\n",
       "      <td>13</td>\n",
       "      <td>44</td>\n",
       "      <td>zd 13496537 - I want to stop my automatic paym...</td>\n",
       "      <td>26DEC2018:09:38:25.757921</td>\n",
       "      <td>255</td>\n",
       "      <td>Non-Collections - Stop ACH / Pay by Check</td>\n",
       "    </tr>\n",
       "    <tr>\n",
       "      <th>2</th>\n",
       "      <td>130766265</td>\n",
       "      <td>13</td>\n",
       "      <td>44</td>\n",
       "      <td>---Received request to hold payments due to ha...</td>\n",
       "      <td>27DEC2018:03:48:19.745009</td>\n",
       "      <td>122</td>\n",
       "      <td>Non-Collections - Stop ACH / Pay by Check</td>\n",
       "    </tr>\n",
       "    <tr>\n",
       "      <th>3</th>\n",
       "      <td>73713897</td>\n",
       "      <td>13</td>\n",
       "      <td>44</td>\n",
       "      <td>-- Rcvd Authorization - zd 13512928 - Authoriz...</td>\n",
       "      <td>27DEC2018:13:17:49.405205</td>\n",
       "      <td>109</td>\n",
       "      <td>Non-Collections - Stop ACH / Pay by Check</td>\n",
       "    </tr>\n",
       "    <tr>\n",
       "      <th>4</th>\n",
       "      <td>96756904</td>\n",
       "      <td>13</td>\n",
       "      <td>44</td>\n",
       "      <td>ZD 13516449 // Sorry, I'm not sure why it didn...</td>\n",
       "      <td>27DEC2018:14:52:49.145328</td>\n",
       "      <td>254</td>\n",
       "      <td>Non-Collections - Stop ACH / Pay by Check</td>\n",
       "    </tr>\n",
       "    <tr>\n",
       "      <th>5</th>\n",
       "      <td>120071923</td>\n",
       "      <td>13</td>\n",
       "      <td>44</td>\n",
       "      <td>zd Ticket #13391179 I have a loan through you ...</td>\n",
       "      <td>14DEC2018:06:05:14.343751</td>\n",
       "      <td>144</td>\n",
       "      <td>Non-Collections - Stop ACH / Pay by Check</td>\n",
       "    </tr>\n",
       "    <tr>\n",
       "      <th>6</th>\n",
       "      <td>115235270</td>\n",
       "      <td>13</td>\n",
       "      <td>44</td>\n",
       "      <td>zd  Ticket #13412224 Please turn off autopay f...</td>\n",
       "      <td>17DEC2018:10:00:30.175758</td>\n",
       "      <td>119</td>\n",
       "      <td>Non-Collections - Stop ACH / Pay by Check</td>\n",
       "    </tr>\n",
       "    <tr>\n",
       "      <th>7</th>\n",
       "      <td>110905587</td>\n",
       "      <td>13</td>\n",
       "      <td>44</td>\n",
       "      <td>--- Rcvd stop ACH letter - ZD 13416112 ---</td>\n",
       "      <td>17DEC2018:13:45:49.831362</td>\n",
       "      <td>42</td>\n",
       "      <td>Non-Collections - Stop ACH / Pay by Check</td>\n",
       "    </tr>\n",
       "    <tr>\n",
       "      <th>8</th>\n",
       "      <td>139478975</td>\n",
       "      <td>13</td>\n",
       "      <td>44</td>\n",
       "      <td>ZD 12463911 - I have NOT enrolled in auto pay....</td>\n",
       "      <td>01OCT2018:07:48:37.640451</td>\n",
       "      <td>255</td>\n",
       "      <td>Non-Collections - Stop ACH / Pay by Check</td>\n",
       "    </tr>\n",
       "    <tr>\n",
       "      <th>9</th>\n",
       "      <td>68453667</td>\n",
       "      <td>13</td>\n",
       "      <td>44</td>\n",
       "      <td>ZD Ticket #12503137 (Subject Automatic payment...</td>\n",
       "      <td>03OCT2018:14:21:48.597565</td>\n",
       "      <td>127</td>\n",
       "      <td>Non-Collections - Stop ACH / Pay by Check</td>\n",
       "    </tr>\n",
       "  </tbody>\n",
       "</table>\n",
       "</div>"
      ],
      "text/plain": [
       "     loan_id  action_code  result_code  \\\n",
       "0  104602878           13           44   \n",
       "1   75311317           13           44   \n",
       "2  130766265           13           44   \n",
       "3   73713897           13           44   \n",
       "4   96756904           13           44   \n",
       "5  120071923           13           44   \n",
       "6  115235270           13           44   \n",
       "7  110905587           13           44   \n",
       "8  139478975           13           44   \n",
       "9   68453667           13           44   \n",
       "\n",
       "                                            comments  \\\n",
       "0  zd Ticket #13731458 received doc---revocation ...   \n",
       "1  zd 13496537 - I want to stop my automatic paym...   \n",
       "2  ---Received request to hold payments due to ha...   \n",
       "3  -- Rcvd Authorization - zd 13512928 - Authoriz...   \n",
       "4  ZD 13516449 // Sorry, I'm not sure why it didn...   \n",
       "5  zd Ticket #13391179 I have a loan through you ...   \n",
       "6  zd  Ticket #13412224 Please turn off autopay f...   \n",
       "7         --- Rcvd stop ACH letter - ZD 13416112 ---   \n",
       "8  ZD 12463911 - I have NOT enrolled in auto pay....   \n",
       "9  ZD Ticket #12503137 (Subject Automatic payment...   \n",
       "\n",
       "                  modified_d  leng                         result_description  \n",
       "0  17JAN2019:05:46:15.145728    84  Non-Collections - Stop ACH / Pay by Check  \n",
       "1  26DEC2018:09:38:25.757921   255  Non-Collections - Stop ACH / Pay by Check  \n",
       "2  27DEC2018:03:48:19.745009   122  Non-Collections - Stop ACH / Pay by Check  \n",
       "3  27DEC2018:13:17:49.405205   109  Non-Collections - Stop ACH / Pay by Check  \n",
       "4  27DEC2018:14:52:49.145328   254  Non-Collections - Stop ACH / Pay by Check  \n",
       "5  14DEC2018:06:05:14.343751   144  Non-Collections - Stop ACH / Pay by Check  \n",
       "6  17DEC2018:10:00:30.175758   119  Non-Collections - Stop ACH / Pay by Check  \n",
       "7  17DEC2018:13:45:49.831362    42  Non-Collections - Stop ACH / Pay by Check  \n",
       "8  01OCT2018:07:48:37.640451   255  Non-Collections - Stop ACH / Pay by Check  \n",
       "9  03OCT2018:14:21:48.597565   127  Non-Collections - Stop ACH / Pay by Check  "
      ]
     },
     "execution_count": 33,
     "metadata": {},
     "output_type": "execute_result"
    }
   ],
   "source": [
    "test.head(10)"
   ]
  },
  {
   "cell_type": "code",
   "execution_count": 36,
   "metadata": {},
   "outputs": [
    {
     "data": {
      "text/html": [
       "<div>\n",
       "<style scoped>\n",
       "    .dataframe tbody tr th:only-of-type {\n",
       "        vertical-align: middle;\n",
       "    }\n",
       "\n",
       "    .dataframe tbody tr th {\n",
       "        vertical-align: top;\n",
       "    }\n",
       "\n",
       "    .dataframe thead th {\n",
       "        text-align: right;\n",
       "    }\n",
       "</style>\n",
       "<table border=\"1\" class=\"dataframe\">\n",
       "  <thead>\n",
       "    <tr style=\"text-align: right;\">\n",
       "      <th></th>\n",
       "      <th>loan_id</th>\n",
       "      <th>action_code</th>\n",
       "      <th>result_code</th>\n",
       "      <th>comments</th>\n",
       "      <th>modified_d</th>\n",
       "      <th>leng</th>\n",
       "      <th>result_description</th>\n",
       "    </tr>\n",
       "  </thead>\n",
       "  <tbody>\n",
       "    <tr>\n",
       "      <th>14</th>\n",
       "      <td>137805867</td>\n",
       "      <td>13</td>\n",
       "      <td>47</td>\n",
       "      <td>----Received Agreement to Defend, Indemnify an...</td>\n",
       "      <td>17JAN2019:07:32:18.295282</td>\n",
       "      <td>145</td>\n",
       "      <td>Non-Collections - Follow-Up / Other</td>\n",
       "    </tr>\n",
       "  </tbody>\n",
       "</table>\n",
       "</div>"
      ],
      "text/plain": [
       "      loan_id  action_code  result_code  \\\n",
       "14  137805867           13           47   \n",
       "\n",
       "                                             comments  \\\n",
       "14  ----Received Agreement to Defend, Indemnify an...   \n",
       "\n",
       "                   modified_d  leng                   result_description  \n",
       "14  17JAN2019:07:32:18.295282   145  Non-Collections - Follow-Up / Other  "
      ]
     },
     "execution_count": 36,
     "metadata": {},
     "output_type": "execute_result"
    }
   ],
   "source": [
    "test.loc[test['loan_id'] == id[1]]"
   ]
  },
  {
   "cell_type": "code",
   "execution_count": 2,
   "metadata": {},
   "outputs": [],
   "source": [
    "from sqlalchemy import create_engine"
   ]
  },
  {
   "cell_type": "code",
   "execution_count": 3,
   "metadata": {},
   "outputs": [],
   "source": [
    "# # presto engine\n",
    "# engine = create_engine(os.getenv('PRESTO'), connect_args={'protocol': 'https'})\n",
    "# # # hive engine\n",
    "# # engine = create_engine(os.getenv('HIVE'), connect_args={'auth': 'LDAP'})\n",
    "# query = \"select * from risk.pmt_hist_cyc limit 10\"\n",
    "# df = pd.read_sql(query, con=engine)"
   ]
  },
  {
   "cell_type": "code",
   "execution_count": 4,
   "metadata": {},
   "outputs": [
    {
     "ename": "NoSuchModuleError",
     "evalue": "Can't load plugin: sqlalchemy.dialects:https",
     "output_type": "error",
     "traceback": [
      "\u001b[1;31m\u001b[0m",
      "\u001b[1;31mNoSuchModuleError\u001b[0mTraceback (most recent call last)",
      "\u001b[1;32m<ipython-input-4-c8cc3fa5df37>\u001b[0m in \u001b[0;36m<module>\u001b[1;34m()\u001b[0m\n\u001b[0;32m      1\u001b[0m \u001b[0mstring_\u001b[0m \u001b[1;33m=\u001b[0m \u001b[1;34m'https://github.tlcinternal.com/dstevenson/pylcdb'\u001b[0m\u001b[1;33m\u001b[0m\u001b[0m\n\u001b[1;32m----> 2\u001b[1;33m \u001b[0mengine\u001b[0m \u001b[1;33m=\u001b[0m \u001b[0mcreate_engine\u001b[0m\u001b[1;33m(\u001b[0m\u001b[0mstring_\u001b[0m\u001b[1;33m,\u001b[0m \u001b[0mconnect_args\u001b[0m\u001b[1;33m=\u001b[0m\u001b[1;33m{\u001b[0m\u001b[1;34m'protocol'\u001b[0m\u001b[1;33m:\u001b[0m \u001b[1;34m'https'\u001b[0m\u001b[1;33m}\u001b[0m\u001b[1;33m)\u001b[0m\u001b[1;33m\u001b[0m\u001b[0m\n\u001b[0m\u001b[0;32m      3\u001b[0m \u001b[0mquery\u001b[0m \u001b[1;33m=\u001b[0m \u001b[1;34m\"select * from risk.pmt_hist_cyc limit 10\"\u001b[0m\u001b[1;33m\u001b[0m\u001b[0m\n\u001b[0;32m      4\u001b[0m \u001b[0mdf\u001b[0m \u001b[1;33m=\u001b[0m \u001b[0mpd\u001b[0m\u001b[1;33m.\u001b[0m\u001b[0mread_sql\u001b[0m\u001b[1;33m(\u001b[0m\u001b[0mquery\u001b[0m\u001b[1;33m,\u001b[0m \u001b[0mcon\u001b[0m\u001b[1;33m=\u001b[0m\u001b[0mengine\u001b[0m\u001b[1;33m)\u001b[0m\u001b[1;33m\u001b[0m\u001b[0m\n",
      "\u001b[1;32mC:\\Users\\jzhu\\AppData\\Local\\Continuum\\anaconda2\\envs\\py2\\lib\\site-packages\\sqlalchemy\\engine\\__init__.pyc\u001b[0m in \u001b[0;36mcreate_engine\u001b[1;34m(*args, **kwargs)\u001b[0m\n\u001b[0;32m    385\u001b[0m     \u001b[0mstrategy\u001b[0m \u001b[1;33m=\u001b[0m \u001b[0mkwargs\u001b[0m\u001b[1;33m.\u001b[0m\u001b[0mpop\u001b[0m\u001b[1;33m(\u001b[0m\u001b[1;34m'strategy'\u001b[0m\u001b[1;33m,\u001b[0m \u001b[0mdefault_strategy\u001b[0m\u001b[1;33m)\u001b[0m\u001b[1;33m\u001b[0m\u001b[0m\n\u001b[0;32m    386\u001b[0m     \u001b[0mstrategy\u001b[0m \u001b[1;33m=\u001b[0m \u001b[0mstrategies\u001b[0m\u001b[1;33m.\u001b[0m\u001b[0mstrategies\u001b[0m\u001b[1;33m[\u001b[0m\u001b[0mstrategy\u001b[0m\u001b[1;33m]\u001b[0m\u001b[1;33m\u001b[0m\u001b[0m\n\u001b[1;32m--> 387\u001b[1;33m     \u001b[1;32mreturn\u001b[0m \u001b[0mstrategy\u001b[0m\u001b[1;33m.\u001b[0m\u001b[0mcreate\u001b[0m\u001b[1;33m(\u001b[0m\u001b[1;33m*\u001b[0m\u001b[0margs\u001b[0m\u001b[1;33m,\u001b[0m \u001b[1;33m**\u001b[0m\u001b[0mkwargs\u001b[0m\u001b[1;33m)\u001b[0m\u001b[1;33m\u001b[0m\u001b[0m\n\u001b[0m\u001b[0;32m    388\u001b[0m \u001b[1;33m\u001b[0m\u001b[0m\n\u001b[0;32m    389\u001b[0m \u001b[1;33m\u001b[0m\u001b[0m\n",
      "\u001b[1;32mC:\\Users\\jzhu\\AppData\\Local\\Continuum\\anaconda2\\envs\\py2\\lib\\site-packages\\sqlalchemy\\engine\\strategies.pyc\u001b[0m in \u001b[0;36mcreate\u001b[1;34m(self, name_or_url, **kwargs)\u001b[0m\n\u001b[0;32m     54\u001b[0m         \u001b[0mu\u001b[0m\u001b[1;33m.\u001b[0m\u001b[0mquery\u001b[0m\u001b[1;33m.\u001b[0m\u001b[0mpop\u001b[0m\u001b[1;33m(\u001b[0m\u001b[1;34m'plugin'\u001b[0m\u001b[1;33m,\u001b[0m \u001b[0mNone\u001b[0m\u001b[1;33m)\u001b[0m\u001b[1;33m\u001b[0m\u001b[0m\n\u001b[0;32m     55\u001b[0m \u001b[1;33m\u001b[0m\u001b[0m\n\u001b[1;32m---> 56\u001b[1;33m         \u001b[0mentrypoint\u001b[0m \u001b[1;33m=\u001b[0m \u001b[0mu\u001b[0m\u001b[1;33m.\u001b[0m\u001b[0m_get_entrypoint\u001b[0m\u001b[1;33m(\u001b[0m\u001b[1;33m)\u001b[0m\u001b[1;33m\u001b[0m\u001b[0m\n\u001b[0m\u001b[0;32m     57\u001b[0m         \u001b[0mdialect_cls\u001b[0m \u001b[1;33m=\u001b[0m \u001b[0mentrypoint\u001b[0m\u001b[1;33m.\u001b[0m\u001b[0mget_dialect_cls\u001b[0m\u001b[1;33m(\u001b[0m\u001b[0mu\u001b[0m\u001b[1;33m)\u001b[0m\u001b[1;33m\u001b[0m\u001b[0m\n\u001b[0;32m     58\u001b[0m \u001b[1;33m\u001b[0m\u001b[0m\n",
      "\u001b[1;32mC:\\Users\\jzhu\\AppData\\Local\\Continuum\\anaconda2\\envs\\py2\\lib\\site-packages\\sqlalchemy\\engine\\url.pyc\u001b[0m in \u001b[0;36m_get_entrypoint\u001b[1;34m(self)\u001b[0m\n\u001b[0;32m    137\u001b[0m         \u001b[1;32melse\u001b[0m\u001b[1;33m:\u001b[0m\u001b[1;33m\u001b[0m\u001b[0m\n\u001b[0;32m    138\u001b[0m             \u001b[0mname\u001b[0m \u001b[1;33m=\u001b[0m \u001b[0mself\u001b[0m\u001b[1;33m.\u001b[0m\u001b[0mdrivername\u001b[0m\u001b[1;33m.\u001b[0m\u001b[0mreplace\u001b[0m\u001b[1;33m(\u001b[0m\u001b[1;34m'+'\u001b[0m\u001b[1;33m,\u001b[0m \u001b[1;34m'.'\u001b[0m\u001b[1;33m)\u001b[0m\u001b[1;33m\u001b[0m\u001b[0m\n\u001b[1;32m--> 139\u001b[1;33m         \u001b[0mcls\u001b[0m \u001b[1;33m=\u001b[0m \u001b[0mregistry\u001b[0m\u001b[1;33m.\u001b[0m\u001b[0mload\u001b[0m\u001b[1;33m(\u001b[0m\u001b[0mname\u001b[0m\u001b[1;33m)\u001b[0m\u001b[1;33m\u001b[0m\u001b[0m\n\u001b[0m\u001b[0;32m    140\u001b[0m         \u001b[1;31m# check for legacy dialects that\u001b[0m\u001b[1;33m\u001b[0m\u001b[1;33m\u001b[0m\u001b[0m\n\u001b[0;32m    141\u001b[0m         \u001b[1;31m# would return a module with 'dialect' as the\u001b[0m\u001b[1;33m\u001b[0m\u001b[1;33m\u001b[0m\u001b[0m\n",
      "\u001b[1;32mC:\\Users\\jzhu\\AppData\\Local\\Continuum\\anaconda2\\envs\\py2\\lib\\site-packages\\sqlalchemy\\util\\langhelpers.pyc\u001b[0m in \u001b[0;36mload\u001b[1;34m(self, name)\u001b[0m\n\u001b[0;32m    216\u001b[0m         raise exc.NoSuchModuleError(\n\u001b[0;32m    217\u001b[0m             \u001b[1;34m\"Can't load plugin: %s:%s\"\u001b[0m \u001b[1;33m%\u001b[0m\u001b[1;33m\u001b[0m\u001b[0m\n\u001b[1;32m--> 218\u001b[1;33m             (self.group, name))\n\u001b[0m\u001b[0;32m    219\u001b[0m \u001b[1;33m\u001b[0m\u001b[0m\n\u001b[0;32m    220\u001b[0m     \u001b[1;32mdef\u001b[0m \u001b[0mregister\u001b[0m\u001b[1;33m(\u001b[0m\u001b[0mself\u001b[0m\u001b[1;33m,\u001b[0m \u001b[0mname\u001b[0m\u001b[1;33m,\u001b[0m \u001b[0mmodulepath\u001b[0m\u001b[1;33m,\u001b[0m \u001b[0mobjname\u001b[0m\u001b[1;33m)\u001b[0m\u001b[1;33m:\u001b[0m\u001b[1;33m\u001b[0m\u001b[0m\n",
      "\u001b[1;31mNoSuchModuleError\u001b[0m: Can't load plugin: sqlalchemy.dialects:https"
     ]
    }
   ],
   "source": [
    "string_ = 'https://github.tlcinternal.com/dstevenson/pylcdb'\n",
    "engine = create_engine(string_, connect_args={'protocol': 'https'})\n",
    "query = \"select * from risk.pmt_hist_cyc limit 10\"\n",
    "df = pd.read_sql(query, con=engine)"
   ]
  },
  {
   "cell_type": "code",
   "execution_count": 5,
   "metadata": {},
   "outputs": [
    {
     "data": {
      "text/plain": [
       "'2.13.0'"
      ]
     },
     "execution_count": 5,
     "metadata": {},
     "output_type": "execute_result"
    }
   ],
   "source": [
    "import requests\n",
    "requests.__version__"
   ]
  },
  {
   "cell_type": "code",
   "execution_count": null,
   "metadata": {},
   "outputs": [],
   "source": []
  },
  {
   "cell_type": "code",
   "execution_count": null,
   "metadata": {},
   "outputs": [],
   "source": []
  }
 ],
 "metadata": {
  "kernelspec": {
   "display_name": "Python 2",
   "language": "python",
   "name": "python2"
  },
  "language_info": {
   "codemirror_mode": {
    "name": "ipython",
    "version": 2
   },
   "file_extension": ".py",
   "mimetype": "text/x-python",
   "name": "python",
   "nbconvert_exporter": "python",
   "pygments_lexer": "ipython2",
   "version": "2.7.16"
  }
 },
 "nbformat": 4,
 "nbformat_minor": 2
}
