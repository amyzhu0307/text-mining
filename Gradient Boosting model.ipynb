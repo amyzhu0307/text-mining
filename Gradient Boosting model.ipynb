{
 "cells": [
  {
   "cell_type": "markdown",
   "metadata": {},
   "source": [
    "# Data Preparation"
   ]
  },
  {
   "cell_type": "code",
   "execution_count": 2,
   "metadata": {},
   "outputs": [],
   "source": [
    "import pandas as pd\n",
    "import numpy as np\n",
    "from sklearn.feature_extraction.text import TfidfVectorizer\n",
    "from sklearn.feature_extraction.text import TfidfTransformer\n",
    "from sklearn.naive_bayes import MultinomialNB\n",
    "from sklearn.ensemble import GradientBoostingClassifier\n",
    "from sklearn.neighbors import KNeighborsClassifier\n",
    "from sklearn.naive_bayes import GaussianNB\n",
    "from sklearn.linear_model import LogisticRegression\n",
    "from sklearn import preprocessing\n",
    "from sklearn.feature_extraction.text import CountVectorizer"
   ]
  },
  {
   "cell_type": "code",
   "execution_count": 3,
   "metadata": {},
   "outputs": [
    {
     "name": "stderr",
     "output_type": "stream",
     "text": [
      "[nltk_data] Downloading package stopwords to\n",
      "[nltk_data]     C:\\Users\\jzhu\\AppData\\Roaming\\nltk_data...\n",
      "[nltk_data]   Package stopwords is already up-to-date!\n"
     ]
    }
   ],
   "source": [
    "import re\n",
    "import string\n",
    "import nltk\n",
    "nltk.download('stopwords')\n",
    "from nltk.corpus import stopwords\n",
    "from nltk.stem import PorterStemmer"
   ]
  },
  {
   "cell_type": "code",
   "execution_count": 4,
   "metadata": {},
   "outputs": [],
   "source": [
    "from sklearn.model_selection import train_test_split"
   ]
  },
  {
   "cell_type": "code",
   "execution_count": 6,
   "metadata": {},
   "outputs": [
    {
     "data": {
      "text/plain": [
       "'\"LiveVox rslt Answering Machine (Hung Up)  03-31-2017 08:13:06 am 8888193063\",\"sip:(915)886-8281 nml\",\"LiveVox rslt Answering Machine (Hung Up)  03-06-2017 08:31:46 am 8888193063\",\"sip:(888)819-3063 nml\",\"sip:(888)819-3063 nml\",\"LiveVox rslt Answering Ma'"
      ]
     },
     "execution_count": 6,
     "metadata": {},
     "output_type": "execute_result"
    }
   ],
   "source": [
    "raw=pd.read_csv(\"agent_note - Copy.csv\")\n",
    "raw['comments'].iloc[1]"
   ]
  },
  {
   "cell_type": "code",
   "execution_count": 6,
   "metadata": {},
   "outputs": [],
   "source": [
    "modifiedRaw = raw.dropna(subset = ['pco_prin_paid','comments']) # remove rows with NA in comments and prin_paid"
   ]
  },
  {
   "cell_type": "code",
   "execution_count": 7,
   "metadata": {},
   "outputs": [],
   "source": [
    "def get_stemmed_text(text):\n",
    "    text = text.lower() # lowercase\n",
    "    text = re.sub(\"<!--?.*?-->\",\"\",text) # removetags\n",
    "    text = re.sub(\"(\\\\d|\\\\W)+\",\" \",text) # remove special characters and digits\n",
    "    text = text.replace('[^\\w\\s]','') # remove punctuation\n",
    "    stemmer = PorterStemmer() # stemming \n",
    "    return stemmer.stem(text)"
   ]
  },
  {
   "cell_type": "code",
   "execution_count": 8,
   "metadata": {},
   "outputs": [
    {
     "name": "stderr",
     "output_type": "stream",
     "text": [
      "C:\\Users\\jzhu\\AppData\\Local\\Continuum\\anaconda2\\envs\\py2\\lib\\site-packages\\ipykernel_launcher.py:1: SettingWithCopyWarning: \n",
      "A value is trying to be set on a copy of a slice from a DataFrame.\n",
      "Try using .loc[row_indexer,col_indexer] = value instead\n",
      "\n",
      "See the caveats in the documentation: http://pandas.pydata.org/pandas-docs/stable/indexing.html#indexing-view-versus-copy\n",
      "  \"\"\"Entry point for launching an IPython kernel.\n"
     ]
    }
   ],
   "source": [
    "modifiedRaw['comments'] = modifiedRaw['comments'].apply(lambda x:get_stemmed_text(x))"
   ]
  },
  {
   "cell_type": "code",
   "execution_count": 9,
   "metadata": {},
   "outputs": [],
   "source": [
    "X = modifiedRaw['comments']"
   ]
  },
  {
   "cell_type": "code",
   "execution_count": 10,
   "metadata": {},
   "outputs": [],
   "source": [
    "Y = 1.0 * (modifiedRaw['pco_prin_paid']>0)"
   ]
  },
  {
   "cell_type": "code",
   "execution_count": 11,
   "metadata": {},
   "outputs": [],
   "source": [
    "X_train, X_test, y_train, y_test = train_test_split(X, Y, test_size = 0.33, random_state = 42)"
   ]
  },
  {
   "cell_type": "markdown",
   "metadata": {},
   "source": [
    "# Vectorization of words"
   ]
  },
  {
   "cell_type": "code",
   "execution_count": 12,
   "metadata": {},
   "outputs": [],
   "source": [
    "stop_words = set(stopwords.words('english'))\n",
    "# remove words occuring in more than 99.5% of the documents\n",
    "# remove words occuring less than 10 times\n",
    "# remove stopwords\n",
    "cv = CountVectorizer(max_df = 0.995, min_df = 20, stop_words = stop_words)\n",
    "X_train_counts = cv.fit_transform(X_train)\n",
    "tfidf_transformer = TfidfTransformer().fit(X_train_counts)\n",
    "X_train_tfidf = tfidf_transformer.transform(X_train_counts)"
   ]
  },
  {
   "cell_type": "code",
   "execution_count": 13,
   "metadata": {},
   "outputs": [
    {
     "data": {
      "text/plain": [
       "[u'aaron',\n",
       " u'ab',\n",
       " u'abandoned',\n",
       " u'able',\n",
       " u'abt',\n",
       " u'ac',\n",
       " u'acc',\n",
       " u'accept',\n",
       " u'accepted',\n",
       " u'accepting',\n",
       " u'access',\n",
       " u'accident',\n",
       " u'accidentally',\n",
       " u'accnt',\n",
       " u'accnts',\n",
       " u'acco',\n",
       " u'accordance',\n",
       " u'according',\n",
       " u'accoun',\n",
       " u'account',\n",
       " u'accounts',\n",
       " u'accredited',\n",
       " u'acct',\n",
       " u'accts',\n",
       " u'accurately',\n",
       " u'ach',\n",
       " u'act',\n",
       " u'acti',\n",
       " u'action',\n",
       " u'activ',\n",
       " u'activated',\n",
       " u'active',\n",
       " u'activity',\n",
       " u'ad',\n",
       " u'adam',\n",
       " u'adams',\n",
       " u'add',\n",
       " u'added',\n",
       " u'addition',\n",
       " u'additional',\n",
       " u'additionally',\n",
       " u'addl',\n",
       " u'addr',\n",
       " u'address',\n",
       " u'addresses',\n",
       " u'addy',\n",
       " u'adjustment',\n",
       " u'adv',\n",
       " u'advance',\n",
       " u'advantage',\n",
       " u'advc',\n",
       " u'advi',\n",
       " u'advis',\n",
       " u'advise',\n",
       " u'advised',\n",
       " u'advises',\n",
       " u'advocates',\n",
       " u'advs',\n",
       " u'advsd',\n",
       " u'advsed',\n",
       " u'adz',\n",
       " u'af',\n",
       " u'affects',\n",
       " u'afford',\n",
       " u'afternoon',\n",
       " u'ag',\n",
       " u'age',\n",
       " u'agency',\n",
       " u'agent',\n",
       " u'ago',\n",
       " u'agreed',\n",
       " u'agreement',\n",
       " u'agrees',\n",
       " u'ahead',\n",
       " u'air',\n",
       " u'ak',\n",
       " u'aka',\n",
       " u'akuzawinski',\n",
       " u'al',\n",
       " u'alan',\n",
       " u'albany',\n",
       " u'albuquerque',\n",
       " u'alert',\n",
       " u'alex',\n",
       " u'alexander',\n",
       " u'alexandria',\n",
       " u'alicia',\n",
       " u'allen',\n",
       " u'allison',\n",
       " u'allow',\n",
       " u'allowed',\n",
       " u'already',\n",
       " u'also',\n",
       " u'alt',\n",
       " u'alter',\n",
       " u'alternate',\n",
       " u'alternative',\n",
       " u'although',\n",
       " u'always',\n",
       " u'amanda',\n",
       " u'amber',\n",
       " u'america',\n",
       " u'american',\n",
       " u'americor',\n",
       " u'americorfs',\n",
       " u'americorp',\n",
       " u'amnt',\n",
       " u'amount',\n",
       " u'amounts',\n",
       " u'amt',\n",
       " u'amy',\n",
       " u'ana',\n",
       " u'anchor',\n",
       " u'anderson',\n",
       " u'andfuture',\n",
       " u'andrea',\n",
       " u'andrew',\n",
       " u'andy',\n",
       " u'angela',\n",
       " u'angeles',\n",
       " u'ann',\n",
       " u'anna',\n",
       " u'anne',\n",
       " u'anonymous',\n",
       " u'another',\n",
       " u'ans',\n",
       " u'answ',\n",
       " u'answer',\n",
       " u'answered',\n",
       " u'answeri',\n",
       " u'answerin',\n",
       " u'answering',\n",
       " u'answr',\n",
       " u'answrng',\n",
       " u'anthony',\n",
       " u'anthr',\n",
       " u'antonio',\n",
       " u'anymore',\n",
       " u'anyone',\n",
       " u'anything',\n",
       " u'anytime',\n",
       " u'ap',\n",
       " u'aparker',\n",
       " u'aph',\n",
       " u'apologize',\n",
       " u'apologized',\n",
       " u'app',\n",
       " u'applied',\n",
       " u'apply',\n",
       " u'applying',\n",
       " u'approval',\n",
       " u'approved',\n",
       " u'apr',\n",
       " u'april',\n",
       " u'apt',\n",
       " u'ar',\n",
       " u'archi',\n",
       " u'archive',\n",
       " u'archived',\n",
       " u'area',\n",
       " u'arg',\n",
       " u'arizona',\n",
       " u'arlington',\n",
       " u'arnold',\n",
       " u'around',\n",
       " u'arrangement',\n",
       " u'arrangements',\n",
       " u'arrive',\n",
       " u'ars',\n",
       " u'arsi',\n",
       " u'arthur',\n",
       " u'asap',\n",
       " u'ashley',\n",
       " u'ask',\n",
       " u'askd',\n",
       " u'asked',\n",
       " u'asking',\n",
       " u'assessed',\n",
       " u'assist',\n",
       " u'assistance',\n",
       " u'assisted',\n",
       " u'assoc',\n",
       " u'associated',\n",
       " u'associates',\n",
       " u'asst',\n",
       " u'atlanta',\n",
       " u'atm',\n",
       " u'atp',\n",
       " u'att',\n",
       " u'attached',\n",
       " u'attempt',\n",
       " u'attempted',\n",
       " u'attempts',\n",
       " u'attny',\n",
       " u'attor',\n",
       " u'attorn',\n",
       " u'attorney',\n",
       " u'attorneys',\n",
       " u'attrny',\n",
       " u'atty',\n",
       " u'aty',\n",
       " u'au',\n",
       " u'audible',\n",
       " u'aug',\n",
       " u'august',\n",
       " u'aurora',\n",
       " u'austin',\n",
       " u'aut',\n",
       " u'auth',\n",
       " u'authenticate',\n",
       " u'authenticated',\n",
       " u'autho',\n",
       " u'author',\n",
       " u'authoriz',\n",
       " u'authorizat',\n",
       " u'authorizatio',\n",
       " u'authorization',\n",
       " u'authorizations',\n",
       " u'authorize',\n",
       " u'authorized',\n",
       " u'authorizes',\n",
       " u'authz',\n",
       " u'auto',\n",
       " u'autoach',\n",
       " u'autom',\n",
       " u'automa',\n",
       " u'automat',\n",
       " u'automated',\n",
       " u'automatic',\n",
       " u'automatically',\n",
       " u'autopay',\n",
       " u'av',\n",
       " u'ava',\n",
       " u'avail',\n",
       " u'available',\n",
       " u'avay',\n",
       " u'avaya',\n",
       " u'avbl',\n",
       " u'ave',\n",
       " u'avenue',\n",
       " u'avoid',\n",
       " u'aw',\n",
       " u'aware',\n",
       " u'away',\n",
       " u'az',\n",
       " u'ba',\n",
       " u'back',\n",
       " u'background',\n",
       " u'bad',\n",
       " u'baker',\n",
       " u'bakersfield',\n",
       " u'bal',\n",
       " u'balance',\n",
       " u'baltimore',\n",
       " u'ban',\n",
       " u'bandera',\n",
       " u'bank',\n",
       " u'banking',\n",
       " u'banko',\n",
       " u'bankr',\n",
       " u'bankru',\n",
       " u'bankrup',\n",
       " u'bankrupt',\n",
       " u'bankruptc',\n",
       " u'bankruptci',\n",
       " u'bankruptcy',\n",
       " u'banks',\n",
       " u'barbara',\n",
       " u'batch',\n",
       " u'battle',\n",
       " u'bay',\n",
       " u'bc',\n",
       " u'bch',\n",
       " u'bci',\n",
       " u'bck',\n",
       " u'bckend',\n",
       " u'bckt',\n",
       " u'bd',\n",
       " u'beach',\n",
       " u'beaver',\n",
       " u'bedford',\n",
       " u'bedrock',\n",
       " u'beg',\n",
       " u'beginning',\n",
       " u'begun',\n",
       " u'behalf',\n",
       " u'behind',\n",
       " u'beloved',\n",
       " u'ben',\n",
       " u'bend',\n",
       " u'beneficiary',\n",
       " u'benefits',\n",
       " u'berkeley',\n",
       " u'best',\n",
       " u'better',\n",
       " u'betty',\n",
       " u'beverly',\n",
       " u'beyond',\n",
       " u'beyondfinance',\n",
       " u'bi',\n",
       " u'bif',\n",
       " u'big',\n",
       " u'bill',\n",
       " u'billing',\n",
       " u'bills',\n",
       " u'biz',\n",
       " u'bk',\n",
       " u'bkp',\n",
       " u'blocked',\n",
       " u'blue',\n",
       " u'blvd',\n",
       " u'bnk',\n",
       " u'bnkm',\n",
       " u'bo',\n",
       " u'bob',\n",
       " u'bobby',\n",
       " u'bonnie',\n",
       " u'bor',\n",
       " u'born',\n",
       " u'boroughs',\n",
       " u'borr',\n",
       " u'borro',\n",
       " u'borrow',\n",
       " u'borrower',\n",
       " u'boston',\n",
       " u'boulder',\n",
       " u'bounced',\n",
       " u'box',\n",
       " u'bpr',\n",
       " u'br',\n",
       " u'brad',\n",
       " u'bradley',\n",
       " u'branch',\n",
       " u'brandon',\n",
       " u'break',\n",
       " u'breakdown',\n",
       " u'breaking',\n",
       " u'brenda',\n",
       " u'brent',\n",
       " u'brian',\n",
       " u'bridge',\n",
       " u'bring',\n",
       " u'broadway',\n",
       " u'brockton',\n",
       " u'broken',\n",
       " u'bronx',\n",
       " u'brook',\n",
       " u'brooklyn',\n",
       " u'brother',\n",
       " u'brown',\n",
       " u'brr',\n",
       " u'brs',\n",
       " u'bruce',\n",
       " u'bryan',\n",
       " u'bst',\n",
       " u'bt',\n",
       " u'bu',\n",
       " u'buffalo',\n",
       " u'bus',\n",
       " u'busi',\n",
       " u'busin',\n",
       " u'business',\n",
       " u'busy',\n",
       " u'butler',\n",
       " u'bv',\n",
       " u'bwr',\n",
       " u'bz',\n",
       " u'ca',\n",
       " u'cag',\n",
       " u'cal',\n",
       " u'california',\n",
       " u'call',\n",
       " u'callback',\n",
       " u'calld',\n",
       " u'called',\n",
       " u'caller',\n",
       " u'callerid',\n",
       " u'calling',\n",
       " u'calls',\n",
       " u'came',\n",
       " u'campbell',\n",
       " u'cancel',\n",
       " u'canceled',\n",
       " u'cancellation',\n",
       " u'cancelle',\n",
       " u'cancelled',\n",
       " u'cancer',\n",
       " u'cannot',\n",
       " u'cant',\n",
       " u'canton',\n",
       " u'canyon',\n",
       " u'cape',\n",
       " u'car',\n",
       " u'card',\n",
       " u'care',\n",
       " u'carl',\n",
       " u'carla',\n",
       " u'carlos',\n",
       " u'carol',\n",
       " u'carolina',\n",
       " u'caroline',\n",
       " u'carolyn',\n",
       " u'carson',\n",
       " u'carter',\n",
       " u'case',\n",
       " u'castle',\n",
       " u'catch',\n",
       " u'catherine',\n",
       " u'caught',\n",
       " u'cause',\n",
       " u'caused',\n",
       " u'cb',\n",
       " u'cbci',\n",
       " u'cbcin',\n",
       " u'cbcinn',\n",
       " u'cbcinnovi',\n",
       " u'cbcinnovis',\n",
       " u'cboys',\n",
       " u'cbr',\n",
       " u'cc',\n",
       " u'cccs',\n",
       " u'ccs',\n",
       " u'cd',\n",
       " u'cda',\n",
       " u'cea',\n",
       " u'ceas',\n",
       " u'cease',\n",
       " u'cedar',\n",
       " u'cel',\n",
       " u'cell',\n",
       " u'cellph',\n",
       " u'cellphne',\n",
       " u'cellphon',\n",
       " u'cellphone',\n",
       " u'cells',\n",
       " u'center',\n",
       " u'central',\n",
       " u'century',\n",
       " u'centuryss',\n",
       " u'cert',\n",
       " u'certificate',\n",
       " u'cfontz',\n",
       " u'ch',\n",
       " u'cha',\n",
       " u'chan',\n",
       " u'chandler',\n",
       " u'chang',\n",
       " u'change',\n",
       " u'changed',\n",
       " u'changes',\n",
       " u'changing',\n",
       " u'chap',\n",
       " u'chapel',\n",
       " u'chapt',\n",
       " u'chapter',\n",
       " u'charge',\n",
       " u'charged',\n",
       " u'chargeoff',\n",
       " u'charles',\n",
       " u'charlotte',\n",
       " u'chase',\n",
       " u'chck',\n",
       " u'check',\n",
       " u'checking',\n",
       " u'checks',\n",
       " u'chelsea',\n",
       " u'cheryl',\n",
       " u'chester',\n",
       " u'chestnut',\n",
       " u'chg',\n",
       " u'chicago',\n",
       " u'child',\n",
       " u'chk',\n",
       " u'choice',\n",
       " u'chp',\n",
       " u'chpt',\n",
       " u'chrg',\n",
       " u'chrge',\n",
       " u'chris',\n",
       " u'christian',\n",
       " u'christina',\n",
       " u'christine',\n",
       " u'christopher',\n",
       " u'chula',\n",
       " u'church',\n",
       " u'ci',\n",
       " u'cid',\n",
       " u'cincinnati',\n",
       " u'cindy',\n",
       " u'cip',\n",
       " u'cir',\n",
       " u'circle',\n",
       " u'circumstances',\n",
       " u'city',\n",
       " u'ck',\n",
       " u'cl',\n",
       " u'claim',\n",
       " u'claimed',\n",
       " u'claiming',\n",
       " u'claims',\n",
       " u'clark',\n",
       " u'class',\n",
       " u'classic',\n",
       " u'cld',\n",
       " u'cldl',\n",
       " u'cldtr',\n",
       " u'clean',\n",
       " u'clear',\n",
       " u'clearone',\n",
       " u'clearoneadvantage',\n",
       " u'cleveland',\n",
       " u'cli',\n",
       " u'clien',\n",
       " u'client',\n",
       " u'clifton',\n",
       " u'clinton',\n",
       " u'cll',\n",
       " u'clld',\n",
       " u'clled',\n",
       " u'clls',\n",
       " u'clo',\n",
       " u'clos',\n",
       " u'close',\n",
       " u'closed',\n",
       " u'closing',\n",
       " u'closure',\n",
       " u'cls',\n",
       " u'club',\n",
       " u'cmd',\n",
       " u'cmp',\n",
       " u'cn',\n",
       " u'cnct',\n",
       " u'cni',\n",
       " u'cnt',\n",
       " u'cntct',\n",
       " u'co',\n",
       " u'coa',\n",
       " u'cod',\n",
       " u'code',\n",
       " u'col',\n",
       " u'cold',\n",
       " u'coll',\n",
       " u'collec',\n",
       " u'collect',\n",
       " u'collecti',\n",
       " u'collectio',\n",
       " u'collection',\n",
       " u'collections',\n",
       " u'collecto',\n",
       " u'collector',\n",
       " u'college',\n",
       " u'collins',\n",
       " u'colonial',\n",
       " u'colorado',\n",
       " u'columbia',\n",
       " u'columbus',\n",
       " u'com',\n",
       " u'come',\n",
       " u'comes',\n",
       " u'coming',\n",
       " u'comment',\n",
       " u'communicate',\n",
       " u'communication',\n",
       " u'communications',\n",
       " u'community',\n",
       " u'comp',\n",
       " u'companies',\n",
       " u'company',\n",
       " u'compl',\n",
       " u'complet',\n",
       " u'complete',\n",
       " u'completed',\n",
       " u'compromised',\n",
       " u'compumail',\n",
       " u'con',\n",
       " u'concern',\n",
       " u'concerning',\n",
       " u'concerns',\n",
       " u'conditions',\n",
       " u'conf',\n",
       " u'confirm',\n",
       " u'confirmation',\n",
       " u'confirmed',\n",
       " u'confirming',\n",
       " u'confusion',\n",
       " u'connected',\n",
       " u'connection',\n",
       " u'connie',\n",
       " u'cons',\n",
       " u'consent',\n",
       " u'conseq',\n",
       " u'consequences',\n",
       " u'consolidate',\n",
       " u'consolidation',\n",
       " u'consumer',\n",
       " u'cont',\n",
       " u'conta',\n",
       " u'contac',\n",
       " u'contact',\n",
       " u'contacted',\n",
       " u'contacting',\n",
       " u'contct',\n",
       " u'continue',\n",
       " u'continued',\n",
       " u'contr',\n",
       " u'contract',\n",
       " u'contractual',\n",
       " u'control',\n",
       " u'conversation',\n",
       " u'cooper',\n",
       " u'copy',\n",
       " u'coral',\n",
       " u'corey',\n",
       " u'corona',\n",
       " u'corp',\n",
       " u'corr',\n",
       " u'correct',\n",
       " u'corrected',\n",
       " u'correction',\n",
       " u'correspondence',\n",
       " u'cosigner',\n",
       " u'could',\n",
       " u'couldnt',\n",
       " u'counsel',\n",
       " u'counseling',\n",
       " u'counter',\n",
       " u'country',\n",
       " u'county',\n",
       " u'couple',\n",
       " u'court',\n",
       " u'courtesy',\n",
       " u'courtney',\n",
       " u'cove',\n",
       " u'cover',\n",
       " u'coworker',\n",
       " u'cp',\n",
       " u'cperera',\n",
       " u'cpr',\n",
       " u'cr',\n",
       " u'craig',\n",
       " u'crb',\n",
       " u'crc',\n",
       " u'crd',\n",
       " u'crea',\n",
       " u'creat',\n",
       " u'create',\n",
       " u'created',\n",
       " u'creating',\n",
       " u'cred',\n",
       " u'credit',\n",
       " u'creditcard',\n",
       " u'creditor',\n",
       " u'creditors',\n",
       " u'creek',\n",
       " u'cremation',\n",
       " u'crematory',\n",
       " u'crest',\n",
       " u'cruz',\n",
       " u'crystal',\n",
       " u'cs',\n",
       " u'csmr',\n",
       " u'css',\n",
       " u'cst',\n",
       " u'ct',\n",
       " u'ctr',\n",
       " u'cu',\n",
       " u'cummings',\n",
       " u'cur',\n",
       " u'cure',\n",
       " u'curr',\n",
       " u'current',\n",
       " u'currently',\n",
       " u'curtis',\n",
       " u'cust',\n",
       " u'customer',\n",
       " u'cut',\n",
       " u'cxl',\n",
       " u'cycle',\n",
       " u'cynthia',\n",
       " u'cypress',\n",
       " u'da',\n",
       " u'daily',\n",
       " u'dale',\n",
       " u'dallas',\n",
       " u'dan',\n",
       " u'dana',\n",
       " u'daniel',\n",
       " u'danielle',\n",
       " u'danny',\n",
       " u'dat',\n",
       " u'data',\n",
       " u'datab',\n",
       " u'databa',\n",
       " u'databas',\n",
       " u'database',\n",
       " u'date',\n",
       " u'dated',\n",
       " u'dates',\n",
       " u'daughter',\n",
       " u'david',\n",
       " u'davis',\n",
       " u'dawn',\n",
       " u'day',\n",
       " u'days',\n",
       " u'dayton',\n",
       " u'dbt',\n",
       " u'dc',\n",
       " u'dcd',\n",
       " u'dd',\n",
       " u'de',\n",
       " u'dead',\n",
       " u'dealing',\n",
       " u'dear',\n",
       " u'death',\n",
       " u'deb',\n",
       " u'debbie',\n",
       " u'debit',\n",
       " u'debiting',\n",
       " u'debits',\n",
       " u'deborah',\n",
       " u'debra',\n",
       " u'debt',\n",
       " u'debtor',\n",
       " u'debts',\n",
       " u'dec',\n",
       " u'deceased',\n",
       " u'decedent',\n",
       " u'december',\n",
       " u'decided',\n",
       " u'declaring',\n",
       " u'declined',\n",
       " u'ded',\n",
       " u'deduct',\n",
       " u'deduction',\n",
       " u'deductions',\n",
       " u'default',\n",
       " u'defense',\n",
       " u'defer',\n",
       " u'deferring',\n",
       " u'del',\n",
       " u'delay',\n",
       " u'delayed',\n",
       " u'delaying',\n",
       " u'delete',\n",
       " u'deleted',\n",
       " u'delinquency',\n",
       " u'delinquent',\n",
       " u'demos',\n",
       " u'denied',\n",
       " u'denise',\n",
       " u'dennis',\n",
       " u'denver',\n",
       " u'department',\n",
       " u'depo',\n",
       " u'deposit',\n",
       " u'dept',\n",
       " u'derek',\n",
       " u'desi',\n",
       " u'desist',\n",
       " u'desk',\n",
       " u'details',\n",
       " u'detect',\n",
       " u'determine',\n",
       " u'detroit',\n",
       " u'di',\n",
       " u'dial',\n",
       " u'dialed',\n",
       " u'dialer',\n",
       " u'diana',\n",
       " u'diane',\n",
       " u'didnt',\n",
       " u'died',\n",
       " u'diego',\n",
       " u'diff',\n",
       " u'different',\n",
       " u'difficulties',\n",
       " u'difficulty',\n",
       " u'dignity',\n",
       " u'direct',\n",
       " u'directed',\n",
       " u'direction',\n",
       " u'directly',\n",
       " u'directory',\n",
       " u'disability',\n",
       " u'disc',\n",
       " u'discharged',\n",
       " u'disclose',\n",
       " u'disclosure',\n",
       " u'disco',\n",
       " u'disconn',\n",
       " u'disconnect',\n",
       " u'disconnected',\n",
       " u'discontinue',\n",
       " u'discuss',\n",
       " u'discussed',\n",
       " u'dismissed',\n",
       " u'disp',\n",
       " u'dispute',\n",
       " u'disregard',\n",
       " u'district',\n",
       " u'divorce',\n",
       " u'dl',\n",
       " u'dlq',\n",
       " u'dm',\n",
       " u'dmb',\n",
       " u'dmbfinancial',\n",
       " u'dmc',\n",
       " u'dnc',\n",
       " u'dnt',\n",
       " u'doan',\n",
       " u'dob',\n",
       " u'doc',\n",
       " u'docs',\n",
       " u'document',\n",
       " u'documentation',\n",
       " u'documents',\n",
       " u'dod',\n",
       " u'doesnt',\n",
       " u'dollar',\n",
       " u'donald',\n",
       " u'done',\n",
       " u'donna',\n",
       " u'donotcall',\n",
       " u'dont',\n",
       " u'double',\n",
       " u'doug',\n",
       " u'douglas',\n",
       " u'dover',\n",
       " u'dp',\n",
       " u'dpv',\n",
       " u'dr',\n",
       " u'draft',\n",
       " u'drafted',\n",
       " u'drafts',\n",
       " u'drive',\n",
       " u'driver',\n",
       " u'driving',\n",
       " u'drop',\n",
       " u'dropped',\n",
       " u'dsc',\n",
       " u'dsic',\n",
       " u'dt',\n",
       " u'dte',\n",
       " u'du',\n",
       " u'due',\n",
       " u'dup',\n",
       " u'dupe',\n",
       " u'dupl',\n",
       " u'dupli',\n",
       " u'duplicate',\n",
       " u'dupp',\n",
       " u'dupssn',\n",
       " u'duration',\n",
       " u'dustin',\n",
       " u'dy',\n",
       " u'dys',\n",
       " u'ea',\n",
       " u'earlier',\n",
       " u'early',\n",
       " u'east',\n",
       " u'easy',\n",
       " u'eddie',\n",
       " u'edit',\n",
       " u'edward',\n",
       " u'effective',\n",
       " u'efforts',\n",
       " u'either',\n",
       " u'el',\n",
       " u'electronic',\n",
       " u'eligible',\n",
       " u'elite',\n",
       " u'elizabeth',\n",
       " u'elizabethg',\n",
       " u'elm',\n",
       " u'elmhurst',\n",
       " u'else',\n",
       " u'em',\n",
       " u'ema',\n",
       " u'emai',\n",
       " u'email',\n",
       " u'emailed',\n",
       " u'emails',\n",
       " u'emergency',\n",
       " u'emily',\n",
       " u'emp',\n",
       " u'employed',\n",
       " u'employee',\n",
       " u'employees',\n",
       " u'employer',\n",
       " u'employment',\n",
       " u'encountering',\n",
       " u'end',\n",
       " u'ended',\n",
       " u'ending',\n",
       " u'ends',\n",
       " u'engaged',\n",
       " u'english',\n",
       " u'enough',\n",
       " u'enrolled',\n",
       " u'ensure',\n",
       " u'ent',\n",
       " u'enter',\n",
       " u'entered',\n",
       " u'entry',\n",
       " u'eoc',\n",
       " u'eom',\n",
       " u'ep',\n",
       " u'epatrick',\n",
       " u'eq',\n",
       " u'equifax',\n",
       " u'er',\n",
       " u'eric',\n",
       " u'erin',\n",
       " u'ernest',\n",
       " u'error',\n",
       " u'es',\n",
       " u'esq',\n",
       " u'est',\n",
       " u'estate',\n",
       " u'et',\n",
       " u'etl',\n",
       " u'eugene',\n",
       " u'even',\n",
       " u'evening',\n",
       " u'event',\n",
       " u'everett',\n",
       " u'every',\n",
       " u'everything',\n",
       " u'ex',\n",
       " u'executor',\n",
       " u'exercise',\n",
       " u'existing',\n",
       " u'exp',\n",
       " u'expected',\n",
       " u'expense',\n",
       " u'expenses',\n",
       " u'experian',\n",
       " u'experienced',\n",
       " u'experiencing',\n",
       " u'explain',\n",
       " u'explained',\n",
       " u'ext',\n",
       " u'extended',\n",
       " u'extension',\n",
       " u'external',\n",
       " u'extra',\n",
       " u'fa',\n",
       " u'fai',\n",
       " u'fail',\n",
       " u'faild',\n",
       " u'failed',\n",
       " u'fails',\n",
       " u'fair',\n",
       " u'faith',\n",
       " u'fall',\n",
       " u'falls',\n",
       " u'fam',\n",
       " u'family',\n",
       " u'fargo',\n",
       " u'fast',\n",
       " u'fastd',\n",
       " u'fastda',\n",
       " u'fastdat',\n",
       " u'fastdata',\n",
       " u'faster',\n",
       " u'father',\n",
       " u'fax',\n",
       " u'faxed',\n",
       " u'fdr',\n",
       " u'fe',\n",
       " u'feb',\n",
       " u'february',\n",
       " u'federal',\n",
       " u'fee',\n",
       " u'fees',\n",
       " u'fell',\n",
       " u'fem',\n",
       " u'female',\n",
       " u'fer',\n",
       " u'fi',\n",
       " u'fico',\n",
       " u'field',\n",
       " u'fil',\n",
       " u'file',\n",
       " u'filed',\n",
       " u'filedist',\n",
       " u'filing',\n",
       " u'filled',\n",
       " u'filling',\n",
       " u'fin',\n",
       " u'final',\n",
       " u'finance',\n",
       " u'finances',\n",
       " u'financial',\n",
       " u'financialaccounts',\n",
       " u'find',\n",
       " u'fine',\n",
       " u'fir',\n",
       " u'firm',\n",
       " u'first',\n",
       " ...]"
      ]
     },
     "execution_count": 13,
     "metadata": {},
     "output_type": "execute_result"
    }
   ],
   "source": [
    "cv.get_feature_names() # 2985 words being used as attributes"
   ]
  },
  {
   "cell_type": "markdown",
   "metadata": {},
   "source": [
    "# GMB Model"
   ]
  },
  {
   "cell_type": "code",
   "execution_count": 14,
   "metadata": {},
   "outputs": [],
   "source": [
    "#learning_rate = [0.05, 0.1, 0.25, 0.5, 0.75, 1]\n",
    "gb = GradientBoostingClassifier(n_estimators=10, max_features=2, max_depth = 2, random_state = 0)"
   ]
  },
  {
   "cell_type": "code",
   "execution_count": 15,
   "metadata": {},
   "outputs": [
    {
     "data": {
      "text/plain": [
       "GradientBoostingClassifier(criterion='friedman_mse', init=None,\n",
       "              learning_rate=0.1, loss='deviance', max_depth=2,\n",
       "              max_features=2, max_leaf_nodes=None,\n",
       "              min_impurity_decrease=0.0, min_impurity_split=None,\n",
       "              min_samples_leaf=1, min_samples_split=2,\n",
       "              min_weight_fraction_leaf=0.0, n_estimators=10,\n",
       "              n_iter_no_change=None, presort='auto', random_state=0,\n",
       "              subsample=1.0, tol=0.0001, validation_fraction=0.1,\n",
       "              verbose=0, warm_start=False)"
      ]
     },
     "execution_count": 15,
     "metadata": {},
     "output_type": "execute_result"
    }
   ],
   "source": [
    "model = gb.fit(X_train_tfidf, y_train)\n",
    "model"
   ]
  },
  {
   "cell_type": "markdown",
   "metadata": {},
   "source": [
    "# Feature Importance"
   ]
  },
  {
   "cell_type": "code",
   "execution_count": 54,
   "metadata": {},
   "outputs": [
    {
     "data": {
      "text/plain": [
       "array([0.00000000e+00, 0.00000000e+00, 0.00000000e+00, 0.00000000e+00,\n",
       "       0.00000000e+00, 1.70831862e-09, 9.10366057e-06, 2.14418736e-05,\n",
       "       3.77168559e-05, 4.43839607e-05, 5.27518909e-05, 1.04992070e-04,\n",
       "       8.19329449e-04, 1.64048369e-03, 1.86557201e-03, 2.56962468e-03,\n",
       "       3.69921505e-03, 5.21637288e-03, 5.65921948e-03, 6.83635687e-03,\n",
       "       8.28408268e-03, 8.59664661e-03, 8.89482672e-03, 9.20618292e-03,\n",
       "       1.13222309e-02, 1.17880397e-02, 1.39376433e-02, 1.67884446e-02,\n",
       "       1.88317854e-02, 2.59568154e-02, 5.14072750e-02, 5.45425620e-02,\n",
       "       1.61666602e-01, 2.50762567e-01, 3.19437730e-01])"
      ]
     },
     "execution_count": 54,
     "metadata": {},
     "output_type": "execute_result"
    }
   ],
   "source": [
    "nt_feature_importance = model.feature_importances_\n",
    "nt_feature_importance.sort()\n",
    "nt_feature_importance[2950:]"
   ]
  },
  {
   "cell_type": "markdown",
   "metadata": {},
   "source": [
    "# Feature selection"
   ]
  },
  {
   "cell_type": "code",
   "execution_count": 17,
   "metadata": {},
   "outputs": [
    {
     "data": {
      "text/plain": [
       "array([2004, 1694,  771, 1899, 2016, 1749, 1190, 2182, 1441,  274, 1746,\n",
       "       2821, 2305, 2337, 1069,  250, 2307,   43, 1428,  383,  300,  772,\n",
       "       2679,  361, 2923, 2300,  921, 1139,  131, 1340], dtype=int64)"
      ]
     },
     "execution_count": 17,
     "metadata": {},
     "output_type": "execute_result"
    }
   ],
   "source": [
    "nt_feature_importance = model.feature_importances_\n",
    "nt_sorted_idx = np.argsort(-nt_feature_importance)\n",
    "select = nt_sorted_idx[:30]\n",
    "select "
   ]
  },
  {
   "cell_type": "code",
   "execution_count": 18,
   "metadata": {},
   "outputs": [
    {
     "data": {
      "text/plain": [
       "<184906x30 sparse matrix of type '<type 'numpy.float64'>'\n",
       "\twith 61431 stored elements in Compressed Sparse Row format>"
      ]
     },
     "execution_count": 18,
     "metadata": {},
     "output_type": "execute_result"
    }
   ],
   "source": [
    "X_train_tfidf[:,select]"
   ]
  },
  {
   "cell_type": "code",
   "execution_count": 19,
   "metadata": {},
   "outputs": [
    {
     "data": {
      "text/plain": [
       "array([2004, 1694,  771, 1899, 2016, 1749, 1190, 2182, 1441,  274, 1746,\n",
       "       2821, 2305, 2337, 1069,  250, 2307,   43, 1428,  383,  300,  772,\n",
       "       2679,  361, 2923, 2300,  921, 1139,  131, 1340], dtype=int64)"
      ]
     },
     "execution_count": 19,
     "metadata": {},
     "output_type": "execute_result"
    }
   ],
   "source": [
    "select"
   ]
  },
  {
   "cell_type": "code",
   "execution_count": 20,
   "metadata": {},
   "outputs": [
    {
     "data": {
      "text/plain": [
       "[u'portal',\n",
       " u'mp',\n",
       " u'died',\n",
       " u'party',\n",
       " u'pp',\n",
       " u'nightly',\n",
       " u'hospital',\n",
       " u'relations',\n",
       " u'legal',\n",
       " u'bck',\n",
       " u'nicholas',\n",
       " u'virginia',\n",
       " u'rpc',\n",
       " u'says',\n",
       " u'gardens',\n",
       " u'bakersfield',\n",
       " u'rpv',\n",
       " u'address',\n",
       " u'lcskipjune',\n",
       " u'cancellation',\n",
       " u'bif',\n",
       " u'diego',\n",
       " u'tracker',\n",
       " u'business',\n",
       " u'work',\n",
       " u'ronald',\n",
       " u'eugene',\n",
       " u'hardship',\n",
       " u'answering',\n",
       " u'julie']"
      ]
     },
     "execution_count": 20,
     "metadata": {},
     "output_type": "execute_result"
    }
   ],
   "source": [
    "X_selected = [cv.get_feature_names()[select[i]] for i in range(30)]\n",
    "X_selected"
   ]
  },
  {
   "cell_type": "code",
   "execution_count": 21,
   "metadata": {},
   "outputs": [],
   "source": [
    "freq = X_train_counts.toarray().sum(axis = 0)"
   ]
  },
  {
   "cell_type": "code",
   "execution_count": 22,
   "metadata": {},
   "outputs": [
    {
     "data": {
      "text/plain": [
       "array([17976,  3493,    92,  5518,  1200,   431,   139,   373,  1053,\n",
       "         533,    52,    62,    23,   332,    25,    40,   103, 16901,\n",
       "         136,    46,    21,    94,   247,  1220,  3220,    62,    22,\n",
       "        2205, 25189,    65], dtype=int64)"
      ]
     },
     "execution_count": 22,
     "metadata": {},
     "output_type": "execute_result"
    }
   ],
   "source": [
    "freq[select] # frequency of selected words"
   ]
  },
  {
   "cell_type": "code",
   "execution_count": null,
   "metadata": {},
   "outputs": [],
   "source": [
    "train = pd.DataFrame()"
   ]
  },
  {
   "cell_type": "code",
   "execution_count": 229,
   "metadata": {},
   "outputs": [
    {
     "data": {
      "text/plain": [
       "(1.0, 0.7960895264701, 0.7961721090716364)"
      ]
     },
     "execution_count": 229,
     "metadata": {},
     "output_type": "execute_result"
    }
   ],
   "source": [
    "train['y'] = y_train\n",
    "train['pred1']= model.predict(X_train_counts)\n",
    "train['proba']= model.predict_proba(X_train_counts)[:,1]\n",
    "train['pred1'].mean(), train['proba'].mean(),y_train.mean()"
   ]
  },
  {
   "cell_type": "code",
   "execution_count": 170,
   "metadata": {},
   "outputs": [
    {
     "data": {
      "text/plain": [
       "0.2038278909283636"
      ]
     },
     "execution_count": 170,
     "metadata": {},
     "output_type": "execute_result"
    }
   ],
   "source": [
    "train['pred1_right'] = 1.0 * (train['pred1']==train['y'])\n",
    "train['pred1_wrong']= 1 - train['pred1_right']\n",
    "train.pred1_wrong.mean()"
   ]
  },
  {
   "cell_type": "code",
   "execution_count": null,
   "metadata": {},
   "outputs": [],
   "source": []
  },
  {
   "cell_type": "code",
   "execution_count": 31,
   "metadata": {},
   "outputs": [],
   "source": [
    "X_test_counts = cv.transform(X_test)"
   ]
  },
  {
   "cell_type": "code",
   "execution_count": 32,
   "metadata": {},
   "outputs": [],
   "source": [
    "X_test_tfidf = tfidf_transformer.transform(X_test_counts)"
   ]
  },
  {
   "cell_type": "code",
   "execution_count": 33,
   "metadata": {},
   "outputs": [],
   "source": [
    "test = pd.DataFrame()"
   ]
  },
  {
   "cell_type": "code",
   "execution_count": 34,
   "metadata": {},
   "outputs": [
    {
     "data": {
      "text/plain": [
       "(1.0, 0.7961195888847279, 0.796297516305422)"
      ]
     },
     "execution_count": 34,
     "metadata": {},
     "output_type": "execute_result"
    }
   ],
   "source": [
    "test['y'] = y_test\n",
    "test['pred1']= model.predict(X_test_counts)\n",
    "test['proba']= model.predict_proba(X_test_counts)[:,1]\n",
    "test['pred1'].mean(), test['proba'].mean(),y_test.mean()"
   ]
  },
  {
   "cell_type": "code",
   "execution_count": 35,
   "metadata": {},
   "outputs": [
    {
     "data": {
      "text/plain": [
       "0.20370248369457802"
      ]
     },
     "execution_count": 35,
     "metadata": {},
     "output_type": "execute_result"
    }
   ],
   "source": [
    "test['pred1_right'] = 1.0 * (test['pred1']==test['y'])\n",
    "test['pred1_wrong']= 1 - test['pred1_right']\n",
    "test.pred1_wrong.mean()"
   ]
  },
  {
   "cell_type": "markdown",
   "metadata": {},
   "source": [
    "# Logistic Regression after Feature Selection"
   ]
  },
  {
   "cell_type": "code",
   "execution_count": 64,
   "metadata": {},
   "outputs": [],
   "source": [
    "from sklearn.linear_model import LogisticRegression\n",
    "clf = LogisticRegression(penalty='l2',random_state=0, solver='sag', C=0.5,n_jobs=4).fit(X_train_tfidf[:,select], y_train)"
   ]
  },
  {
   "cell_type": "markdown",
   "metadata": {},
   "source": [
    "# Model Evaluation"
   ]
  },
  {
   "cell_type": "code",
   "execution_count": 37,
   "metadata": {},
   "outputs": [],
   "source": [
    "train = pd.DataFrame()\n",
    "train['y'] = y_train\n",
    "train['pred1']= clf.predict(X_train_counts[:,select])\n",
    "train['proba']= clf.predict_proba(X_train_counts[:,select])[:,1]"
   ]
  },
  {
   "cell_type": "code",
   "execution_count": 38,
   "metadata": {},
   "outputs": [
    {
     "data": {
      "text/plain": [
       "(0.9803413626383135, 0.819790313813094, 0.7961721090716364)"
      ]
     },
     "execution_count": 38,
     "metadata": {},
     "output_type": "execute_result"
    }
   ],
   "source": [
    "train['pred1'].mean(), train['proba'].mean(),y_train.mean()"
   ]
  },
  {
   "cell_type": "code",
   "execution_count": 39,
   "metadata": {},
   "outputs": [
    {
     "data": {
      "text/plain": [
       "0.2089494121337328"
      ]
     },
     "execution_count": 39,
     "metadata": {},
     "output_type": "execute_result"
    }
   ],
   "source": [
    "train['pred1_right'] = 1.0 * (train['pred1']==train['y'])\n",
    "train['pred1_wrong']= 1 - train['pred1_right']\n",
    "train.pred1_wrong.mean()"
   ]
  },
  {
   "cell_type": "code",
   "execution_count": 42,
   "metadata": {},
   "outputs": [
    {
     "name": "stdout",
     "output_type": "stream",
     "text": [
      "              precision    recall  f1-score   support\n",
      "\n",
      "         0.0       0.04      0.37      0.07      3635\n",
      "         1.0       0.98      0.80      0.88    181271\n",
      "\n",
      "   micro avg       0.79      0.79      0.79    184906\n",
      "   macro avg       0.51      0.58      0.47    184906\n",
      "weighted avg       0.97      0.79      0.87    184906\n",
      "\n"
     ]
    }
   ],
   "source": [
    "from sklearn.metrics import classification_report\n",
    "print(classification_report(train['pred1'], train['y']))"
   ]
  },
  {
   "cell_type": "code",
   "execution_count": 48,
   "metadata": {},
   "outputs": [
    {
     "data": {
      "text/plain": [
       "0.7910505878662671"
      ]
     },
     "execution_count": 48,
     "metadata": {},
     "output_type": "execute_result"
    }
   ],
   "source": [
    "from sklearn.metrics import accuracy_score\n",
    "accuracy_score(train['y'], train['pred1'], normalize = True)"
   ]
  },
  {
   "cell_type": "code",
   "execution_count": 47,
   "metadata": {},
   "outputs": [
    {
     "data": {
      "text/plain": [
       "[<matplotlib.lines.Line2D at 0x1ca84ef0>]"
      ]
     },
     "execution_count": 47,
     "metadata": {},
     "output_type": "execute_result"
    },
    {
     "data": {
      "image/png": "[encoded data removed]",
      "text/plain": [
       "<Figure size 432x288 with 1 Axes>"
      ]
     },
     "metadata": {
      "needs_background": "light"
     },
     "output_type": "display_data"
    }
   ],
   "source": [
    "from sklearn.metrics import roc_curve\n",
    "import matplotlib.pyplot as plt\n",
    "y_pred_prob = clf.predict_proba(X_train_counts[:,select])[:,1]\n",
    "fpr, tpr, thresholds = roc_curve(y_train, y_pred_prob)\n",
    "plt.plot(fpr, tpr, label = 'Logistic Regression')\n",
    "plt.plot([0,1],[0,1],'k--')"
   ]
  },
  {
   "cell_type": "code",
   "execution_count": 49,
   "metadata": {},
   "outputs": [
    {
     "data": {
      "text/plain": [
       "0.5670175181225953"
      ]
     },
     "execution_count": 49,
     "metadata": {},
     "output_type": "execute_result"
    }
   ],
   "source": [
    "import sklearn.metrics as me\n",
    "auc = me.roc_auc_score(y_train, y_pred_prob)\n",
    "auc"
   ]
  },
  {
   "cell_type": "code",
   "execution_count": 50,
   "metadata": {},
   "outputs": [
    {
     "data": {
      "text/plain": [
       "0.1177917789406499"
      ]
     },
     "execution_count": 50,
     "metadata": {},
     "output_type": "execute_result"
    }
   ],
   "source": [
    "ks=max(tpr-fpr)\n",
    "ks"
   ]
  },
  {
   "cell_type": "markdown",
   "metadata": {},
   "source": [
    "Test Set Validation"
   ]
  },
  {
   "cell_type": "code",
   "execution_count": 57,
   "metadata": {},
   "outputs": [],
   "source": [
    "test = pd.DataFrame()\n",
    "test['y'] = y_test\n",
    "test['pred1']= clf.predict(X_test_tfidf[:,select])"
   ]
  },
  {
   "cell_type": "code",
   "execution_count": 58,
   "metadata": {},
   "outputs": [
    {
     "data": {
      "text/plain": [
       "0.20362562311966093"
      ]
     },
     "execution_count": 58,
     "metadata": {},
     "output_type": "execute_result"
    }
   ],
   "source": [
    "test['pred1_right'] = 1.0 * (test['pred1']==test['y'])\n",
    "test['pred1_wrong']= 1 - test['pred1_right']\n",
    "test.pred1_wrong.mean()"
   ]
  },
  {
   "cell_type": "code",
   "execution_count": 59,
   "metadata": {},
   "outputs": [
    {
     "name": "stdout",
     "output_type": "stream",
     "text": [
      "              precision    recall  f1-score   support\n",
      "\n",
      "         0.0       0.00      0.57      0.00        47\n",
      "         1.0       1.00      0.80      0.89     91027\n",
      "\n",
      "   micro avg       0.80      0.80      0.80     91074\n",
      "   macro avg       0.50      0.69      0.44     91074\n",
      "weighted avg       1.00      0.80      0.89     91074\n",
      "\n"
     ]
    }
   ],
   "source": [
    "print(classification_report(test['pred1'], test['y']))"
   ]
  },
  {
   "cell_type": "code",
   "execution_count": 60,
   "metadata": {},
   "outputs": [],
   "source": [
    "y_pred_proba = clf.predict_proba(X_test_counts[:,select])[:,1]\n",
    "fpr, tpr, thresholds = roc_curve(y_test, y_pred_proba)"
   ]
  },
  {
   "cell_type": "code",
   "execution_count": 61,
   "metadata": {},
   "outputs": [
    {
     "data": {
      "text/plain": [
       "[<matplotlib.lines.Line2D at 0x1c560860>]"
      ]
     },
     "execution_count": 61,
     "metadata": {},
     "output_type": "execute_result"
    },
    {
     "data": {
      "image/png": "[encoded data removed]",
      "text/plain": [
       "<Figure size 432x288 with 1 Axes>"
      ]
     },
     "metadata": {
      "needs_background": "light"
     },
     "output_type": "display_data"
    }
   ],
   "source": [
    "plt.plot(fpr, tpr, label = 'Logistic Regression')\n",
    "plt.plot([0,1],[0,1],'k--')"
   ]
  },
  {
   "cell_type": "code",
   "execution_count": 62,
   "metadata": {},
   "outputs": [
    {
     "data": {
      "text/plain": [
       "0.5670782248033603"
      ]
     },
     "execution_count": 62,
     "metadata": {},
     "output_type": "execute_result"
    }
   ],
   "source": [
    "auc1 = me.roc_auc_score(y_test, y_pred_proba)\n",
    "auc1"
   ]
  },
  {
   "cell_type": "code",
   "execution_count": 63,
   "metadata": {},
   "outputs": [
    {
     "data": {
      "text/plain": [
       "0.11814085999972956"
      ]
     },
     "execution_count": 63,
     "metadata": {},
     "output_type": "execute_result"
    }
   ],
   "source": [
    "ks=max(tpr-fpr)\n",
    "ks"
   ]
  },
  {
   "cell_type": "code",
   "execution_count": null,
   "metadata": {},
   "outputs": [],
   "source": []
  }
 ],
 "metadata": {
  "kernelspec": {
   "display_name": "Python 2",
   "language": "python",
   "name": "python2"
  },
  "language_info": {
   "codemirror_mode": {
    "name": "ipython",
    "version": 2
   },
   "file_extension": ".py",
   "mimetype": "text/x-python",
   "name": "python",
   "nbconvert_exporter": "python",
   "pygments_lexer": "ipython2",
   "version": "2.7.16"
  }
 },
 "nbformat": 4,
 "nbformat_minor": 2
}
